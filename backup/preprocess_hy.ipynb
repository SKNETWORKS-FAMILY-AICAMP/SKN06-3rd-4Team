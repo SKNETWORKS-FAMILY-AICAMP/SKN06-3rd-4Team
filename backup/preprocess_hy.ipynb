{
 "cells": [
  {
   "cell_type": "markdown",
   "id": "b5861505",
   "metadata": {},
   "source": [
    "## 데이터로드"
   ]
  },
  {
   "cell_type": "code",
   "execution_count": 1,
   "id": "cf717c35",
   "metadata": {},
   "outputs": [],
   "source": [
    "from langchain_chroma import Chroma\n",
    "from langchain_openai import OpenAIEmbeddings, ChatOpenAI\n",
    "from langchain_text_splitters import RecursiveCharacterTextSplitter\n",
    "from langchain.prompts import ChatPromptTemplate\n",
    "from langchain_core.runnables import RunnablePassthrough\n",
    "from langchain.globals import set_llm_cache\n",
    "from langchain.cache import InMemoryCache, SQLiteCache\n",
    "from langchain_core.output_parsers import StrOutputParser\n",
    "from langchain_core.vectorstores import InMemoryVectorStore\n",
    "from langchain_core.documents import Document\n",
    "from langchain_community.document_loaders import PyMuPDFLoader\n",
    "from langchain_openai import OpenAIEmbeddings, ChatOpenAI\n",
    "\n",
    "import pandas as pd\n",
    "\n",
    "import os\n",
    "import re\n",
    "\n",
    "from dotenv import load_dotenv\n",
    "load_dotenv()\n",
    "\n",
    "def get_file_names(folder_path, format=\".pdf\"):\n",
    "    \"\"\"\n",
    "    주어진 폴더 내에 있는 PDF 파일들의 이름을 리스트로 반환합니다.\n",
    "    \"\"\"\n",
    "    import os\n",
    "    \n",
    "    try:\n",
    "        all_files = os.listdir(folder_path)\n",
    "        pdf_files = [file.replace(format,\"\") for file in all_files if file.lower().endswith(format)]\n",
    "        \n",
    "        return pdf_files\n",
    "    except FileNotFoundError:\n",
    "        print(f\"Error: 폴더 '{folder_path}'를 찾을 수 없습니다.\")\n",
    "        return []\n",
    "    except Exception as e:\n",
    "        print(f\"Error: {e}\")\n",
    "        return []\n",
    "    "
   ]
  },
  {
   "cell_type": "code",
   "execution_count": 2,
   "id": "6232293d",
   "metadata": {},
   "outputs": [],
   "source": [
    "def load_and_split_tax_law(file_name):\n",
    "    \n",
    "    \"\"\"\n",
    "    PDF 파일들을 처리하여 임베딩을 Chroma Vector Store에 저장합니다.\n",
    "    \"\"\"\n",
    "\n",
    "    file_path = f\"data/tax_law/{file_name}.pdf\"\n",
    "\n",
    "    loader = PyMuPDFLoader(file_path)\n",
    "    load_document = loader.load()\n",
    "\n",
    "    # 전처리 - 반복 텍스트 삭제\n",
    "    delete_pattern_1 = rf\"법제처\\s*\\d+\\s*국가법령정보센터\\n{file_name.replace('_', ' ')}\\n\" \n",
    "    delete_pattern_2 = r'\\[[\\s\\S]*?\\]'\n",
    "    delete_pattern_3 = r'<[\\s\\S]*?>'\n",
    "    \n",
    "    full_text = \" \".join([document.page_content for document in load_document])\n",
    "    \n",
    "    full_text = re.sub(delete_pattern_1, \"\", full_text)\n",
    "    full_text=re.sub(delete_pattern_2, '', full_text)\n",
    "    full_text=re.sub(delete_pattern_3, '', full_text)\n",
    "    \n",
    "    # 전처리 - split\n",
    "    split_pattern = r\"\\s*\\n(제\\d+조(?:의\\d+)?(?:\\([^)]*\\))?)(?=\\s|$)\"\n",
    "    chunks = re.split(split_pattern, full_text)\n",
    "\n",
    "    chunk_docs = []  # 최종 return 할 list\n",
    "    connected_chunks = [] \n",
    "    current_chunk = \"\"\n",
    "    is_buchik_section = False \n",
    "    \n",
    "    # 전처리 - 일반 조항과 부칙의 조항과 구별하기 위해 접두어 '부칙-'을 넣음.\n",
    "    for chunk in chunks:\n",
    "        if re.search(r\"\\n\\s*부칙\", chunk): \n",
    "            is_buchik_section = True\n",
    "\n",
    "        if chunk.startswith(\"제\") and \"조\" in chunk: \n",
    "            if is_buchik_section:\n",
    "                chunk = \"부칙-\" + chunk\n",
    "\n",
    "            if current_chunk:\n",
    "                connected_chunks.append(current_chunk.strip())\n",
    "            current_chunk = chunk \n",
    "        else:\n",
    "            current_chunk += f\" {chunk}\" \n",
    "\n",
    "    if current_chunk:\n",
    "        connected_chunks.append(current_chunk.strip())\n",
    "\n",
    "    for chunk in connected_chunks:\n",
    "        pattern =  r\"^(?:부칙-)?제\\d+조(?:의\\d*)?(?:\\([^)]*\\))?\"\n",
    "\n",
    "        keyword = ''\n",
    "        keyword += file_name\n",
    "        \n",
    "        match = re.search(pattern, chunk)\n",
    "        if match:\n",
    "            word = match.group()\n",
    "            word = re.sub(r'\\s+', ' ', word)\n",
    "            keyword += word \n",
    "            \n",
    "        doc = Document(metadata={\"title\": file_name, \"keyword\":keyword, \"effective_year\": 2025 }, page_content=chunk),\n",
    "        \n",
    "        chunk_docs.extend(doc)\n",
    "        \n",
    "    return chunk_docs"
   ]
  },
  {
   "cell_type": "code",
   "execution_count": 3,
   "id": "20d64a6d",
   "metadata": {},
   "outputs": [
    {
     "name": "stderr",
     "output_type": "stream",
     "text": [
      "c:\\Users\\Playdata\\miniconda3\\envs\\langchain\\Lib\\site-packages\\langchain_community\\document_loaders\\parsers\\pdf.py:300: UserWarning: Warning: Empty content on page 0 of document data/tax_etc/2024_핵심_개정세법.pdf\n",
      "  warnings.warn(\n",
      "c:\\Users\\Playdata\\miniconda3\\envs\\langchain\\Lib\\site-packages\\langchain_community\\document_loaders\\parsers\\pdf.py:300: UserWarning: Warning: Empty content on page 1 of document data/tax_etc/2024_핵심_개정세법.pdf\n",
      "  warnings.warn(\n",
      "c:\\Users\\Playdata\\miniconda3\\envs\\langchain\\Lib\\site-packages\\langchain_community\\document_loaders\\parsers\\pdf.py:300: UserWarning: Warning: Empty content on page 15 of document data/tax_etc/2024_핵심_개정세법.pdf\n",
      "  warnings.warn(\n",
      "c:\\Users\\Playdata\\miniconda3\\envs\\langchain\\Lib\\site-packages\\langchain_community\\document_loaders\\parsers\\pdf.py:300: UserWarning: Warning: Empty content on page 17 of document data/tax_etc/2024_핵심_개정세법.pdf\n",
      "  warnings.warn(\n",
      "c:\\Users\\Playdata\\miniconda3\\envs\\langchain\\Lib\\site-packages\\langchain_community\\document_loaders\\parsers\\pdf.py:300: UserWarning: Warning: Empty content on page 43 of document data/tax_etc/2024_핵심_개정세법.pdf\n",
      "  warnings.warn(\n",
      "c:\\Users\\Playdata\\miniconda3\\envs\\langchain\\Lib\\site-packages\\langchain_community\\document_loaders\\parsers\\pdf.py:300: UserWarning: Warning: Empty content on page 71 of document data/tax_etc/2024_핵심_개정세법.pdf\n",
      "  warnings.warn(\n",
      "c:\\Users\\Playdata\\miniconda3\\envs\\langchain\\Lib\\site-packages\\langchain_community\\document_loaders\\parsers\\pdf.py:300: UserWarning: Warning: Empty content on page 15 of document data/tax_etc/연말정산_신고안내.pdf\n",
      "  warnings.warn(\n",
      "c:\\Users\\Playdata\\miniconda3\\envs\\langchain\\Lib\\site-packages\\langchain_community\\document_loaders\\parsers\\pdf.py:300: UserWarning: Warning: Empty content on page 37 of document data/tax_etc/연말정산_신고안내.pdf\n",
      "  warnings.warn(\n",
      "c:\\Users\\Playdata\\miniconda3\\envs\\langchain\\Lib\\site-packages\\langchain_community\\document_loaders\\parsers\\pdf.py:300: UserWarning: Warning: Empty content on page 223 of document data/tax_etc/연말정산_신고안내.pdf\n",
      "  warnings.warn(\n",
      "c:\\Users\\Playdata\\miniconda3\\envs\\langchain\\Lib\\site-packages\\langchain_community\\document_loaders\\parsers\\pdf.py:300: UserWarning: Warning: Empty content on page 1 of document data/tax_etc/연말정산_주택자금·월세액_공제의이해.pdf\n",
      "  warnings.warn(\n",
      "c:\\Users\\Playdata\\miniconda3\\envs\\langchain\\Lib\\site-packages\\langchain_community\\document_loaders\\parsers\\pdf.py:300: UserWarning: Warning: Empty content on page 3 of document data/tax_etc/연말정산_주택자금·월세액_공제의이해.pdf\n",
      "  warnings.warn(\n",
      "c:\\Users\\Playdata\\miniconda3\\envs\\langchain\\Lib\\site-packages\\langchain_community\\document_loaders\\parsers\\pdf.py:300: UserWarning: Warning: Empty content on page 5 of document data/tax_etc/연말정산_주택자금·월세액_공제의이해.pdf\n",
      "  warnings.warn(\n",
      "c:\\Users\\Playdata\\miniconda3\\envs\\langchain\\Lib\\site-packages\\langchain_community\\document_loaders\\parsers\\pdf.py:300: UserWarning: Warning: Empty content on page 7 of document data/tax_etc/연말정산_주택자금·월세액_공제의이해.pdf\n",
      "  warnings.warn(\n",
      "c:\\Users\\Playdata\\miniconda3\\envs\\langchain\\Lib\\site-packages\\langchain_community\\document_loaders\\parsers\\pdf.py:300: UserWarning: Warning: Empty content on page 13 of document data/tax_etc/연말정산_주택자금·월세액_공제의이해.pdf\n",
      "  warnings.warn(\n",
      "c:\\Users\\Playdata\\miniconda3\\envs\\langchain\\Lib\\site-packages\\langchain_community\\document_loaders\\parsers\\pdf.py:300: UserWarning: Warning: Empty content on page 25 of document data/tax_etc/연말정산_주택자금·월세액_공제의이해.pdf\n",
      "  warnings.warn(\n",
      "c:\\Users\\Playdata\\miniconda3\\envs\\langchain\\Lib\\site-packages\\langchain_community\\document_loaders\\parsers\\pdf.py:300: UserWarning: Warning: Empty content on page 29 of document data/tax_etc/연말정산_주택자금·월세액_공제의이해.pdf\n",
      "  warnings.warn(\n",
      "c:\\Users\\Playdata\\miniconda3\\envs\\langchain\\Lib\\site-packages\\langchain_community\\document_loaders\\parsers\\pdf.py:300: UserWarning: Warning: Empty content on page 39 of document data/tax_etc/연말정산_주택자금·월세액_공제의이해.pdf\n",
      "  warnings.warn(\n",
      "c:\\Users\\Playdata\\miniconda3\\envs\\langchain\\Lib\\site-packages\\langchain_community\\document_loaders\\parsers\\pdf.py:300: UserWarning: Warning: Empty content on page 41 of document data/tax_etc/연말정산_주택자금·월세액_공제의이해.pdf\n",
      "  warnings.warn(\n",
      "c:\\Users\\Playdata\\miniconda3\\envs\\langchain\\Lib\\site-packages\\langchain_community\\document_loaders\\parsers\\pdf.py:300: UserWarning: Warning: Empty content on page 71 of document data/tax_etc/연말정산_주택자금·월세액_공제의이해.pdf\n",
      "  warnings.warn(\n"
     ]
    }
   ],
   "source": [
    "from load_functions import (\n",
    "    load_2024핵심개정세법, \n",
    "    load_연말정산신고안내,\n",
    "    load_주택자금공제의이해, \n",
    "    load_주요공제계산사례\n",
    ")\n",
    "\n",
    "\n",
    "# vector store 에 넣을 데이터 document 모으기 -> all_documents\n",
    "all_documents = []\n",
    "# load - 세법 \n",
    "law_files = get_file_names(\"data/tax_law\")\n",
    "for file in law_files:\n",
    "    all_documents.extend(load_and_split_tax_law(file))\n",
    "    \n",
    "# load - 2024_핵심_개정세법\n",
    "all_documents.extend(load_2024핵심개정세법())\n",
    "# load - 연말정산_신고안내\n",
    "all_documents.extend(load_연말정산신고안내())\n",
    "# load - 주택자금공제의이해\n",
    "all_documents.extend(load_주택자금공제의이해())\n",
    "# load - 주요공제계산사례\n",
    "all_documents.extend(load_주요공제계산사례())\n"
   ]
  },
  {
   "cell_type": "code",
   "execution_count": 15,
   "id": "3408d1fa",
   "metadata": {},
   "outputs": [
    {
     "data": {
      "text/plain": [
       "5899"
      ]
     },
     "execution_count": 15,
     "metadata": {},
     "output_type": "execute_result"
    }
   ],
   "source": [
    "# len(load_연말정산신고안내()) - 318\n",
    "# len(load_주요공제계산사례()) - 30\n",
    "# len(load_2024핵심개정세법())  - 60\n",
    "# len(load_주택자금공제의이해()) - 60\n",
    "5431 + 318 + 30 + 60 + 60"
   ]
  },
  {
   "cell_type": "code",
   "execution_count": 4,
   "id": "3d93bdf3",
   "metadata": {},
   "outputs": [
    {
     "data": {
      "text/plain": [
       "5899"
      ]
     },
     "execution_count": 4,
     "metadata": {},
     "output_type": "execute_result"
    }
   ],
   "source": [
    "len(all_documents)"
   ]
  },
  {
   "cell_type": "code",
   "execution_count": 5,
   "id": "7863fac8",
   "metadata": {},
   "outputs": [],
   "source": [
    "COLLECTION_NAME = \"tax_law\"\n",
    "PERSIST_DIRECTORY = \"tax\"\n",
    "\n",
    "def set_vector_store(documents):\n",
    "    embedding_model = OpenAIEmbeddings(model=\"text-embedding-3-large\")\n",
    "\n",
    "    return Chroma.from_documents(\n",
    "        documents=documents,\n",
    "        embedding=embedding_model,\n",
    "        collection_name=COLLECTION_NAME,\n",
    "        persist_directory=PERSIST_DIRECTORY\n",
    "    )"
   ]
  },
  {
   "cell_type": "code",
   "execution_count": 6,
   "id": "8d586fa6",
   "metadata": {},
   "outputs": [],
   "source": [
    "# 📌 vector store 생성\n",
    "# vector_store = set_vector_store(all_documents)\n"
   ]
  },
  {
   "cell_type": "code",
   "execution_count": 7,
   "id": "b8be7380",
   "metadata": {},
   "outputs": [],
   "source": [
    "retriever = vector_store.as_retriever(\n",
    "    search_type=\"mmr\",\n",
    "    search_kwargs={\"k\": 5, \"fetch_k\": 10}\n",
    ")"
   ]
  },
  {
   "cell_type": "code",
   "execution_count": 17,
   "id": "ce2c72fe",
   "metadata": {},
   "outputs": [],
   "source": [
    "# Prompt Template 생성\n",
    "messages = [\n",
    "        (\"ai\", \"\"\"\n",
    "        당신은 대한민국 세법에 대해 전문적으로 학습된 AI 도우미입니다. 저장된 세법 조항 데이터를 기반으로 사용자 질문에 답변하세요.\n",
    "\n",
    "        - 모든 답변은 학습된 세법 데이터 내에서만 유효한 정보를 바탕으로 작성하세요. 데이터에 없는 내용은 추측하거나 임의로 생성하지 마세요.\n",
    "        - 질문에 명확한 답변이 없거나 데이터 내에서 찾을 수 없는 경우, 정직하게 \"잘 모르겠습니다.\"라고 말하고, 새로운 질문을 유도하세요.\n",
    "        - 질문이 포함된 조항뿐 아니라, 필요 시 서로 연관된 다른 조항도 참고하여 답변의 정확성과 완성도를 높이세요.\n",
    "        - 사용자가 이해하기 쉽게 답변을 구성하며, 중요한 키워드나 법 조항은 명확히 표시하세요.\n",
    "        - 세법과 관련된 복잡한 질문에 대해서는 관련 조항 번호와 요약된 내용을 포함하여 답변을 제공하세요.\n",
    "        \n",
    "        추가 규칙:\n",
    "        답변은 간결하고 명료하게 작성하되, 필요한 경우 관련 조항의 전문을 추가적으로 인용하세요.\n",
    "        세법 용어를 사용자 친화적으로 설명하여 비전문가도 쉽게 이해할 수 있도록 하세요.\n",
    "        질문을 완전히 이해하기 어렵거나 모호할 경우, 사용자가 구체적으로 질문을 다시 작성할 수 있도록 유도하는 후속 질문을 하세요.\n",
    "        \n",
    "        답변 할 때, 개행문자 두개 이상 연속으로 절대 사용하지 마세요.\n",
    "\n",
    "\t답변 후, 사용자에게 필요할 것 같은 정보를 바탕으로 두 가지 후속 질문을 제안하세요. 각 질문의 앞뒤에 한 줄씩 띄어쓰기를 하세요. 이 질문은 원래 주제와 관련된 내용이어야 합니다.\n",
    "\t특정 법률 조항이나 제도가 언급될 경우, 근거가 되는 세법 조문, 시행령, 또는 관련 자료를 명시합니다.\n",
    "        모든 답변은 사용자에게 법적 조언이 아닌 정보 제공 목적으로 작성된 것임을 명확히 합니다. \n",
    "        \n",
    "\t{context}\")\"\"\"\n",
    "        ),\n",
    "        (\"human\", \"{question}\"),\n",
    "]\n",
    "prompt_template = ChatPromptTemplate(messages)\n",
    "# 모델\n",
    "model = ChatOpenAI(model=\"gpt-4o\")\n",
    "\n",
    "# output parser\n",
    "parser = StrOutputParser()\n",
    "\n",
    "# Chain 구성 retriever(관련문서 조회) -> prompt_template(prompt 생성) -> model(정답) -> output parser\n",
    "chain = {\"context\":retriever, \"question\": RunnablePassthrough()} | prompt_template | model | parser\n"
   ]
  },
  {
   "cell_type": "code",
   "execution_count": 18,
   "id": "7b2e44d6",
   "metadata": {},
   "outputs": [
    {
     "data": {
      "text/plain": [
       "'연봉 6,000만원의 근로소득을 가지고 있는 근로자가 연말정산을 하는 방법에 대해 설명드리겠습니다. 연말정산은 매년 1월에 진행되며, 근로소득자가 한 해 동안 납부한 세금과 실제로 납부해야 할 세금의 차이를 정리하는 과정입니다. 아래는 연말정산의 주요 단계입니다.\\n\\n1. **소득 확인 및 공제 항목 준비**: \\n   - 연봉 외에 추가적인 소득이 있는지 확인합니다. 예를 들어, 이자소득이나 배당소득이 있을 수 있습니다.\\n   - 기본공제, 추가공제 항목을 준비합니다. 예를 들어, 본인 및 부양가족에 대한 기본공제, 장애인 공제, 경로우대 공제 등이 있습니다.\\n   - 보험료, 의료비, 교육비, 기부금 등 특별소득공제를 받을 수 있는 지출 내역을 준비합니다.\\n\\n2. **소득금액 및 과세표준 계산**:\\n   - 총급여(연봉)에서 근로소득공제를 차감하여 근로소득금액을 계산합니다.\\n   - 근로소득금액에서 기본공제, 추가공제, 특별소득공제를 차감하여 과세표준을 계산합니다.\\n\\n3. **세액 계산 및 공제**:\\n   - 과세표준에 따라 기본세율(6~45%)을 적용한 산출세액을 계산합니다.\\n   - 산출세액에서 자녀세액공제, 연금계좌세액공제 등 세액공제를 적용하여 결정세액을 계산합니다.\\n\\n4. **차감납부세액 결정**:\\n   - 결정세액에서 기납부세액(한 해 동안 원천징수된 세금)을 차감하여 최종 납부해야 할 세액 또는 환급받을 세액을 결정합니다. \\n   - 만약 기납부세액이 결정세액보다 많다면 환급받게 되며, 반대의 경우 추가 납부해야 합니다.\\n\\n5. **제출 및 환급/납부**:\\n   - 연말정산 서류를 회사에 제출합니다.\\n   - 회사에서 국세청에 신고 후 환급 또는 추가 납부가 이루어집니다.\\n\\n**주의사항**:\\n- 모든 공제 항목은 증빙서류가 필요하며, 국세청 홈택스를 통해 전자증빙을 발급받을 수 있습니다.\\n- 공제 항목 및 세율은 매년 변경될 수 있으므로 최신 정보를 확인해야 합니다.\\n\\n후속 질문을 생각해보세요:\\n\\n- \"근로소득공제는 어떻게 계산되나요?\"\\n- \"자녀세액공제와 연금계좌세액공제는 어떻게 적용되나요?\"'"
      ]
     },
     "execution_count": 18,
     "metadata": {},
     "output_type": "execute_result"
    }
   ],
   "source": [
    "# chain.invoke(\"개별소비세법이 뭐야?\")\n",
    "# chain.invoke(\"개별소비세법이 제1조가 뭐야\")\n",
    "# chain.invoke(\"교통_에너지_환경세법 뭐야?\")\n",
    "chain.invoke(\"연봉 6000에 근로소득을 가지고 있는 근로자인데 연말정산하는 방법 알려줘\")"
   ]
  },
  {
   "cell_type": "code",
   "execution_count": null,
   "id": "2581a343",
   "metadata": {},
   "outputs": [],
   "source": []
  },
  {
   "cell_type": "markdown",
   "id": "5b6500e4",
   "metadata": {},
   "source": [
    "## 평가"
   ]
  },
  {
   "cell_type": "code",
   "execution_count": null,
   "id": "2508c831",
   "metadata": {},
   "outputs": [
    {
     "data": {
      "application/vnd.jupyter.widget-view+json": {
       "model_id": "73008cbfd9ad468f98f744ecc614ad47",
       "version_major": 2,
       "version_minor": 0
      },
      "text/plain": [
       "Evaluating:   0%|          | 0/8 [00:00<?, ?it/s]"
      ]
     },
     "metadata": {},
     "output_type": "display_data"
    },
    {
     "name": "stdout",
     "output_type": "stream",
     "text": [
      "{'faithfulness': 0.3000, 'answer_relevancy': 0.8789, 'context_precision': 1.0000, 'context_recall': 1.0000}\n"
     ]
    }
   ],
   "source": [
    "# LangChain 모델 래핑\n",
    "langchain_model = LangchainLLMWrapper(model)\n",
    "\n",
    "# 테스트 데이터 준비 (예시)\n",
    "test_data = [\n",
    "    # {\n",
    "    #     \"question\": \"개별소비세법의 목적은 무엇인가요?\",\n",
    "    #     \"answer\": chain.invoke(\"개별소비세법의 목적은 무엇인가요?\"),\n",
    "    #     \"contexts\": [doc.page_content for doc in retriever.get_relevant_documents(\"개별소비세법의 목적은 무엇인가요?\")],\n",
    "    #     \"ground_truths\": [\"개별소비세법의 목적은 특정 물품과 특정 장소에 대한 소비세를 부과하여 국가 재정수입을 확보하고 소비를 조정하는 것입니다.\"],\n",
    "    #     \"reference\": \"\\n\".join([doc.page_content for doc in retriever.get_relevant_documents(\"개별소비세법의 목적은 무엇인가요?\")])\n",
    "    # },\n",
    "    {\n",
    "        \"question\": \"개별소비세법 제1조가 무엇인가요?\",\n",
    "        \"answer\": chain.invoke(\"개별소비세법 제1조가 무엇인가요?\"),\n",
    "        \"contexts\": [doc.page_content for doc in retriever.get_relevant_documents(\"개별소비세법 제1조가 무엇인가요?\")],\n",
    "        \"ground_truths\": [\"개별소비세는 특정한 물품, 특정한 장소 입장행위(入場行爲), 특정한 장소에서의 유흥음식행위(遊興飮食行爲) 및 특정한 장소에서의 영업행위에 대하여 부과한다.\"],\n",
    "        \"reference\": \"\\n\".join([doc.page_content for doc in retriever.get_relevant_documents(\"개별소비세법 제1조가 무엇인가요?\")])\n",
    "    },\n",
    "    # {\n",
    "    #     \"question\": \"조세범 처벌절차법의 목적이 무엇인가요?\",\n",
    "    #     \"answer\": chain.invoke(\"조세범 처벌절차법의 목적이 무엇인가요?\"),\n",
    "    #     \"contexts\": [doc.page_content for doc in retriever.get_relevant_documents(\"조세범 처벌절차법의 목적이 무엇인가요?\")],\n",
    "    #     \"ground_truths\": [\"제1조(목적) 이 법은 조세범칙사건(犯則事件)을 공정하고 효율적으로 처리하기 위하여 조세범칙사건의 조사 및 그 처분에 관한 사항을 정함을 목적으로 한다\"],\n",
    "    #     \"reference\": \"\\n\".join([doc.page_content for doc in retriever.get_relevant_documents(\"조세범 처벌절차법의 목적이 무엇인가요?\")])\n",
    "    # },\n",
    "    \n",
    "]\n",
    "\n",
    "# Dataset 생성\n",
    "dataset = Dataset.from_list(test_data)\n",
    "\n",
    "# 평가 실행\n",
    "result = evaluate(\n",
    "    dataset,\n",
    "    metrics=[\n",
    "        faithfulness,\n",
    "        answer_relevancy,\n",
    "        context_precision,\n",
    "        context_recall,\n",
    "    ],\n",
    "    llm=langchain_model,\n",
    ")\n",
    "\n",
    "# 결과 출력\n",
    "print(result)\n"
   ]
  },
  {
   "cell_type": "code",
   "execution_count": 1,
   "id": "9fda44c0",
   "metadata": {},
   "outputs": [
    {
     "ename": "NameError",
     "evalue": "name 'ChatOpenAI' is not defined",
     "output_type": "error",
     "traceback": [
      "\u001b[1;31m---------------------------------------------------------------------------\u001b[0m",
      "\u001b[1;31mNameError\u001b[0m                                 Traceback (most recent call last)",
      "Cell \u001b[1;32mIn[1], line 10\u001b[0m\n\u001b[0;32m      8\u001b[0m \u001b[38;5;66;03m## GPT-4o 모델을 사용하여 평가 \u001b[39;00m\n\u001b[0;32m      9\u001b[0m model_name \u001b[38;5;241m=\u001b[39m \u001b[38;5;124m\"\u001b[39m\u001b[38;5;124mgpt-4o\u001b[39m\u001b[38;5;124m\"\u001b[39m\n\u001b[1;32m---> 10\u001b[0m model \u001b[38;5;241m=\u001b[39m \u001b[43mChatOpenAI\u001b[49m(model\u001b[38;5;241m=\u001b[39mmodel_name)\n\u001b[0;32m     11\u001b[0m langchain_model \u001b[38;5;241m=\u001b[39m LangchainLLMWrapper(model)\n\u001b[0;32m     13\u001b[0m embedding_model \u001b[38;5;241m=\u001b[39m OpenAIEmbeddings(model\u001b[38;5;241m=\u001b[39m\u001b[38;5;124m\"\u001b[39m\u001b[38;5;124mtext-embedding-3-large\u001b[39m\u001b[38;5;124m\"\u001b[39m)\n",
      "\u001b[1;31mNameError\u001b[0m: name 'ChatOpenAI' is not defined"
     ]
    }
   ],
   "source": [
    "from ragas import EvaluationDataset, RunConfig, evaluate\n",
    "from ragas.metrics import (\n",
    "    LLMContextRecall, Faithfulness, LLMContextPrecisionWithReference, AnswerRelevancy\n",
    ")\n",
    "from ragas.llms import LangchainLLMWrapper\n",
    "from ragas.embeddings import LangchainEmbeddingsWrapper\n",
    "\n",
    "## GPT-4o 모델을 사용하여 평가 \n",
    "model_name = \"gpt-4o\"\n",
    "model = ChatOpenAI(model=model_name)\n",
    "langchain_model = LangchainLLMWrapper(model)\n",
    "\n",
    "embedding_model = OpenAIEmbeddings(model=\"text-embedding-3-large\")\n",
    "eval_embedding = LangchainEmbeddingsWrapper(embedding_model)\n",
    "metrics = [\n",
    "    LLMContextRecall(llm=langchain_model),\n",
    "    LLMContextPrecisionWithReference(llm=langchain_model),\n",
    "    Faithfulness(llm=langchain_model),\n",
    "    AnswerRelevancy(llm=langchain_model, embeddings=eval_embedding)\n",
    "]\n",
    "result = evaluate(dataset=dataset, metrics=metrics)"
   ]
  },
  {
   "cell_type": "code",
   "execution_count": null,
   "id": "7b60f67c",
   "metadata": {},
   "outputs": [],
   "source": [
    "result"
   ]
  },
  {
   "cell_type": "code",
   "execution_count": null,
   "id": "33260716",
   "metadata": {},
   "outputs": [
    {
     "data": {
      "text/html": [
       "<div>\n",
       "<style scoped>\n",
       "    .dataframe tbody tr th:only-of-type {\n",
       "        vertical-align: middle;\n",
       "    }\n",
       "\n",
       "    .dataframe tbody tr th {\n",
       "        vertical-align: top;\n",
       "    }\n",
       "\n",
       "    .dataframe thead th {\n",
       "        text-align: right;\n",
       "    }\n",
       "</style>\n",
       "<table border=\"1\" class=\"dataframe\">\n",
       "  <thead>\n",
       "    <tr style=\"text-align: right;\">\n",
       "      <th></th>\n",
       "      <th>question</th>\n",
       "      <th>answer</th>\n",
       "      <th>contexts</th>\n",
       "      <th>ground_truths</th>\n",
       "      <th>reference</th>\n",
       "    </tr>\n",
       "  </thead>\n",
       "  <tbody>\n",
       "    <tr>\n",
       "      <th>0</th>\n",
       "      <td>개별소비세법의 목적은 무엇인가요?</td>\n",
       "      <td>개별소비세법의 목적은 특정 물품이나 서비스에 대해 소비세를 부과하여 세수 확보와 소비 패턴 조정을 통해 공공재원을 조달하고 사회적 비용을 반영하는 것입니다. 이를 통해 사치품이나 환경에 미치는 영향이 큰 제품의 소비를 억제하고, 공공 목적으로 사용되는 자금을 확보하는 데 기여합니다. \\n\\n추가적으로 궁금하신 사항이 있나요?\\n\\n1. 개별소비세가 부과되는 구체적인 품목에는 어떤 것들이 있는지 알고 싶으신가요?\\n   \\n2. 개별소비세의 세율은 어떻게 결정되는지 궁금하신가요?</td>\n",
       "      <td>[개별소비세법 시행규칙\\n[시행 2024. 3. 22.] [기획재정부령 제1047호, 2024. 3. 22., 일부개정]\\n기획재정부 (환경에너지세제과) 044-215-4331, 4336\\n기획재정부 (환경에너지세제과 - 자동차 부분) 044-215-4333, 4336, 제4조(과세시기)  개별소비세는 다음 각 호에 따른 반출, 수입신고, 입장, 유흥음식행위 또는 영업행위를 할 때에 그 행위\\n당시의 법령에 따라 부과한다. 다만, 제3조제4호의 경우에는 「관세법」에 따른다. &lt;개정 2015. 12. 15.&gt;\\n1. 물품에 대한 개별소비세: 과세물품을 제조장에서 반출할 때 또는 수입신고를 할 때\\n2. 입장행위에 대한 개별소비세: 과세장소에 입장할 때\\n3. 유흥음식행위에 대한 개별소비세: 유흥음식행위를 할 때\\n 4. 영업행위에 대한 개별소비세: 과세영업장소의 영업행위를 할 때\\n[전문개정 2010. 1. 1.], 제1조(목적)  이 법은 주세의 과세 요건 및 절차를 규정함으로써 주세를 공정하게 과세하고, 납세의무의 적정한 이행을\\n확보하며, 재정수입의 원활한 조달에 이바지함을 목적으로 한다., 제1조(목적)  이 규칙은 「외국인관광객 등에 대한 부가가치세 및 개별소비세 특례규정」에서 위임된 사항과 그 시행에\\n필요한 사항을 규정함을 목적으로 한다.\\n[전문개정 2010. 4. 13.], 제1조(목적)  이 법은 조세(租稅)의 감면 또는 중과(重課) 등 조세특례와 이의 제한에 관한 사항을 규정하여 과세(課稅)의\\n공평을 도모하고 조세정책을 효율적으로 수행함으로써 국민경제의 건전한 발전에 이바지함을 목적으로 한다. &lt;개정\\n2020. 6. 9.&gt;\\n[전문개정 2010. 1. 1.]]</td>\n",
       "      <td>[개별소비세법의 목적은 특정 물품과 특정 장소에 대한 소비세를 부과하여 국가 재정수입을 확보하고 소비를 조정하는 것입니다.]</td>\n",
       "      <td>개별소비세법 시행규칙\\n[시행 2024. 3. 22.] [기획재정부령 제1047호, 2024. 3. 22., 일부개정]\\n기획재정부 (환경에너지세제과) 044-215-4331, 4336\\n기획재정부 (환경에너지세제과 - 자동차 부분) 044-215-4333, 4336\\n제4조(과세시기)  개별소비세는 다음 각 호에 따른 반출, 수입신고, 입장, 유흥음식행위 또는 영업행위를 할 때에 그 행위\\n당시의 법령에 따라 부과한다. 다만, 제3조제4호의 경우에는 「관세법」에 따른다. &lt;개정 2015. 12. 15.&gt;\\n1. 물품에 대한 개별소비세: 과세물품을 제조장에서 반출할 때 또는 수입신고를 할 때\\n2. 입장행위에 대한 개별소비세: 과세장소에 입장할 때\\n3. 유흥음식행위에 대한 개별소비세: 유흥음식행위를 할 때\\n 4. 영업행위에 대한 개별소비세: 과세영업장소의 영업행위를 할 때\\n[전문개정 2010. 1. 1.]\\n제1조(목적)  이 법은 주세의 과세 요건 및 절차를 규정함으로써 주세를 공정하게 과세하고, 납세의무의 적정한 이행을\\n확보하며, 재정수입의 원활한 조달에 이바지함을 목적으로 한다.\\n제1조(목적)  이 규칙은 「외국인관광객 등에 대한 부가가치세 및 개별소비세 특례규정」에서 위임된 사항과 그 시행에\\n필요한 사항을 규정함을 목적으로 한다.\\n[전문개정 2010. 4. 13.]\\n제1조(목적)  이 법은 조세(租稅)의 감면 또는 중과(重課) 등 조세특례와 이의 제한에 관한 사항을 규정하여 과세(課稅)의\\n공평을 도모하고 조세정책을 효율적으로 수행함으로써 국민경제의 건전한 발전에 이바지함을 목적으로 한다. &lt;개정\\n2020. 6. 9.&gt;\\n[전문개정 2010. 1. 1.]</td>\n",
       "    </tr>\n",
       "    <tr>\n",
       "      <th>1</th>\n",
       "      <td>조세범 처벌절차법의 목적이 무엇인가요?</td>\n",
       "      <td>조세범 처벌절차법의 목적은 세법을 위반한 자에 대한 형벌에 관한 사항을 규정하여 세법의 실효성을 높이고 국민의 건전한 납세 의식을 확립하는 데 있습니다. 이 법은 세법 집행의 공정성과 세금 납부의 적정성을 보장하기 위한 제도적 장치를 마련하고 있습니다.\\n\\n세법과 관련된 다른 질문이 있으신가요? 예를 들어:\\n\\n1. 조세범 처벌절차법에 의해 처벌받는 구체적인 행위는 어떤 것이 있는지 알고 싶으신가요?\\n\\n2. 조세범 처벌절차법과 관련된 최신 개정 사항이 궁금하신가요?</td>\n",
       "      <td>[조세범 처벌절차법\\n[시행 2023. 1. 17.] [법률 제19212호, 2023. 1. 17., 일부개정]\\n기획재정부 (조세법령운용팀) 044-215-4151\\n       제1장 총칙, 제1조(목적)  이 영은 「조세범 처벌절차법」에서 위임된 사항과 그 시행에 필요한 사항을 규정함을 목적으로 한다., 제1조(목적)  이 법은 주세의 과세 요건 및 절차를 규정함으로써 주세를 공정하게 과세하고, 납세의무의 적정한 이행을\\n확보하며, 재정수입의 원활한 조달에 이바지함을 목적으로 한다., 제1조(목적)  이 법은 세법을 위반한 자에 대한 형벌에 관한 사항을 규정하여 세법의 실효성을 높이고 국민의 건전한 납\\n세의식을 확립함을 목적으로 한다. &lt;개정 2018. 12. 31.&gt;, 제39조(벌칙)  재평가세에 관한 범칙행위에 대하여는 조세범처벌법을 적용한다.]</td>\n",
       "      <td>[제1조(목적) 이 법은 조세범칙사건(犯則事件)을 공정하고 효율적으로 처리하기 위하여 조세범칙사건의 조사 및 그 처분에 관한 사항을 정함을 목적으로 한다]</td>\n",
       "      <td>조세범 처벌절차법\\n[시행 2023. 1. 17.] [법률 제19212호, 2023. 1. 17., 일부개정]\\n기획재정부 (조세법령운용팀) 044-215-4151\\n       제1장 총칙\\n제1조(목적)  이 영은 「조세범 처벌절차법」에서 위임된 사항과 그 시행에 필요한 사항을 규정함을 목적으로 한다.\\n제1조(목적)  이 법은 주세의 과세 요건 및 절차를 규정함으로써 주세를 공정하게 과세하고, 납세의무의 적정한 이행을\\n확보하며, 재정수입의 원활한 조달에 이바지함을 목적으로 한다.\\n제1조(목적)  이 법은 세법을 위반한 자에 대한 형벌에 관한 사항을 규정하여 세법의 실효성을 높이고 국민의 건전한 납\\n세의식을 확립함을 목적으로 한다. &lt;개정 2018. 12. 31.&gt;\\n제39조(벌칙)  재평가세에 관한 범칙행위에 대하여는 조세범처벌법을 적용한다.</td>\n",
       "    </tr>\n",
       "  </tbody>\n",
       "</table>\n",
       "</div>"
      ],
      "text/plain": [
       "                question  \\\n",
       "0     개별소비세법의 목적은 무엇인가요?   \n",
       "1  조세범 처벌절차법의 목적이 무엇인가요?   \n",
       "\n",
       "                                                                                                                                                                                                                                                                          answer  \\\n",
       "0  개별소비세법의 목적은 특정 물품이나 서비스에 대해 소비세를 부과하여 세수 확보와 소비 패턴 조정을 통해 공공재원을 조달하고 사회적 비용을 반영하는 것입니다. 이를 통해 사치품이나 환경에 미치는 영향이 큰 제품의 소비를 억제하고, 공공 목적으로 사용되는 자금을 확보하는 데 기여합니다. \\n\\n추가적으로 궁금하신 사항이 있나요?\\n\\n1. 개별소비세가 부과되는 구체적인 품목에는 어떤 것들이 있는지 알고 싶으신가요?\\n   \\n2. 개별소비세의 세율은 어떻게 결정되는지 궁금하신가요?   \n",
       "1     조세범 처벌절차법의 목적은 세법을 위반한 자에 대한 형벌에 관한 사항을 규정하여 세법의 실효성을 높이고 국민의 건전한 납세 의식을 확립하는 데 있습니다. 이 법은 세법 집행의 공정성과 세금 납부의 적정성을 보장하기 위한 제도적 장치를 마련하고 있습니다.\\n\\n세법과 관련된 다른 질문이 있으신가요? 예를 들어:\\n\\n1. 조세범 처벌절차법에 의해 처벌받는 구체적인 행위는 어떤 것이 있는지 알고 싶으신가요?\\n\\n2. 조세범 처벌절차법과 관련된 최신 개정 사항이 궁금하신가요?   \n",
       "\n",
       "                                                                                                                                                                                                                                                                                                                                                                                                                                                                                                                                                                                                                                                                                                                                                                                                                                                                    contexts  \\\n",
       "0  [개별소비세법 시행규칙\\n[시행 2024. 3. 22.] [기획재정부령 제1047호, 2024. 3. 22., 일부개정]\\n기획재정부 (환경에너지세제과) 044-215-4331, 4336\\n기획재정부 (환경에너지세제과 - 자동차 부분) 044-215-4333, 4336, 제4조(과세시기)  개별소비세는 다음 각 호에 따른 반출, 수입신고, 입장, 유흥음식행위 또는 영업행위를 할 때에 그 행위\\n당시의 법령에 따라 부과한다. 다만, 제3조제4호의 경우에는 「관세법」에 따른다. <개정 2015. 12. 15.>\\n1. 물품에 대한 개별소비세: 과세물품을 제조장에서 반출할 때 또는 수입신고를 할 때\\n2. 입장행위에 대한 개별소비세: 과세장소에 입장할 때\\n3. 유흥음식행위에 대한 개별소비세: 유흥음식행위를 할 때\\n 4. 영업행위에 대한 개별소비세: 과세영업장소의 영업행위를 할 때\\n[전문개정 2010. 1. 1.], 제1조(목적)  이 법은 주세의 과세 요건 및 절차를 규정함으로써 주세를 공정하게 과세하고, 납세의무의 적정한 이행을\\n확보하며, 재정수입의 원활한 조달에 이바지함을 목적으로 한다., 제1조(목적)  이 규칙은 「외국인관광객 등에 대한 부가가치세 및 개별소비세 특례규정」에서 위임된 사항과 그 시행에\\n필요한 사항을 규정함을 목적으로 한다.\\n[전문개정 2010. 4. 13.], 제1조(목적)  이 법은 조세(租稅)의 감면 또는 중과(重課) 등 조세특례와 이의 제한에 관한 사항을 규정하여 과세(課稅)의\\n공평을 도모하고 조세정책을 효율적으로 수행함으로써 국민경제의 건전한 발전에 이바지함을 목적으로 한다. <개정\\n2020. 6. 9.>\\n[전문개정 2010. 1. 1.]]   \n",
       "1                                                                                                                                                                                                                                                                                                                                                                                                                               [조세범 처벌절차법\\n[시행 2023. 1. 17.] [법률 제19212호, 2023. 1. 17., 일부개정]\\n기획재정부 (조세법령운용팀) 044-215-4151\\n       제1장 총칙, 제1조(목적)  이 영은 「조세범 처벌절차법」에서 위임된 사항과 그 시행에 필요한 사항을 규정함을 목적으로 한다., 제1조(목적)  이 법은 주세의 과세 요건 및 절차를 규정함으로써 주세를 공정하게 과세하고, 납세의무의 적정한 이행을\\n확보하며, 재정수입의 원활한 조달에 이바지함을 목적으로 한다., 제1조(목적)  이 법은 세법을 위반한 자에 대한 형벌에 관한 사항을 규정하여 세법의 실효성을 높이고 국민의 건전한 납\\n세의식을 확립함을 목적으로 한다. <개정 2018. 12. 31.>, 제39조(벌칙)  재평가세에 관한 범칙행위에 대하여는 조세범처벌법을 적용한다.]   \n",
       "\n",
       "                                                                            ground_truths  \\\n",
       "0                   [개별소비세법의 목적은 특정 물품과 특정 장소에 대한 소비세를 부과하여 국가 재정수입을 확보하고 소비를 조정하는 것입니다.]   \n",
       "1  [제1조(목적) 이 법은 조세범칙사건(犯則事件)을 공정하고 효율적으로 처리하기 위하여 조세범칙사건의 조사 및 그 처분에 관한 사항을 정함을 목적으로 한다]   \n",
       "\n",
       "                                                                                                                                                                                                                                                                                                                                                                                                                                                                                                                                                                                                                                                                                                                                                                                                                                                                 reference  \n",
       "0  개별소비세법 시행규칙\\n[시행 2024. 3. 22.] [기획재정부령 제1047호, 2024. 3. 22., 일부개정]\\n기획재정부 (환경에너지세제과) 044-215-4331, 4336\\n기획재정부 (환경에너지세제과 - 자동차 부분) 044-215-4333, 4336\\n제4조(과세시기)  개별소비세는 다음 각 호에 따른 반출, 수입신고, 입장, 유흥음식행위 또는 영업행위를 할 때에 그 행위\\n당시의 법령에 따라 부과한다. 다만, 제3조제4호의 경우에는 「관세법」에 따른다. <개정 2015. 12. 15.>\\n1. 물품에 대한 개별소비세: 과세물품을 제조장에서 반출할 때 또는 수입신고를 할 때\\n2. 입장행위에 대한 개별소비세: 과세장소에 입장할 때\\n3. 유흥음식행위에 대한 개별소비세: 유흥음식행위를 할 때\\n 4. 영업행위에 대한 개별소비세: 과세영업장소의 영업행위를 할 때\\n[전문개정 2010. 1. 1.]\\n제1조(목적)  이 법은 주세의 과세 요건 및 절차를 규정함으로써 주세를 공정하게 과세하고, 납세의무의 적정한 이행을\\n확보하며, 재정수입의 원활한 조달에 이바지함을 목적으로 한다.\\n제1조(목적)  이 규칙은 「외국인관광객 등에 대한 부가가치세 및 개별소비세 특례규정」에서 위임된 사항과 그 시행에\\n필요한 사항을 규정함을 목적으로 한다.\\n[전문개정 2010. 4. 13.]\\n제1조(목적)  이 법은 조세(租稅)의 감면 또는 중과(重課) 등 조세특례와 이의 제한에 관한 사항을 규정하여 과세(課稅)의\\n공평을 도모하고 조세정책을 효율적으로 수행함으로써 국민경제의 건전한 발전에 이바지함을 목적으로 한다. <개정\\n2020. 6. 9.>\\n[전문개정 2010. 1. 1.]  \n",
       "1                                                                                                                                                                                                                                                                                                                                                                                                                               조세범 처벌절차법\\n[시행 2023. 1. 17.] [법률 제19212호, 2023. 1. 17., 일부개정]\\n기획재정부 (조세법령운용팀) 044-215-4151\\n       제1장 총칙\\n제1조(목적)  이 영은 「조세범 처벌절차법」에서 위임된 사항과 그 시행에 필요한 사항을 규정함을 목적으로 한다.\\n제1조(목적)  이 법은 주세의 과세 요건 및 절차를 규정함으로써 주세를 공정하게 과세하고, 납세의무의 적정한 이행을\\n확보하며, 재정수입의 원활한 조달에 이바지함을 목적으로 한다.\\n제1조(목적)  이 법은 세법을 위반한 자에 대한 형벌에 관한 사항을 규정하여 세법의 실효성을 높이고 국민의 건전한 납\\n세의식을 확립함을 목적으로 한다. <개정 2018. 12. 31.>\\n제39조(벌칙)  재평가세에 관한 범칙행위에 대하여는 조세범처벌법을 적용한다.  "
      ]
     },
     "metadata": {},
     "output_type": "display_data"
    }
   ],
   "source": [
    "# DataFrame 생성\n",
    "df_result = pd.DataFrame(test_data)\n",
    "\n",
    "# 최대 열 너비 설정\n",
    "pd.set_option('display.max_colwidth', None)\n",
    "\n",
    "# 최대 행 수 설정\n",
    "pd.set_option('display.max_rows', None)\n",
    "\n",
    "df_result"
   ]
  },
  {
   "cell_type": "code",
   "execution_count": null,
   "id": "53fcbca5",
   "metadata": {},
   "outputs": [],
   "source": []
  }
 ],
 "metadata": {
  "kernelspec": {
   "display_name": "langchain",
   "language": "python",
   "name": "python3"
  },
  "language_info": {
   "codemirror_mode": {
    "name": "ipython",
    "version": 3
   },
   "file_extension": ".py",
   "mimetype": "text/x-python",
   "name": "python",
   "nbconvert_exporter": "python",
   "pygments_lexer": "ipython3",
   "version": "3.12.7"
  }
 },
 "nbformat": 4,
 "nbformat_minor": 5
}
