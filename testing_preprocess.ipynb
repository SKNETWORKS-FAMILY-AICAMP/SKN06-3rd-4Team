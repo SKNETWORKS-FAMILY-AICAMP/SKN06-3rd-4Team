{
 "cells": [
  {
   "cell_type": "code",
   "execution_count": 1,
   "id": "cf717c35",
   "metadata": {},
   "outputs": [],
   "source": [
    "from langchain_chroma import Chroma\n",
    "from langchain_openai import OpenAIEmbeddings, ChatOpenAI\n",
    "from langchain_text_splitters import RecursiveCharacterTextSplitter\n",
    "from langchain.prompts import ChatPromptTemplate\n",
    "from langchain_core.runnables import RunnablePassthrough\n",
    "from langchain.globals import set_llm_cache\n",
    "from langchain.cache import InMemoryCache, SQLiteCache\n",
    "from langchain_core.output_parsers import StrOutputParser\n",
    "from langchain_core.vectorstores import InMemoryVectorStore\n",
    "\n",
    "\n",
    "from langchain_community.document_loaders import PyMuPDFLoader\n",
    "from langchain_openai import OpenAIEmbeddings, ChatOpenAI\n",
    "\n",
    "import os\n",
    "import re\n",
    "\n",
    "from dotenv import load_dotenv\n",
    "load_dotenv()\n",
    "\n",
    "COLLECTION_NAME = \"tax_law\"\n",
    "PERSIST_DIRECTORY = \"tax\""
   ]
  },
  {
   "cell_type": "code",
   "execution_count": 2,
   "id": "e0a070fa",
   "metadata": {},
   "outputs": [],
   "source": [
    "def get_pdf_file_names(folder_path):\n",
    "    \"\"\"\n",
    "    주어진 폴더 내에 있는 PDF 파일들의 이름을 리스트로 반환합니다.\n",
    "\n",
    "    Args:\n",
    "        folder_path (str): PDF 파일이 있는 폴더의 경로.\n",
    "\n",
    "    Returns:\n",
    "        list: PDF 파일 이름들의 리스트.\n",
    "    \"\"\"\n",
    "    try:\n",
    "        # 폴더 내 파일 리스트 가져오기\n",
    "        all_files = os.listdir(folder_path)\n",
    "        \n",
    "        # 확장자가 '.pdf'인 파일만 필터링\n",
    "        pdf_files = [file.replace(\".pdf\",\"\") for file in all_files if file.lower().endswith('.pdf')]\n",
    "        \n",
    "        return pdf_files\n",
    "    except FileNotFoundError:\n",
    "        print(f\"Error: 폴더 '{folder_path}'를 찾을 수 없습니다.\")\n",
    "        return []\n",
    "    except Exception as e:\n",
    "        print(f\"Error: {e}\")\n",
    "        return []"
   ]
  },
  {
   "cell_type": "code",
   "execution_count": 3,
   "id": "06504bed",
   "metadata": {},
   "outputs": [],
   "source": [
    "def load_and_split_tax_law(file_path,repeat_pattern):\n",
    "    \"\"\"\n",
    "    PDF 파일을 로드하고, 반복 텍스트 제거, 조항 기준으로 분할 및 연결 후 임베딩 준비.\n",
    "    Args:\n",
    "        file_path (str): PDF 파일 경로.\n",
    "    Returns:\n",
    "        list: 연결된 텍스트 조각들의 리스트.\n",
    "    \"\"\"\n",
    "    import re\n",
    "    from langchain.document_loaders import PyMuPDFLoader\n",
    "    from langchain_openai import OpenAIEmbeddings\n",
    "\n",
    "    # PDF 로드\n",
    "    loader = PyMuPDFLoader(file_path)\n",
    "    documents = loader.load()\n",
    "    \n",
    "    # 전체 텍스트 가져오기\n",
    "    full_text = \" \".join([doc.page_content for doc in documents])\n",
    "\n",
    "    # 1. 반복 텍스트 제거\n",
    "    full_text = re.sub(repeat_pattern, \"\", full_text)\n",
    "\n",
    "    # 2. '제n조'를 기준으로 분할\n",
    "    split_pattern = r\"\\n(제\\d+조[^\\s]*)\"\n",
    "    chunks = re.split(split_pattern, full_text)\n",
    "\n",
    "    # 3. '제n조'와 연결하여 완전한 문단 구성 + 부칙 처리\n",
    "    connected_chunks = []\n",
    "    current_chunk = \"\"\n",
    "    is_buchik_section = False  # 부칙 여부 플래그\n",
    "\n",
    "    for chunk in chunks:\n",
    "        if re.search(r\"\\n\\s*<부칙>\", chunk):  # 부칙 시작 여부 확인\n",
    "            is_buchik_section = True\n",
    "\n",
    "        if chunk.startswith(\"제\") and \"조\" in chunk:  # 새로운 조항 시작\n",
    "            if is_buchik_section:  # 부칙 섹션이라면 접두사 추가\n",
    "                chunk = \"부칙-\" + chunk\n",
    "\n",
    "            if current_chunk:  # 이전 조항 저장\n",
    "                connected_chunks.append(current_chunk.strip())\n",
    "            current_chunk = chunk  # 새 조항으로 시작\n",
    "        else:\n",
    "            current_chunk += f\" {chunk}\"  # 기존 조항에 내용 추가\n",
    "\n",
    "    if current_chunk:\n",
    "        connected_chunks.append(current_chunk.strip())\n",
    "\n",
    "\n",
    "    return connected_chunks, full_text\n",
    "\n"
   ]
  },
  {
   "cell_type": "code",
   "execution_count": 4,
   "id": "6232293d",
   "metadata": {},
   "outputs": [],
   "source": [
    "def get_vector_store(pdf_files):\n",
    "    \"\"\"\n",
    "    PDF 파일들을 처리하여 임베딩을 Chroma Vector Store에 저장합니다.\n",
    "\n",
    "    Args:\n",
    "        pdf_files (list): PDF 파일 이름들의 리스트.\n",
    "        vector_store_path (str): Chroma Vector Store를 저장할 경로.\n",
    "    \"\"\"\n",
    "    from langchain_chroma import Chroma\n",
    "    from langchain_core.documents import Document\n",
    "    \n",
    "    # 각 PDF 파일에 대해 임베딩 처리\n",
    "    # for file in pdf_files:\n",
    "    all_docs = []\n",
    "    \n",
    "    for i in range(3):\n",
    "        file = pdf_files[i]\n",
    "        path = f\"data/tax_law/{file}.pdf\"  # PDF 파일 경로\n",
    "        repeat_pattern = rf\"법제처\\s*\\d+\\s*국가법령정보센터\\n{file.replace('_', ' ')}\\n\" \n",
    "        chunks, full_text = load_and_split_tax_law(path, repeat_pattern)\n",
    "        \n",
    "\n",
    "        for idx, chunk in enumerate(chunks):\n",
    "            _doc = Document(metadata={\"title\": file, \"full_text\": full_text[idx], }, page_content=chunk),\n",
    "            all_docs.extend(_doc)\n",
    "\n",
    "    embedding_model = OpenAIEmbeddings(model=\"text-embedding-3-large\")\n",
    "    \n",
    "    vector_store = Chroma.from_documents(\n",
    "        documents=all_docs,\n",
    "        embedding=embedding_model,\n",
    "        collection_name=COLLECTION_NAME,\n",
    "        persist_directory=PERSIST_DIRECTORY\n",
    "    )\n",
    "    \n",
    "    return vector_store\n",
    "        \n",
    "folder_path = \"data/tax_law\" \n",
    "pdf_files = get_pdf_file_names(folder_path)\n",
    "vector_store = get_vector_store(pdf_files)"
   ]
  },
  {
   "cell_type": "code",
   "execution_count": 5,
   "id": "1462a847",
   "metadata": {},
   "outputs": [
    {
     "data": {
      "text/plain": [
       "134"
      ]
     },
     "execution_count": 5,
     "metadata": {},
     "output_type": "execute_result"
    }
   ],
   "source": [
    "vector_store._collection.count()"
   ]
  },
  {
   "cell_type": "code",
   "execution_count": 6,
   "id": "6b8711ab",
   "metadata": {},
   "outputs": [],
   "source": [
    "retriever = vector_store.as_retriever(\n",
    "    search_type=\"mmr\",\n",
    "    search_kwargs={\"k\":5, \"fetch_k\":10}\n",
    ")\n"
   ]
  },
  {
   "cell_type": "markdown",
   "id": "18f365d0",
   "metadata": {},
   "source": []
  },
  {
   "cell_type": "code",
   "execution_count": 7,
   "id": "ace68f09-666b-4e17-83e7-d5ecb64ef5e0",
   "metadata": {},
   "outputs": [],
   "source": [
    "# Prompt Template 생성\n",
    "messages = [\n",
    "        (\"ai\", \"\"\"\n",
    "        You are a helpful assistant. Answer question using only the following context. \n",
    "        If you don't know the answer, just say you don't know. Don't make it up. \n",
    "        Answer in Korean.\n",
    "        \n",
    "        {context}\")\"\"\"\n",
    "        ),\n",
    "        (\"human\", \"{question}\"),\n",
    "]\n",
    "prompt_template = ChatPromptTemplate(messages)\n",
    "# 모델\n",
    "model = ChatOpenAI(model=\"gpt-4o\")\n",
    "\n",
    "# output parser\n",
    "parser = StrOutputParser()\n",
    "\n",
    "# Chain 구성 retriever(관련문서 조회) -> prompt_template(prompt 생성) -> model(정답) -> output parser\n",
    "chain = {\"context\":retriever, \"question\": RunnablePassthrough()} | prompt_template | model | parser\n",
    "\n"
   ]
  },
  {
   "cell_type": "code",
   "execution_count": 10,
   "id": "7b2e44d6",
   "metadata": {},
   "outputs": [
    {
     "data": {
      "text/plain": [
       "'개별소비세법은 특정 물품, 입장, 유흥 음식행위 및 영업행위에 대해 부과되는 세금을 규정하는 법률입니다. 이 법에 따라 과세 시기는 물품이 제조장에서 반출되거나 수입신고를 할 때, 과세장소에 입장할 때, 유흥음식행위를 할 때, 그리고 과세영업장소에서 영업행위를 할 때로 정해져 있습니다. 또한, 외교관 면세와 같은 특정 경우에는 개별소비세가 면제될 수 있는 조항도 포함되어 있습니다.'"
      ]
     },
     "execution_count": 10,
     "metadata": {},
     "output_type": "execute_result"
    }
   ],
   "source": [
    "chain.invoke(\"개별소비세법이 뭐야?\")\n"
   ]
  },
  {
   "cell_type": "code",
   "execution_count": null,
   "id": "8177863b-e4d9-44c3-9af2-0acbb4482548",
   "metadata": {},
   "outputs": [],
   "source": []
  }
 ],
 "metadata": {
  "kernelspec": {
   "display_name": "langchain",
   "language": "python",
   "name": "python3"
  },
  "language_info": {
   "codemirror_mode": {
    "name": "ipython",
    "version": 3
   },
   "file_extension": ".py",
   "mimetype": "text/x-python",
   "name": "python",
   "nbconvert_exporter": "python",
   "pygments_lexer": "ipython3",
   "version": "3.12.7"
  }
 },
 "nbformat": 4,
 "nbformat_minor": 5
}
