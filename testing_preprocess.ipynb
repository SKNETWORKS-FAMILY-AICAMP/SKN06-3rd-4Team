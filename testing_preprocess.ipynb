{
 "cells": [
  {
   "cell_type": "code",
   "execution_count": 1,
   "id": "cf717c35",
   "metadata": {},
   "outputs": [],
   "source": [
    "from langchain_chroma import Chroma\n",
    "from langchain_openai import OpenAIEmbeddings, ChatOpenAI\n",
    "from langchain_text_splitters import RecursiveCharacterTextSplitter\n",
    "from langchain.prompts import ChatPromptTemplate\n",
    "from langchain_core.runnables import RunnablePassthrough\n",
    "from langchain.globals import set_llm_cache\n",
    "from langchain.cache import InMemoryCache, SQLiteCache\n",
    "from langchain_core.output_parsers import StrOutputParser\n",
    "from langchain_core.vectorstores import InMemoryVectorStore\n",
    "\n",
    "\n",
    "from langchain_community.document_loaders import PyMuPDFLoader\n",
    "from langchain_openai import OpenAIEmbeddings, ChatOpenAI\n",
    "\n",
    "import os\n",
    "import re\n",
    "\n",
    "from dotenv import load_dotenv\n",
    "load_dotenv()\n",
    "\n",
    "COLLECTION_NAME = \"tax_law\"\n",
    "PERSIST_DIRECTORY = \"tax\""
   ]
  },
  {
   "cell_type": "code",
   "execution_count": 2,
   "id": "e0a070fa",
   "metadata": {},
   "outputs": [],
   "source": [
    "def get_pdf_file_names(folder_path):\n",
    "    \"\"\"\n",
    "    주어진 폴더 내에 있는 PDF 파일들의 이름을 리스트로 반환합니다.\n",
    "\n",
    "    Args:\n",
    "        folder_path (str): PDF 파일이 있는 폴더의 경로.\n",
    "\n",
    "    Returns:\n",
    "        list: PDF 파일 이름들의 리스트.\n",
    "    \"\"\"\n",
    "    try:\n",
    "        # 폴더 내 파일 리스트 가져오기\n",
    "        all_files = os.listdir(folder_path)\n",
    "        \n",
    "        # 확장자가 '.pdf'인 파일만 필터링\n",
    "        pdf_files = [file.replace(\".pdf\",\"\") for file in all_files if file.lower().endswith('.pdf')]\n",
    "        \n",
    "        return pdf_files\n",
    "    except FileNotFoundError:\n",
    "        print(f\"Error: 폴더 '{folder_path}'를 찾을 수 없습니다.\")\n",
    "        return []\n",
    "    except Exception as e:\n",
    "        print(f\"Error: {e}\")\n",
    "        return []"
   ]
  },
  {
   "cell_type": "code",
   "execution_count": 3,
   "id": "06504bed",
   "metadata": {},
   "outputs": [],
   "source": [
    "def load_and_split_tax_law(file_path,repeat_pattern):\n",
    "    \"\"\"\n",
    "    PDF 파일을 로드하고, 반복 텍스트 제거, 조항 기준으로 분할 및 연결 후 임베딩 준비.\n",
    "    Args:\n",
    "        file_path (str): PDF 파일 경로.\n",
    "    Returns:\n",
    "        list: 연결된 텍스트 조각들의 리스트.\n",
    "    \"\"\"\n",
    "    import re\n",
    "    from langchain.document_loaders import PyMuPDFLoader\n",
    "    from langchain_openai import OpenAIEmbeddings\n",
    "\n",
    "    # PDF 로드\n",
    "    loader = PyMuPDFLoader(file_path)\n",
    "    documents = loader.load()\n",
    "    \n",
    "    # 전체 텍스트 가져오기\n",
    "    full_text = \" \".join([doc.page_content for doc in documents])\n",
    "\n",
    "    # 1. 반복 텍스트 제거\n",
    "    full_text = re.sub(repeat_pattern, \"\", full_text)\n",
    "\n",
    "    # 2. '제n조'를 기준으로 분할\n",
    "    split_pattern = r\"\\n(제\\d+조[^\\s]*)\"\n",
    "    chunks = re.split(split_pattern, full_text)\n",
    "\n",
    "    # 3. '제n조'와 연결하여 완전한 문단 구성 + 부칙 처리\n",
    "    connected_chunks = []\n",
    "    current_chunk = \"\"\n",
    "    is_buchik_section = False  # 부칙 여부 플래그\n",
    "\n",
    "    for chunk in chunks:\n",
    "        if re.search(r\"\\n\\s*<부칙>\", chunk):  # 부칙 시작 여부 확인\n",
    "            is_buchik_section = True\n",
    "\n",
    "        if chunk.startswith(\"제\") and \"조\" in chunk:  # 새로운 조항 시작\n",
    "            if is_buchik_section:  # 부칙 섹션이라면 접두사 추가\n",
    "                chunk = \"부칙-\" + chunk\n",
    "\n",
    "            if current_chunk:  # 이전 조항 저장\n",
    "                connected_chunks.append(current_chunk.strip())\n",
    "            current_chunk = chunk  # 새 조항으로 시작\n",
    "        else:\n",
    "            current_chunk += f\" {chunk}\"  # 기존 조항에 내용 추가\n",
    "\n",
    "    if current_chunk:\n",
    "        connected_chunks.append(current_chunk.strip())\n",
    "\n",
    "\n",
    "    return connected_chunks, full_text\n",
    "\n"
   ]
  },
  {
   "cell_type": "code",
   "execution_count": null,
   "id": "6232293d",
   "metadata": {},
   "outputs": [],
   "source": [
    "def get_vector_store(pdf_files):\n",
    "    \"\"\"\n",
    "    PDF 파일들을 처리하여 임베딩을 Chroma Vector Store에 저장합니다.\n",
    "\n",
    "    Args:\n",
    "        pdf_files (list): PDF 파일 이름들의 리스트.\n",
    "        vector_store_path (str): Chroma Vector Store를 저장할 경로.\n",
    "    \"\"\"\n",
    "    from langchain_chroma import Chroma\n",
    "    from langchain_core.documents import Document\n",
    "    \n",
    "    # 각 PDF 파일에 대해 임베딩 처리\n",
    "    all_docs = []\n",
    "    \n",
    "    for file in pdf_files:\n",
    "        path = f\"data/tax_law/{file}.pdf\"  # PDF 파일 경로\n",
    "        repeat_pattern = rf\"법제처\\s*\\d+\\s*국가법령정보센터\\n{file.replace('_', ' ')}\\n\" \n",
    "        chunks, full_text = load_and_split_tax_law(path, repeat_pattern)\n",
    "        \n",
    "\n",
    "        for idx, chunk in enumerate(chunks):\n",
    "            _doc = Document(metadata={\"title\": file, \"full_text\": full_text[idx], }, page_content=chunk),\n",
    "            all_docs.extend(_doc)\n",
    "\n",
    "    embedding_model = OpenAIEmbeddings(model=\"text-embedding-3-large\")\n",
    "\n",
    "    vector_store = Chroma.from_documents(\n",
    "        documents=all_docs,\n",
    "        embedding=embedding_model,\n",
    "        collection_name=COLLECTION_NAME,\n",
    "        persist_directory=PERSIST_DIRECTORY\n",
    "    )\n",
    "        \n",
    "    return vector_store\n",
    "        \n",
    "folder_path = \"data/tax_law\" \n",
    "pdf_files = get_pdf_file_names(folder_path)"
   ]
  },
  {
   "cell_type": "code",
   "execution_count": null,
   "id": "bc50b674",
   "metadata": {},
   "outputs": [],
   "source": [
    "# 📌 중복 저장 될 수 있어서 주석 처리함!\n",
    "# vector_store = get_vector_store(pdf_files)"
   ]
  },
  {
   "cell_type": "code",
   "execution_count": 12,
   "id": "d6bd5100",
   "metadata": {},
   "outputs": [],
   "source": [
    "embedding_model = OpenAIEmbeddings(model=\"text-embedding-3-large\")\n",
    "\n",
    "# vector_store =  Chroma(\n",
    "#     collection_name=COLLECTION_NAME,\n",
    "#     persist_directory=PERSIST_DIRECTORY,\n",
    "#     embedding_function=embedding_model,\n",
    "# )"
   ]
  },
  {
   "cell_type": "code",
   "execution_count": 7,
   "id": "1462a847",
   "metadata": {},
   "outputs": [
    {
     "data": {
      "text/plain": [
       "5733"
      ]
     },
     "execution_count": 7,
     "metadata": {},
     "output_type": "execute_result"
    }
   ],
   "source": [
    "vector_store._collection.count()"
   ]
  },
  {
   "cell_type": "code",
   "execution_count": 8,
   "id": "6b8711ab",
   "metadata": {},
   "outputs": [],
   "source": [
    "retriever = vector_store.as_retriever(\n",
    "    search_type=\"mmr\",\n",
    "    search_kwargs={\"k\":5, \"fetch_k\":10}\n",
    ")\n"
   ]
  },
  {
   "cell_type": "markdown",
   "id": "18f365d0",
   "metadata": {},
   "source": []
  },
  {
   "cell_type": "code",
   "execution_count": 9,
   "id": "ace68f09-666b-4e17-83e7-d5ecb64ef5e0",
   "metadata": {},
   "outputs": [],
   "source": [
    "# Prompt Template 생성\n",
    "messages = [\n",
    "        (\"ai\", \"\"\"\n",
    "        당신은 대한민국 세법에 대해 전문적으로 학습된 AI 도우미입니다. 저장된 세법 조항 데이터를 기반으로 사용자 질문에 답변하세요.\n",
    "\n",
    "        - 모든 답변은 학습된 세법 데이터 내에서만 유효한 정보를 바탕으로 작성하세요. 데이터에 없는 내용은 추측하거나 임의로 생성하지 마세요.\n",
    "        - 질문에 명확한 답변이 없거나 데이터 내에서 찾을 수 없는 경우, 정직하게 \"잘 모르겠습니다.\"라고 말하고, 새로운 질문을 유도하세요.\n",
    "        - 질문이 포함된 조항뿐 아니라, 필요 시 서로 연관된 다른 조항도 참고하여 답변의 정확성과 완성도를 높이세요.\n",
    "        - 사용자가 이해하기 쉽게 답변을 구성하며, 중요한 키워드나 법 조항은 명확히 표시하세요.\n",
    "        - 세법과 관련된 복잡한 질문에 대해서는 관련 조항 번호와 요약된 내용을 포함하여 답변을 제공하세요.\n",
    "        \n",
    "        추가 규칙:\n",
    "        답변은 간결하고 명료하게 작성하되, 필요한 경우 관련 조항의 전문을 추가적으로 인용하세요.\n",
    "        세법 용어를 사용자 친화적으로 설명하여 비전문가도 쉽게 이해할 수 있도록 하세요.\n",
    "        질문을 완전히 이해하기 어렵거나 모호할 경우, 사용자가 구체적으로 질문을 다시 작성할 수 있도록 유도하는 후속 질문을 하세요.\n",
    "        \n",
    "        {context}\")\"\"\"\n",
    "        ),\n",
    "        (\"human\", \"{question}\"),\n",
    "]\n",
    "prompt_template = ChatPromptTemplate(messages)\n",
    "# 모델\n",
    "model = ChatOpenAI(model=\"gpt-4o\")\n",
    "\n",
    "# output parser\n",
    "parser = StrOutputParser()\n",
    "\n",
    "# Chain 구성 retriever(관련문서 조회) -> prompt_template(prompt 생성) -> model(정답) -> output parser\n",
    "chain = {\"context\":retriever, \"question\": RunnablePassthrough()} | prompt_template | model | parser\n",
    "\n"
   ]
  },
  {
   "cell_type": "code",
   "execution_count": 10,
   "id": "7b2e44d6",
   "metadata": {},
   "outputs": [
    {
     "data": {
      "text/plain": [
       "'조세범 처벌절차법에서 사용하는 용어의 정의는 다음과 같습니다:\\n\\n1. **조세범칙행위**: 이는 「조세범 처벌법」 제3조부터 제16조까지의 죄에 해당하는 위반행위를 말합니다.\\n   \\n2. **조세범칙사건**: 조세범칙행위의 혐의가 있는 사건을 의미합니다.\\n\\n3. **조세범칙조사**: 세무공무원이 조세범칙행위 등을 확정하기 위하여 조세범칙사건에 대하여 행하는 조사활동을 말합니다.\\n\\n4. **세무공무원**: 세무에 종사하는 공무원으로서, 지방국세청 소속 공무원이나 세무서 소속 공무원의 경우 각각 소속 지방국세청장의 제청으로 해당 지방국세청이나 세무서의 소재지를 관할하는 지방검찰청의 검사장이 지명하는 공무원을 의미합니다.\\n\\n이 정의들은 조세범 처벌절차법 제2조에 명시되어 있습니다. 추가적으로 궁금한 점이 있으면 말씀해 주세요!'"
      ]
     },
     "execution_count": 10,
     "metadata": {},
     "output_type": "execute_result"
    }
   ],
   "source": [
    "# chain.invoke(\"개별소비세법이 뭐야?\")\n",
    "# chain.invoke(\"개별소비세법이 제1조가 뭐야\")\n",
    "# chain.invoke(\"교통_에너지_환경세법 뭐야?\")\n",
    "chain.invoke(\"조세범 처벌절차법의 정의해줘\")\n"
   ]
  },
  {
   "cell_type": "code",
   "execution_count": null,
   "id": "8177863b-e4d9-44c3-9af2-0acbb4482548",
   "metadata": {},
   "outputs": [],
   "source": []
  }
 ],
 "metadata": {
  "kernelspec": {
   "display_name": "langchain",
   "language": "python",
   "name": "python3"
  },
  "language_info": {
   "codemirror_mode": {
    "name": "ipython",
    "version": 3
   },
   "file_extension": ".py",
   "mimetype": "text/x-python",
   "name": "python",
   "nbconvert_exporter": "python",
   "pygments_lexer": "ipython3",
   "version": "3.12.7"
  }
 },
 "nbformat": 4,
 "nbformat_minor": 5
}
