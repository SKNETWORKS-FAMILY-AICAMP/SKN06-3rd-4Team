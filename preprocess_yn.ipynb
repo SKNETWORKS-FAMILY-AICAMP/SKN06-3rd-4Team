{
 "cells": [
  {
   "cell_type": "code",
   "execution_count": 1,
   "id": "cf717c35",
   "metadata": {},
   "outputs": [],
   "source": [
    "from langchain_chroma import Chroma\n",
    "from langchain_openai import OpenAIEmbeddings, ChatOpenAI\n",
    "from langchain_text_splitters import RecursiveCharacterTextSplitter\n",
    "from langchain.prompts import ChatPromptTemplate\n",
    "from langchain_core.runnables import RunnablePassthrough\n",
    "from langchain.globals import set_llm_cache\n",
    "from langchain.cache import InMemoryCache, SQLiteCache\n",
    "from langchain_core.output_parsers import StrOutputParser\n",
    "from langchain_core.vectorstores import InMemoryVectorStore\n",
    "from langchain_core.documents import Document\n",
    "from langchain_community.document_loaders import PyMuPDFLoader\n",
    "\n",
    "import pandas as pd\n",
    "\n",
    "import os\n",
    "import re\n",
    "\n",
    "from dotenv import load_dotenv\n",
    "load_dotenv()\n",
    "\n",
    "def get_file_names(folder_path, format=\".pdf\"):\n",
    "    \"\"\"\n",
    "    주어진 폴더 내에 있는 PDF 파일들의 이름을 리스트로 반환합니다.\n",
    "    \"\"\"\n",
    "    import os\n",
    "    \n",
    "    try:\n",
    "        all_files = os.listdir(folder_path)\n",
    "        pdf_files = [file.replace(format,\"\") for file in all_files if file.lower().endswith(format)]\n",
    "        \n",
    "        return pdf_files\n",
    "    except FileNotFoundError:\n",
    "        print(f\"Error: 폴더 '{folder_path}'를 찾을 수 없습니다.\")\n",
    "        return []\n",
    "    except Exception as e:\n",
    "        print(f\"Error: {e}\")\n",
    "        return []\n",
    "    "
   ]
  },
  {
   "cell_type": "code",
   "execution_count": 2,
   "id": "6986f447",
   "metadata": {},
   "outputs": [
    {
     "name": "stderr",
     "output_type": "stream",
     "text": [
      "c:\\Users\\Playdata\\miniconda3\\envs\\langchain\\Lib\\site-packages\\langchain_community\\document_loaders\\parsers\\pdf.py:300: UserWarning: Warning: Empty content on page 15 of document data/tax_etc/연말정산_신고안내.pdf\n",
      "  warnings.warn(\n",
      "c:\\Users\\Playdata\\miniconda3\\envs\\langchain\\Lib\\site-packages\\langchain_community\\document_loaders\\parsers\\pdf.py:300: UserWarning: Warning: Empty content on page 37 of document data/tax_etc/연말정산_신고안내.pdf\n",
      "  warnings.warn(\n",
      "c:\\Users\\Playdata\\miniconda3\\envs\\langchain\\Lib\\site-packages\\langchain_community\\document_loaders\\parsers\\pdf.py:300: UserWarning: Warning: Empty content on page 223 of document data/tax_etc/연말정산_신고안내.pdf\n",
      "  warnings.warn(\n",
      "c:\\Users\\Playdata\\miniconda3\\envs\\langchain\\Lib\\site-packages\\langchain_community\\document_loaders\\parsers\\pdf.py:300: UserWarning: Warning: Empty content on page 1 of document data/tax_etc/연말정산_주택자금·월세액_공제의이해.pdf\n",
      "  warnings.warn(\n",
      "c:\\Users\\Playdata\\miniconda3\\envs\\langchain\\Lib\\site-packages\\langchain_community\\document_loaders\\parsers\\pdf.py:300: UserWarning: Warning: Empty content on page 3 of document data/tax_etc/연말정산_주택자금·월세액_공제의이해.pdf\n",
      "  warnings.warn(\n",
      "c:\\Users\\Playdata\\miniconda3\\envs\\langchain\\Lib\\site-packages\\langchain_community\\document_loaders\\parsers\\pdf.py:300: UserWarning: Warning: Empty content on page 5 of document data/tax_etc/연말정산_주택자금·월세액_공제의이해.pdf\n",
      "  warnings.warn(\n",
      "c:\\Users\\Playdata\\miniconda3\\envs\\langchain\\Lib\\site-packages\\langchain_community\\document_loaders\\parsers\\pdf.py:300: UserWarning: Warning: Empty content on page 7 of document data/tax_etc/연말정산_주택자금·월세액_공제의이해.pdf\n",
      "  warnings.warn(\n",
      "c:\\Users\\Playdata\\miniconda3\\envs\\langchain\\Lib\\site-packages\\langchain_community\\document_loaders\\parsers\\pdf.py:300: UserWarning: Warning: Empty content on page 13 of document data/tax_etc/연말정산_주택자금·월세액_공제의이해.pdf\n",
      "  warnings.warn(\n",
      "c:\\Users\\Playdata\\miniconda3\\envs\\langchain\\Lib\\site-packages\\langchain_community\\document_loaders\\parsers\\pdf.py:300: UserWarning: Warning: Empty content on page 25 of document data/tax_etc/연말정산_주택자금·월세액_공제의이해.pdf\n",
      "  warnings.warn(\n",
      "c:\\Users\\Playdata\\miniconda3\\envs\\langchain\\Lib\\site-packages\\langchain_community\\document_loaders\\parsers\\pdf.py:300: UserWarning: Warning: Empty content on page 29 of document data/tax_etc/연말정산_주택자금·월세액_공제의이해.pdf\n",
      "  warnings.warn(\n",
      "c:\\Users\\Playdata\\miniconda3\\envs\\langchain\\Lib\\site-packages\\langchain_community\\document_loaders\\parsers\\pdf.py:300: UserWarning: Warning: Empty content on page 39 of document data/tax_etc/연말정산_주택자금·월세액_공제의이해.pdf\n",
      "  warnings.warn(\n",
      "c:\\Users\\Playdata\\miniconda3\\envs\\langchain\\Lib\\site-packages\\langchain_community\\document_loaders\\parsers\\pdf.py:300: UserWarning: Warning: Empty content on page 41 of document data/tax_etc/연말정산_주택자금·월세액_공제의이해.pdf\n",
      "  warnings.warn(\n",
      "c:\\Users\\Playdata\\miniconda3\\envs\\langchain\\Lib\\site-packages\\langchain_community\\document_loaders\\parsers\\pdf.py:300: UserWarning: Warning: Empty content on page 71 of document data/tax_etc/연말정산_주택자금·월세액_공제의이해.pdf\n",
      "  warnings.warn(\n",
      "c:\\Users\\Playdata\\miniconda3\\envs\\langchain\\Lib\\site-packages\\langchain_community\\document_loaders\\parsers\\pdf.py:300: UserWarning: Warning: Empty content on page 0 of document data/tax_etc/2024_핵심_개정세법.pdf\n",
      "  warnings.warn(\n",
      "c:\\Users\\Playdata\\miniconda3\\envs\\langchain\\Lib\\site-packages\\langchain_community\\document_loaders\\parsers\\pdf.py:300: UserWarning: Warning: Empty content on page 1 of document data/tax_etc/2024_핵심_개정세법.pdf\n",
      "  warnings.warn(\n",
      "c:\\Users\\Playdata\\miniconda3\\envs\\langchain\\Lib\\site-packages\\langchain_community\\document_loaders\\parsers\\pdf.py:300: UserWarning: Warning: Empty content on page 15 of document data/tax_etc/2024_핵심_개정세법.pdf\n",
      "  warnings.warn(\n",
      "c:\\Users\\Playdata\\miniconda3\\envs\\langchain\\Lib\\site-packages\\langchain_community\\document_loaders\\parsers\\pdf.py:300: UserWarning: Warning: Empty content on page 17 of document data/tax_etc/2024_핵심_개정세법.pdf\n",
      "  warnings.warn(\n",
      "c:\\Users\\Playdata\\miniconda3\\envs\\langchain\\Lib\\site-packages\\langchain_community\\document_loaders\\parsers\\pdf.py:300: UserWarning: Warning: Empty content on page 43 of document data/tax_etc/2024_핵심_개정세법.pdf\n",
      "  warnings.warn(\n",
      "c:\\Users\\Playdata\\miniconda3\\envs\\langchain\\Lib\\site-packages\\langchain_community\\document_loaders\\parsers\\pdf.py:300: UserWarning: Warning: Empty content on page 71 of document data/tax_etc/2024_핵심_개정세법.pdf\n",
      "  warnings.warn(\n"
     ]
    }
   ],
   "source": [
    "from loader import load_process_split_doc, load_process_split_doc_law\n",
    "\n",
    "# tax_etc 파일들 정의의\n",
    "doc_options = [\n",
    "    {\n",
    "        \"filename\":\"연말정산_신고안내\", \n",
    "        \"page_ranges\": [(17, 426)],\n",
    "        \"table_pages_range\": \"17-425\",\n",
    "        \"replace_string\": [\n",
    "            {\"target_str\": r\"01. 2024년 귀속 연말정산 개정세법 요약\\n\\d+|\"},\n",
    "            {\"target_str\": r\"01. 2024년 귀속 연말정산 개정세법 요약\\n\\d+|\"  },\n",
    "            {\"target_str\": r\"II. 2024년 귀속 연말정산 주요 일정\\n\\d+|\"},\n",
    "            {\"target_str\": r\"III\\. 원천징수의무자의 연말정산 중점 확인사항\\n\\d+|\"},\n",
    "            {\"target_str\": r\"원천징수의무자를 위한 \\n2024년 연말정산 신고안내\\n\\d+|\"},\n",
    "            {\"target_str\": r\"Ⅰ\\. 근로소득\\n\\d+|\"},\n",
    "            {\"target_str\": r\"II\\. 근로소득 원천징수 및 연말정산\\n\\d+|\"},\n",
    "            {\"target_str\": r\"III\\. 근로소득공제, 인적공제, 연금보험료공제\\n\\d+|\"},\n",
    "            {\"target_str\": r\"IV\\. 특별소득공제(소법 §52)\\n\\d+|\"},\n",
    "            {\"target_str\": r\"V\\. 그 밖의 소득공제(조특법)\\n\\d+|\"},\n",
    "            {\"target_str\": r\"VI\\. 세액감면(공제) 및 농어촌특별세\\n\\d+|\"},\n",
    "            {\"target_str\": r\"I\\. 2024년 귀속 연말정산 종합사례\\n\\d+|\"},\n",
    "            {\"target_str\": r\"II\\. 근로소득 원천징수영수증(지급명세서) 작성요령\\n\\d+|\"},\n",
    "            {\"target_str\": r\"IV\\. 수정 원천징수이행상황신고서 작성사례(과다공제)\\n\\d+|\"},\n",
    "            {\"target_str\": r\"VI\\. 홈택스를 이용한 연말정산 신고(근로소득 지급명세서 제출)\\n\\d+|\"},\n",
    "            {\"target_str\": r\"I\\. 사업소득 연말정산\\n\\d+|\"},\n",
    "            {\"target_str\": r\"II\\. 연금소득 연말정산\\n\\d+|\"},\n",
    "            {\"target_str\": r\"I\\. 종교인소득이란?\\n\\d+|\"},\n",
    "            {\"target_str\": r\"IV\\. 종교인소득(기타소득)에 대한 연말정산\\n\\d+|\"},\n",
    "            {\"target_str\": r\"부록1\\. 연말정산 관련 서비스\\n\\d+|\"},\n",
    "            {\"target_str\": r\"부록2\\. 연말정산간소화 서비스\\n\\d+|\"},\n",
    "            {\"target_str\": r\"부록5\\. 연말정산 주요 용어 설명\\n\\d+|\"},\n",
    "            {\"target_str\": r\"부록6\\. 소득·세액공제신고서 첨부서류\\n\\d+|\"},\n",
    "            {\"target_str\": r\"\\bNaN\\b\"},\n",
    "            {\"target_str\": r\"([\\uAC00-\\uD7A3])\\n+([\\uAC00-\\uD7A3])\",\"replace_str\": r\"\\1\\2\"},\n",
    "            {\"target_str\": r\"\\s+\", \"replace_str\": r\" \"},\n",
    "        ]\n",
    "    },\n",
    "    {\n",
    "        \"filename\":\"연말정산_주택자금·월세액_공제의이해\", \n",
    "        \"page_ranges\": [(9, 12), (15, 24), (27, 28), (31, 39), (43, 70)],\n",
    "        \"table_pages_range\": \"9-12,15-24,27-28,31-39,43-70\",\n",
    "        \"replace_string\": [\n",
    "            {\"target_str\": (r\"연말정산 주택자금･월세액 공제의 이해\\n\\d+|\" r\"\\bNaN\\b\"),  },\n",
    "            {\"target_str\": r\"([\\uAC00-\\uD7A3])\\n+([\\uAC00-\\uD7A3])\", \"replace_str\":  r\"\\1\\2\" },\n",
    "            {\"target_str\": r\"\\s+\", \"replace_str\": \" \" },\n",
    "        ]\n",
    "    },\n",
    "    {\n",
    "        \"filename\":\"2024_핵심_개정세법\", \n",
    "        \"page_ranges\": [(19, 44), (47, 71), (75, 161)],\n",
    "        \"table_pages_range\": \"19-44,47-71,75-161\",\n",
    "        \"replace_string\": [\n",
    "            {\"target_str\": (r\"2\\n0\\n2\\n5\\n\\s*달\\n라\\n지\\n는\\n\\s*세\\n금\\n제\\n도|\"  \n",
    "                r\"\\n2\\n0\\n2\\n4\\n\\s*세\\n목\\n별\\n\\s*핵\\n심\\n\\s*개\\n정\\n세\\n법|\"\n",
    "                r\"\\n2\\n0\\n2\\n4\\n\\s*개\\n정\\n세\\n법\\n\\s*종\\n전\\n-\\n개\\n정\\n사\\n항\\n\\s*비\\n교\\n|\"\n",
    "                r\"\\s*3\\s*❚국민･기업\\s*납세자용\\s*|\"\n",
    "                r\"\\s*2\\s*0\\s*2\\s*4\\s|\"\n",
    "                r\"\\s한국세무사회\\s|\" \n",
    "                r\"\\n7\\n❚국민･기업 납세자용|\"\n",
    "                r\"\\n71\\n❚상세본|\"),  \n",
    "            },\n",
    "            {\"target_str\": r\"([\\uAC00-\\uD7A3])\\n+([\\uAC00-\\uD7A3])\", \"replace_str\":  r\"\\1\\2\" },\n",
    "            {\"target_str\": r\"\\s+\", \"replace_str\": \" \" },\n",
    "        ]\n",
    "    },\n",
    "    {\n",
    "        \"filename\":\"주요_공제_항목별_계산사례\", \n",
    "        \"page_ranges\": [(1,1), (4, 21)],\n",
    "        \"table_pages_range\": \"1,4-21\",\n",
    "        \"replace_string\": [\n",
    "            {\"target_str\": r\"\\bNaN\\b\"},\n",
    "            {\"target_str\": r\"\\s+\", \"replace_str\": \" \" },\n",
    "        ]\n",
    "    }\n",
    "    \n",
    "]\n",
    "\n",
    "# vector store 에 넣을 데이터 document 모으기 -> all_documents\n",
    "all_documents = []\n",
    "# load - 세법 \n",
    "law_files = get_file_names(\"data/tax_law\")\n",
    "for file in law_files:\n",
    "    all_documents.extend(load_process_split_doc_law(file))\n",
    "# load - 참고자료\n",
    "for doc in doc_options:\n",
    "    all_documents.extend(load_process_split_doc(**doc))\n",
    "    "
   ]
  },
  {
   "cell_type": "code",
   "execution_count": 3,
   "id": "3d93bdf3",
   "metadata": {},
   "outputs": [
    {
     "data": {
      "text/plain": [
       "6241"
      ]
     },
     "execution_count": 3,
     "metadata": {},
     "output_type": "execute_result"
    }
   ],
   "source": [
    "len(all_documents)"
   ]
  },
  {
   "cell_type": "code",
   "execution_count": 4,
   "id": "7863fac8",
   "metadata": {},
   "outputs": [],
   "source": [
    "# 📌 vector store 생성\n",
    "COLLECTION_NAME = \"tax_law\"\n",
    "PERSIST_DIRECTORY = \"tax\"\n",
    "\n",
    "def set_vector_store(documents):\n",
    "    embedding_model = OpenAIEmbeddings(model=\"text-embedding-3-large\")\n",
    "\n",
    "    return Chroma.from_documents(\n",
    "        documents=documents,\n",
    "        embedding=embedding_model,\n",
    "        collection_name=COLLECTION_NAME,\n",
    "        persist_directory=PERSIST_DIRECTORY\n",
    "    )\n",
    "    \n",
    "vector_store = set_vector_store(all_documents)"
   ]
  },
  {
   "cell_type": "code",
   "execution_count": 18,
   "id": "8d586fa6",
   "metadata": {},
   "outputs": [],
   "source": [
    "COLLECTION_NAME = \"tax_law\"\n",
    "PERSIST_DIRECTORY = \"tax\"\n",
    "\n",
    "# 📌 vector store 불러오기\n",
    "from langchain_openai import OpenAIEmbeddings, ChatOpenAI\n",
    "from langchain_chroma import Chroma\n",
    "embedding_model = OpenAIEmbeddings(model=\"text-embedding-3-large\")\n",
    "vector_store = Chroma(\n",
    "        embedding_function=embedding_model,\n",
    "        collection_name=COLLECTION_NAME,\n",
    "        persist_directory=PERSIST_DIRECTORY\n",
    "    )\n",
    "\n"
   ]
  },
  {
   "cell_type": "code",
   "execution_count": 5,
   "id": "704cc47d",
   "metadata": {},
   "outputs": [
    {
     "data": {
      "text/plain": [
       "6241"
      ]
     },
     "execution_count": 5,
     "metadata": {},
     "output_type": "execute_result"
    }
   ],
   "source": [
    "vector_store._collection.count()"
   ]
  },
  {
   "cell_type": "code",
   "execution_count": 32,
   "id": "b8be7380",
   "metadata": {},
   "outputs": [],
   "source": [
    "retriever = vector_store.as_retriever(\n",
    "    search_type=\"mmr\",\n",
    "    search_kwargs={\"k\":3 , \"fetch_k\": 6, \"lambda_mult\":1}\n",
    ")"
   ]
  },
  {
   "cell_type": "code",
   "execution_count": 45,
   "id": "ce2c72fe",
   "metadata": {},
   "outputs": [],
   "source": [
    "# Prompt Template 생성\n",
    "messages = [\n",
    "        (\"ai\", \"\"\"\n",
    "        **기본 원칙**  \n",
    "        1. 모든 답변은 학습된 세법 데이터 내에서만 작성하세요.  \n",
    "        - 데이터에 없는 내용은 추측하거나 임의로 생성하지 마세요.  \n",
    "        - 답변할 정보가 없을 경우, 정직하게 \"잘 모르겠습니다.\"라고 응답하세요.  \n",
    "\n",
    "        2. 질문을 정확히 이해하고 답변하세요.  \n",
    "        - 조사(은, 는, 이, 가 등)를 포함한 문장 구조를 바르게 해석하세요.  \n",
    "        - 질문의 맥락을 파악하고, 필요한 경우 후속 질문을 제안하세요.  \n",
    "\n",
    "        **답변 작성 가이드**  \n",
    "        3. 답변의 구성:  \n",
    "        - **명료하고 간결**하게 작성하며, 비전문가도 이해할 수 있도록 용어를 풀어서 설명하세요.  \n",
    "        - 질문과 관련된 법 조항, 시행령, 시행규칙의 **번호와 요약된 내용**을 포함하세요.  \n",
    "        - 법, 시행령, 시행규칙의 계층 관계를 명확히 하세요:  \n",
    "        - 법률: 과세 원칙 및 제도를 규정.  \n",
    "        - 시행령: 대통령령으로 법률의 구체적인 사항을 규정.  \n",
    "        - 시행규칙: 부처에서 정한 세부 절차와 요건.  \n",
    "        - 필요 시 관련 조항의 전문을 인용하세요.  \n",
    "\n",
    "        4. 연관 정보 활용:  \n",
    "        - 질문이 포함된 조항뿐 아니라, 연관된 조항도 참고해 답변의 정확성과 완성도를 높이세요.  \n",
    "        - 질문이 세부 적용 방법에 관한 것이라면, 시행규칙을 우선 참고하되 법률 및 시행령과의 연관성을 설명하세요.  \n",
    "\n",
    "\n",
    "        **추가 규칙**  \n",
    "        5. **법률, 시행령, 시행규칙 구분 응답**  \n",
    "        - 사용자가 특정 법 조항을 요청할 경우, **법률, 시행령, 시행규칙**을 명확히 구분하여 답변하세요.  \n",
    "        - 예: \"개별소비세법 제1조\"를 물어보면 개별소비세법.pdf 파일을 가장 우선으로 참고해서 대해 답변합니다.  \n",
    "        - 예: \"개별소비세법 시행령 제1조\"를 물어보면 개별소비세법_시행령.pdf 파일을 가장 우선으로 참고해서 대해 답변합니다.  \n",
    "        - 예: \"개별소비세법 시행규칙 제1조\"를 물어보면 개별소비세법_시행규칙.pdf 파일을 가장 우선으로 참고해서 대해 답변합니다.  \n",
    "\n",
    "        **주의사항**  \n",
    "        6. 답변 형식:  \n",
    "        - 모든 답변은 법적 조언이 아닌 **정보 제공 목적**임을 명확히 하세요.  \n",
    "        - 질문에 해당하지 않는 계층(법, 시행령, 시행규칙)의 정보는 포함하지 마세요.  \n",
    "\n",
    "        7. 사용자 요청에 따라 세법 구조나 맥락을 간단히 설명해, 이해를 도우세요.\n",
    "\n",
    "\t{context}\")\"\"\"\n",
    "        ),\n",
    "        (\"human\", \"{question}\"),\n",
    "]\n",
    "prompt_template = ChatPromptTemplate(messages)\n",
    "# 모델\n",
    "model = ChatOpenAI(model=\"gpt-4o\")\n",
    "\n",
    "# output parser\n",
    "parser = StrOutputParser()\n",
    "\n",
    "# Chain 구성 retriever(관련문서 조회) -> prompt_template(prompt 생성) -> model(정답) -> output parser\n",
    "chain = {\"context\":retriever, \"question\": RunnablePassthrough()} | prompt_template | model | parser"
   ]
  },
  {
   "cell_type": "code",
   "execution_count": 42,
   "id": "7b2e44d6",
   "metadata": {},
   "outputs": [
    {
     "name": "stdout",
     "output_type": "stream",
     "text": [
      "법인세법 제1조는 법의 목적에 대해 규정하고 있습니다. 이 조항에서는 법인세법의 목적이 법인세의 부과와 징수에 관한 사항을 규정하여 법인으로부터의 세입을 확보하고, 국가의 재정에 기여하는 것을 목표로 한다고 명시하고 있습니다. 법인세법은 법인에 대한 세금 부과의 기본 원칙과 절차를 제공하며, 이를 통해 공정한 과세를 실현하고자 합니다.\n",
      "\n",
      "이와 같은 목적 조항은 법인세법의 전반적인 방향성과 의의를 설명하고 있으며, 이후 조항들이 이 목적을 달성하기 위한 구체적인 규정들로 구성되어 있습니다. \n",
      "\n",
      "법인세법 제1조에 대한 자세한 내용은 법인세법 전문을 참고하시기 바랍니다.\n"
     ]
    },
    {
     "data": {
      "text/plain": [
       "[Document(metadata={'description': '법인세법 시행규칙 에 관한 문서입니다.', 'keyword': '법인세법 시행규칙', 'source': '법인세법_시행규칙.pdf'}, page_content='법인세법 시행규칙\\n \\n기획재정부    (국제조세제도과   (외국법인)) 044-215-4652\\n기획재정부    (법인세제과) 044-215-4221\\n       제1장 총칙'),\n",
       " Document(metadata={'description': '법인세법 시행령 에 관한 문서입니다.', 'keyword': '법인세법 시행령', 'source': '법인세법_시행령.pdf'}, page_content='법인세법 시행령\\n \\n기획재정부    (국제조세제도과   (외국법인)) 044-215-4652\\n기획재정부    (법인세제과) 044-215-4221\\n       제1장 총칙'),\n",
       " Document(metadata={'description': '법인세법 에 관한 문서입니다.', 'keyword': '법인세법', 'source': '법인세법.pdf'}, page_content='법인세법\\n \\n기획재정부    (법인세제과) 044-215-4221\\n기획재정부    (국제조세제도과   (외국법인)) 044-215-4652\\n       제1장 총칙')]"
      ]
     },
     "execution_count": 42,
     "metadata": {},
     "output_type": "execute_result"
    }
   ],
   "source": [
    "print(chain.invoke(\"법인세법 제1조 에 대해 알려줘\"))\n",
    "retriever.invoke(\"법인세법 제1조 에 대해 알려줘\")"
   ]
  },
  {
   "cell_type": "code",
   "execution_count": 43,
   "id": "5b002060",
   "metadata": {},
   "outputs": [
    {
     "name": "stdout",
     "output_type": "stream",
     "text": [
      "개별소비세법 제1조는 과세대상과 세율에 관해 규정하고 있습니다. 주요 내용은 다음과 같습니다:\n",
      "\n",
      "1. **과세대상**: 개별소비세는 특정한 물품, 특정 장소에 대한 입장행위, 특정 장소에서의 유흥음식행위 및 영업행위에 대해 부과됩니다.\n",
      "\n",
      "2. **세율**:\n",
      "   - **물품**: \n",
      "     - 투전기, 오락용 사행기구 등은 물품가격의 20%의 세율이 적용됩니다.\n",
      "     - 보석, 귀금속 제품, 고급 시계 등은 대통령령으로 정한 기준가격을 초과하는 부분에 대해 20%의 세율이 적용됩니다.\n",
      "     - 자동차는 배기량에 따라 5%의 세율이 적용됩니다.\n",
      "     - 유류 및 가스 등은 수량에 따라 각각 다른 세율이 적용됩니다.\n",
      "   - **입장행위**: 경마장, 경륜장, 골프장 등 특정 장소의 입장에 대해 정해진 금액의 세율이 부과됩니다.\n",
      "   - **유흥음식행위**: 유흥주점이나 외국인 전용 유흥음식점 등에서 유흥음식요금의 10%가 과세됩니다.\n",
      "   - **영업행위**: 카지노 등에서의 영업행위는 연간 총매출액에 따라 과세됩니다.\n",
      "\n",
      "이러한 규정들은 국민경제의 효율적 운용을 위해 필요한 경우 대통령령으로 세율을 조정할 수 있습니다. 과세물품의 판정은 물품의 형태, 용도, 성질 등의 특성에 따라 이루어집니다.\n"
     ]
    },
    {
     "data": {
      "text/plain": [
       "[Document(metadata={'description': '개별소비세법 시행령 제1조에 관한 문서입니다.', 'keyword': '개별소비세법 시행령', 'source': '개별소비세법_시행령.pdf'}, page_content='제1조    (과세물품ㆍ과세장소 및 과세유흥장소의 세목등) 「개별소비세법」 제1조제6항에 따른 과세물품의 세목은 별표\\n1과 같이 하고, 과세장소의 종류는 별표 2와 같이 하며, 과세유흥장소의 종류는 유흥주점ㆍ외국인전용 유흥음식점\\n및 그 밖에 이와 유사한 장소로 하고, 과세영업장소의 종류는 「관광진흥법」 제5조제1항에 따라 허가를 받은 카지노\\n   (「폐광지역개발 지원에 관한 특별법」 제11조에 따라 허가를 받은 카지노를 포함한다)로 한다.'),\n",
       " Document(metadata={'description': '개별소비세법 제1조에 관한 문서입니다.', 'keyword': '개별소비세법', 'source': '개별소비세법.pdf'}, page_content='제1조    (과세대상과 세율) ① 개별소비세는 특정한 물품, 특정한 장소 입장행위   (入場行爲), 특정한 장소에서의 유흥음식행\\n위   (遊興飮食行爲) 및 특정한 장소에서의 영업행위에 대하여 부과한다. \\n② 개별소비세를 부과할 물품   (이하 “과세물품”이라 한다)과 그 세율은 다음과 같다.\\n1. 다음 각 목의 물품에 대해서는 그 물품가격에 100분의 20의 세율을 적용한다.\\n가. 투전기   (投錢機), 오락용 사행기구   (射倖器具), 그 밖의 오락용품\\n나. 수렵용 총포류\\n2. 다음 각 목의 물품에 대해서는 그 물품가격 중 대통령령으로 정하는 기준가격   (이하 “기준가격”이라 한다)을 초과\\n하는 부분의 가격   (이하 이 호에서 “과세가격”이라 한다)에 해당 세율을 적용한다.\\n가. 다음의 물품에 대해서는 과세가격의 100분의 20\\n1) 보석, 진주, 별갑   (鼈甲), 산호, 호\\n박   (琥珀) 및 상아와 이를 사용한 제품   (나석을 사용한 제품은 포함한다)\\n2) 귀금속 제품\\n3) 삭제\\n4) 고급 시계\\n5) 고급 융단\\n6) 고급 가방\\n나. 다음의 물품에 대해서는 과세가격의 100분의 20\\n1) 고급 모피와 그 제품\\n2) 고급 가구\\n3. 다음 각 목의 자동차에 대해서는 그 물품가격에 해당 세율을 적용한다.\\n가. 배기량이 2천시시를 초과하는 승용자동차와 캠핑용자동차: 100분의 5\\n나. 배기량이 2천시시 이하인 승용자동차   (배기량이 1천시시 이하인 것으로서 대통령령으로 정하는 규격의 것은\\n제외한다)와 이륜자동차 : 100분의 5\\n다. 전기승용자동차   (「자동차관리법」 제3조제2항에 따른 세부기준을 고려하여 대통령령으로 정하는 규격의 것은\\n제외한다): 100분의 5\\n4. 다음 각 목의 물품에 대해서는 그 수량에 해당 세율을 적용한다.\\n가. 휘발유 및 이와 유사한 대체유류   (代替油類): 리터당 475원\\n나. 경유 및 이와 유사한 대체유류: 리터당 340원\\n다. 등유 및 이와 유사한 대체유류: 리터당 90원\\n라. 중유   (重油) 및 이와 유사한 대체유류: 리터당 17원\\n마. 석유가스 중 프로판   (프로판과 부탄을 혼합한 것으로서 대통령령으로\\n정하는 것을 포함한다): 킬로그램당 20원\\n바. 석유가스 중 부탄   (부탄과 프로판을 혼합한 것으로서 마목에 해당하지 아니하는 것을 포함한다): 킬로그램당\\n252원\\n 사. 천연가스   (액화한 것을 포함한다. 이하 같다): 킬로그램당 12원. 다만, 발전용 외의 천연가스   (기획재정부령으로\\n정하는 것을 말한다)는 킬로그램당 60원으로 한다.\\n아. 석유제품 외의 물품을 제조하는 과정에서 부산물   (副産物)로 생산되는 유류로서 대통령령으로 정하는 것: 리터\\n당 90원\\n자. 유연탄: 킬로그램당 46원\\n5. 삭제\\n6. 담배   (다음 각 목의 어느 하나를 말한다)에 대한 종류별 세율은 별표와 같다.\\n가. 「담배사업법」 제2조제1호에 따른 담배\\n나. 가목과 유사한 것으로서 연초   (煙草)의 잎이 아닌 다른 부분을 원료의 전부 또는 일부로 하여 피우거나, 빨거나\\n, 증기로 흡입하거나, 씹거나, 냄새 맡기에 적합한 상태로 제조한 것\\n다. 그 밖에 가목과 유사한 것으로서 대통령령으로 정하는 것\\n③ 입장행위   (관련 설비 또는 용품의 이용을 포함한다. 이하 같다)에 대하여 개별소비세를 부과할 장소   (이하 “과세장\\n소”라 한다)와 그 세율은 다음과 같다.\\n1. 경마장 : 1명 1회 입장에 대하여 1천원. 다만, 장외발매소는 2천원으로 한다.\\n2. 경륜장   (競輪場)ㆍ경정장   (競艇場): 1명 1회 입장에 대하여 400원. 다만, 장외매장은 800원으로 한다.\\n3. 투전기를 설치한 장소 : 1명 1회 입장에 대하여 1만원\\n4. 골프장 : 1명 1회 입장에 대하여 1만2천원\\n5. 카지노 : 1명 1회 입장에 대하여 5만원   (「폐광지역 개발 지원에 관한 특별법」 제11조에 따라 허가를 받은 카지노\\n의 경우에는 1명 1회 입장에 대하여 6천300원). 다만, 외국인은 1명 1회 입장에 대하여 2천원으로 한다.\\n④유흥음식행위에 대하여 개별소비세를 부과하는 장소   (이하 “과세유흥장소”라 한다)와 그 세율은 다음과 같다.\\n유흥주점, 외국인전용 유흥음식점, 그 밖에 이와 유사한 장소: 유흥음식요금의 100분의 10\\n⑤영업행위에 대하여 개별소비세를 부과하는 장소   (이하 “과세영업장소”라 한다)와 그 세율은 다음과 같다.\\n「관광진흥법」 제5조제1항에 따라 허가를 받은 카지노   (「폐광지역개발 지원에 관한 특별법」 제11조에 따라 허가\\n를 받은 카지노를 포함한다) : 연간 총매출액   (「관광진흥법」 제30조제1항에 따른 총매출액을 말한다. 이하 같다\\n)에 따른 다음 각 호의 어느 하나의 세율\\n⑥ 과세물품   (제2항제2호나목1), 같은 항 제4호바목ㆍ사목 및 같은 항 제6호는 제외한다), 과세장소, 과세유흥장소\\n및 과세영업장소의 세목   (細目)과 종류는 대통령령으로 정한다.\\n⑦ 제2항과 제3항의 세율은 국민경제의 효율적 운용을 위하여 경기 조절, 가격 안정, 수급 조정에 필요한 경우와 유\\n가변동에 따른 지원사업의 재원 조달에 필요한 경우 그 세율의 100분의 30   (제2항제4호 각 목의 경우 2024년 12월\\n31일까지는 100분의 50)의 범위에서 대통령령으로 조정할 수 있다. 다만, 제2항제1호부터 제3호까지의 과세물품 중\\n대통령령으로 정하는 과세물품에 대해서는 본문에 따라 세율을 조정하는 경우 제2항에서 정한 세율에 따른 산출세\\n액과 조정 후 세율에 따른 산출세액 간 차액의 한도를 과세물품당 100만원의 범위에서 대통령령으로 정할 수 있다.\\n\\n⑧ 과세물품의 판정은 그 명칭이 무엇이든 상관없이 그 물품의 형태ㆍ용도ㆍ성질이나 그 밖의 중요한 특성에 의한\\n다.\\n⑨ 동일한 과세물품이 제2항의 품목 중 둘 이상에 해당하는 경우에는 그 과세물품의 특성에 맞는 물품으로 취급하\\n되 그 특성이 명확하지 아니한 경우에는 주된 용도로 사용되는 물품으로 취급하고, 주된 용도가 명확하지 아니한 경\\n우에는 높은 세율이 적용되는 물품으로 취급한다.\\n ⑩ 과세물품이 분해되었거나 미조립   (未組立) 상태로 반출   (搬出)되는 경우에는 이를 완제품으로 취급한다.\\n⑪ 「식품위생법」, 「관광진흥법」, 그 밖의 법령에 따라 허가를 받지 아니하고 제4항 또는 제5항에 해당하는 과세유\\n흥장소 또는 과세영업장소를 경영하는 경우에도 그 장소를 과세대상인 과세유흥장소 또는 과세영업장소로 본다.\\n\\n⑫ 제8항부터 제11항까지에서 규정한 사항 외에 과세물품, 과세장소, 과세유흥장소, 과세영업장소 및 유흥음식행위\\n의 판정에 필요한 사항은 대통령령으로 정한다.'),\n",
       " Document(metadata={'description': '개별소비세법 시행규칙 에 관한 문서입니다.', 'keyword': '개별소비세법 시행규칙', 'source': '개별소비세법_시행규칙.pdf'}, page_content='개별소비세법 시행규칙\\n \\n기획재정부    (환경에너지세제과) 044-215-4331, 4336\\n기획재정부    (환경에너지세제과 - 자동차 부분) 044-215-4333, 4336')]"
      ]
     },
     "execution_count": 43,
     "metadata": {},
     "output_type": "execute_result"
    }
   ],
   "source": [
    "print(chain.invoke(\"개별소비세법 제1조(과세대상과 세율) 에 대해 알려줘\"))\n",
    "retriever.invoke(\"개별소비세법 제1조(과세대상과 세율) 에 대해 알려줘\")"
   ]
  },
  {
   "cell_type": "code",
   "execution_count": 36,
   "id": "f02f66f5",
   "metadata": {},
   "outputs": [
    {
     "name": "stdout",
     "output_type": "stream",
     "text": [
      "개별소비세법의 과세대상과 세율에 대해 설명드리겠습니다.\n",
      "\n",
      "**과세대상:**\n",
      "개별소비세법은 특정한 소비재나 서비스에 대해 과세하는 세금입니다. 주로 사치품, 특정한 고급 소비재, 그리고 환경에 영향을 미치는 제품 등이 과세대상에 포함됩니다. 과세대상은 법률과 시행령에 따라 구체적으로 규정됩니다. 예를 들어, 고급 자동차, 보석류, 고급 가전제품 등이 그 대상에 포함될 수 있습니다.\n",
      "\n",
      "**세율:**\n",
      "개별소비세의 세율은 과세대상 품목에 따라 다르게 적용됩니다. 일반적으로 고급 소비재나 사치품에 대해 높은 세율이 부과됩니다. 세율은 법률에서 기본적인 틀을 제공하고, 시행령과 시행규칙에서 구체적으로 명시됩니다. 따라서 각 품목에 대한 구체적인 세율은 관련 법령을 참조해야 합니다.\n",
      "\n",
      "개별소비세법의 조항을 참고해 보다 상세한 정보를 원하시면, 해당 법령의 구체적인 조항을 확인하는 것이 필요합니다. 법령의 변화가 있을 수 있으므로, 최신 정보를 확인하는 것도 중요합니다. 필요하신 경우, 특정 품목에 대한 세율이나 과세 기준을 알려주시면 보다 구체적으로 안내드릴 수 있습니다.\n"
     ]
    },
    {
     "data": {
      "text/plain": [
       "[Document(metadata={'description': '개별소비세법 시행규칙 에 관한 문서입니다.', 'keyword': '개별소비세법 시행규칙', 'source': '개별소비세법_시행규칙.pdf'}, page_content='개별소비세법 시행규칙\\n \\n기획재정부    (환경에너지세제과) 044-215-4331, 4336\\n기획재정부    (환경에너지세제과 - 자동차 부분) 044-215-4333, 4336'),\n",
       " Document(metadata={'description': '개별소비세법 에 관한 문서입니다.', 'keyword': '개별소비세법', 'source': '개별소비세법.pdf'}, page_content='개별소비세법\\n \\n기획재정부    (환경에너지세제과) 044-215-4331, 4336\\n기획재정부    (환경에너지세제과 - 자동차 부분) 044-215-4333, 4336'),\n",
       " Document(metadata={'description': '개별소비세법 시행령 에 관한 문서입니다.', 'keyword': '개별소비세법 시행령', 'source': '개별소비세법_시행령.pdf'}, page_content='개별소비세법 시행령\\n \\n기획재정부    (환경에너지세제과) 044-215-4331, 4336\\n기획재정부    (환경에너지세제과 - 자동차 부분) 044-215-4333, 4336')]"
      ]
     },
     "execution_count": 36,
     "metadata": {},
     "output_type": "execute_result"
    }
   ],
   "source": [
    "print(chain.invoke(\"개별소비세법 과세대상과 세율 에 대해 알려줘\"))\n",
    "retriever.invoke(\"개별소비세법 과세대상과 세율 에 대해 알려줘\")"
   ]
  },
  {
   "cell_type": "code",
   "execution_count": null,
   "id": "cdb3ccc7",
   "metadata": {},
   "outputs": [
    {
     "name": "stdout",
     "output_type": "stream",
     "text": [
      "죄송하지만, 개별소비세법 제1조에 대한 구체적인 내용은 현재 제공된 데이터에는 포함되어 있지 않습니다. 다만 일반적으로 법률 제1조는 해당 법의 목적을 규정하는 경우가 많습니다. 개별소비세법 제1조의 구체적인 내용은 법령 정보를 제공하는 공식 웹사이트나 관련 법률 자료를 통해 확인하는 것이 좋습니다. 추가적인 도움이 필요하시면 말씀해 주세요.\n"
     ]
    },
    {
     "data": {
      "text/plain": [
       "[Document(metadata={'description': '개별소비세법 시행규칙 에 관한 문서입니다.', 'keyword': '개별소비세법 시행규칙', 'source': '개별소비세법_시행규칙.pdf'}, page_content='개별소비세법 시행규칙\\n \\n기획재정부    (환경에너지세제과) 044-215-4331, 4336\\n기획재정부    (환경에너지세제과 - 자동차 부분) 044-215-4333, 4336'),\n",
       " Document(metadata={'description': '개별소비세법 시행령 제1조에 관한 문서입니다.', 'keyword': '개별소비세법 시행령', 'source': '개별소비세법_시행령.pdf'}, page_content='제1조    (과세물품ㆍ과세장소 및 과세유흥장소의 세목등) 「개별소비세법」 제1조제6항에 따른 과세물품의 세목은 별표\\n1과 같이 하고, 과세장소의 종류는 별표 2와 같이 하며, 과세유흥장소의 종류는 유흥주점ㆍ외국인전용 유흥음식점\\n및 그 밖에 이와 유사한 장소로 하고, 과세영업장소의 종류는 「관광진흥법」 제5조제1항에 따라 허가를 받은 카지노\\n   (「폐광지역개발 지원에 관한 특별법」 제11조에 따라 허가를 받은 카지노를 포함한다)로 한다.'),\n",
       " Document(metadata={'description': '개별소비세법 시행령 에 관한 문서입니다.', 'keyword': '개별소비세법 시행령', 'source': '개별소비세법_시행령.pdf'}, page_content='개별소비세법 시행령\\n \\n기획재정부    (환경에너지세제과) 044-215-4331, 4336\\n기획재정부    (환경에너지세제과 - 자동차 부분) 044-215-4333, 4336')]"
      ]
     },
     "execution_count": 37,
     "metadata": {},
     "output_type": "execute_result"
    }
   ],
   "source": [
    "print(chain.invoke(\"개별소비세법 제1조 에 대해 알려줘\"))\n",
    "retriever.invoke(\"개별소비세법 제1조 에 대해 알려줘\")"
   ]
  },
  {
   "cell_type": "markdown",
   "id": "74128f7f",
   "metadata": {},
   "source": [
    "## 평가"
   ]
  },
  {
   "cell_type": "code",
   "execution_count": null,
   "id": "1bcb3413",
   "metadata": {},
   "outputs": [
    {
     "data": {
      "application/vnd.jupyter.widget-view+json": {
       "model_id": "ee819c1d5e7f4e3c9b7b49ae321ec568",
       "version_major": 2,
       "version_minor": 0
      },
      "text/plain": [
       "Evaluating:   0%|          | 0/4 [00:00<?, ?it/s]"
      ]
     },
     "metadata": {},
     "output_type": "display_data"
    },
    {
     "name": "stdout",
     "output_type": "stream",
     "text": [
      "{'faithfulness': 0.2917, 'answer_relevancy': 0.8254, 'context_precision': 1.0000, 'context_recall': 0.1034}\n"
     ]
    }
   ],
   "source": [
    "from ragas import EvaluationDataset, RunConfig, evaluate\n",
    "from datasets import Dataset\n",
    "from ragas.metrics import (\n",
    "    LLMContextRecall, Faithfulness, LLMContextPrecisionWithReference, AnswerRelevancy\n",
    ")\n",
    "from ragas.llms import LangchainLLMWrapper\n",
    "from ragas.embeddings import LangchainEmbeddingsWrapper\n",
    "from ragas import evaluate\n",
    "from ragas.metrics import faithfulness, answer_relevancy, context_precision, context_recall\n",
    "\n",
    "from datasets import Dataset\n",
    "\n",
    "# LangChain 모델 래핑\n",
    "langchain_model = LangchainLLMWrapper(model)\n",
    "\n",
    "# 테스트 데이터 준비 (예시)\n",
    "test_data = [\n",
    "    # {\n",
    "    #     \"question\": \"개별소비세법의 목적은 무엇인가요?\",\n",
    "    #     \"answer\": chain.invoke(\"개별소비세법의 목적은 무엇인가요?\"),\n",
    "    #     \"contexts\": [doc.page_content for doc in retriever.get_relevant_documents(\"개별소비세법의 목적은 무엇인가요?\")],\n",
    "    #     \"ground_truths\": [\"개별소비세법의 목적은 특정 물품과 특정 장소에 대한 소비세를 부과하여 국가 재정수입을 확보하고 소비를 조정하는 것입니다.\"],\n",
    "    #     \"reference\": \"\\n\".join([doc.page_content for doc in retriever.get_relevant_documents(\"개별소비세법의 목적은 무엇인가요?\")])\n",
    "    # },\n",
    "    # {\n",
    "    #     \"question\": \"\",\n",
    "    #     \"answer\": chain.invoke(\"개별소비세법 제1조(과세대상과 세율)가 무엇인가요?\"),\n",
    "    #     \"contexts\": [doc.page_content for doc in retriever.get_relevant_documents(\"개별소비세법 제1조가 무엇인가요?\")],\n",
    "    #     \"ground_truths\": [\"제1조(과세대상과 세율) ① 개별소비세는 특정한 물품, 특정한 장소 입장행위(入場行爲), 특정한 장소에서의 유흥음식행위(遊興飮食行爲) 및 특정한 장소에서의 영업행위에 대하여 부과한다. <개정 2010. 1. 1.>② 개별소비세를 부과할 물품(이하 “과세물품”이라 한다)과 그 세율은 다음과 같다.\",],\n",
    "    #     \"reference\": \"\\n\".join([doc.page_content for doc in retriever.get_relevant_documents(\"개별소비세법 제1조(과세대상과 세율)가 무엇인가요?\")])\n",
    "    # },\n",
    "    # {\n",
    "    #     \"question\": \"조세범 처벌절차법의 목적이 무엇인가요?\",\n",
    "    #     \"answer\": chain.invoke(\"조세범 처벌절차법의 목적이 무엇인가요?\"),\n",
    "    #     \"contexts\": [doc.page_content for doc in retriever.get_relevant_documents(\"조세범 처벌절차법의 목적이 무엇인가요?\")],\n",
    "    #     \"ground_truths\": [\"제1조(목적) 이 법은 조세범칙사건(犯則事件)을 공정하고 효율적으로 처리하기 위하여 조세범칙사건의 조사 및 그 처분에 관한 사항을 정함을 목적으로 한다\"],\n",
    "    #     \"reference\": \"\\n\".join([doc.page_content for doc in retriever.get_relevant_documents(\"조세범 처벌절차법의 목적이 무엇인가요?\")])\n",
    "    # },\n",
    "    # {\n",
    "    #     \"question\": \"법인세 제1조가 무엇인가요?\",\n",
    "    #     \"answer\": chain.invoke(\"법인세 제1조가 무엇인가요?\"),\n",
    "    #     \"contexts\": [doc.page_content for doc in retriever.get_relevant_documents(\"법인세 제1조가 무엇인가요?\")],\n",
    "    #     \"ground_truths\": [\"이 법은 법인세의 과세 요건과 절차를 규정함으로써 법인세를 공정하게 과세하고, 납세의무의 적절한 이행을 확보하며, 재정수입의 원활한 조달에 이바지함을 목적으로 한다.\"],\n",
    "    #     \"reference\": \"\\n\".join([doc.page_content for doc in retriever.get_relevant_documents(\"법인세 제1조가 무엇인가요?\")])\n",
    "    # }\n",
    "    \n",
    "]\n",
    "\n",
    "# Dataset 생성\n",
    "dataset = Dataset.from_list(test_data)\n",
    "\n",
    "# 평가 실행\n",
    "result = evaluate(\n",
    "    dataset,\n",
    "    metrics=[\n",
    "        faithfulness,\n",
    "        answer_relevancy,\n",
    "        context_precision,\n",
    "        context_recall,\n",
    "    ],\n",
    "    llm=langchain_model,\n",
    ")\n",
    "\n",
    "# 결과 출력\n",
    "print(result)\n"
   ]
  },
  {
   "cell_type": "code",
   "execution_count": 48,
   "id": "98bee046",
   "metadata": {},
   "outputs": [
    {
     "data": {
      "application/vnd.jupyter.widget-view+json": {
       "model_id": "d9a1a08e2b9941348c3682f69857a826",
       "version_major": 2,
       "version_minor": 0
      },
      "text/plain": [
       "Evaluating:   0%|          | 0/4 [00:00<?, ?it/s]"
      ]
     },
     "metadata": {},
     "output_type": "display_data"
    }
   ],
   "source": [
    "# from ragas import EvaluationDataset, RunConfig, evaluate\n",
    "# from ragas.metrics import (\n",
    "#     LLMContextRecall, Faithfulness, LLMContextPrecisionWithReference, AnswerRelevancy\n",
    "# )\n",
    "# from ragas.llms import LangchainLLMWrapper\n",
    "# from ragas.embeddings import LangchainEmbeddingsWrapper\n",
    "\n",
    "## GPT-4o 모델을 사용하여 평가 \n",
    "model_name = \"gpt-4o\"\n",
    "model = ChatOpenAI(model=model_name)\n",
    "langchain_model = LangchainLLMWrapper(model)\n",
    "\n",
    "embedding_model = OpenAIEmbeddings(model=\"text-embedding-3-large\")\n",
    "eval_embedding = LangchainEmbeddingsWrapper(embedding_model)\n",
    "metrics = [\n",
    "    LLMContextRecall(llm=langchain_model),\n",
    "    LLMContextPrecisionWithReference(llm=langchain_model),\n",
    "    Faithfulness(llm=langchain_model),\n",
    "    AnswerRelevancy(llm=langchain_model, embeddings=eval_embedding)\n",
    "]\n",
    "result = evaluate(dataset=dataset, metrics=metrics)"
   ]
  },
  {
   "cell_type": "code",
   "execution_count": 49,
   "id": "cf3fd276",
   "metadata": {},
   "outputs": [
    {
     "data": {
      "text/plain": [
       "{'context_recall': 1.0000, 'llm_context_precision_with_reference': 0.5000, 'faithfulness': 0.0000, 'answer_relevancy': 0.0000}"
      ]
     },
     "execution_count": 49,
     "metadata": {},
     "output_type": "execute_result"
    }
   ],
   "source": [
    "result"
   ]
  },
  {
   "cell_type": "code",
   "execution_count": null,
   "id": "5a40484e",
   "metadata": {},
   "outputs": [],
   "source": [
    "# DataFrame 생성\n",
    "df_result = pd.DataFrame(test_data)\n",
    "\n",
    "# 최대 열 너비 설정\n",
    "pd.set_option('display.max_colwidth', None)\n",
    "\n",
    "# 최대 행 수 설정\n",
    "pd.set_option('display.max_rows', None)\n",
    "\n",
    "df_result"
   ]
  }
 ],
 "metadata": {
  "kernelspec": {
   "display_name": "langchain",
   "language": "python",
   "name": "python3"
  },
  "language_info": {
   "codemirror_mode": {
    "name": "ipython",
    "version": 3
   },
   "file_extension": ".py",
   "mimetype": "text/x-python",
   "name": "python",
   "nbconvert_exporter": "python",
   "pygments_lexer": "ipython3",
   "version": "3.12.7"
  }
 },
 "nbformat": 4,
 "nbformat_minor": 5
}
