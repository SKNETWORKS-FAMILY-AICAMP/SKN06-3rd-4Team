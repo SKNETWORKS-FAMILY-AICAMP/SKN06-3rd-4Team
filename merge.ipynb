{
 "cells": [
  {
   "cell_type": "code",
   "execution_count": null,
   "metadata": {},
   "outputs": [],
   "source": [
    "#tax에 직접 병합하다 오류 발생 시 tax 전체가 손상될 위험이 있어 tax_merged를 생성 후 병합#"
   ]
  },
  {
   "cell_type": "code",
   "execution_count": 20,
   "metadata": {},
   "outputs": [],
   "source": [
    "## 합칠 벡터 데이터베이스 불러오기##\n",
    "#tax와 tax1 합치는 코드#\n",
    "\n",
    "from langchain.vectorstores import Chroma\n",
    "from langchain.embeddings import OpenAIEmbeddings\n",
    "from langchain.schema import Document\n",
    "\n",
    "# 임베딩 모델 설정 (두 DB 모두 동일한 모델을 사용)\n",
    "embedding_model = OpenAIEmbeddings(model=\"text-embedding-3-large\")\n",
    "\n",
    "# 첫 번째 데이터베이스 (메인 DB)\n",
    "tax_db = Chroma(\n",
    "    collection_name=\"tax_law\",\n",
    "    persist_directory=\"tax\",\n",
    "    embedding_function=embedding_model\n",
    ")\n",
    "\n",
    "# 두 번째 데이터베이스 (서브 DB)\n",
    "tax1_db = Chroma(\n",
    "    collection_name=\"tax1\",\n",
    "    persist_directory=\"tax1\",\n",
    "    embedding_function=embedding_model\n",
    ")\n"
   ]
  },
  {
   "cell_type": "code",
   "execution_count": 21,
   "metadata": {},
   "outputs": [],
   "source": [
    "# 메인 DB 문서 추출\n",
    "tax_documents = tax_db.get()\n",
    "tax_documents_converted = [\n",
    "    Document(page_content=doc, metadata=meta)\n",
    "    for doc, meta in zip(tax_documents['documents'], tax_documents['metadatas'])\n",
    "]\n",
    "\n",
    "# 서브 DB 문서 추출\n",
    "tax1_documents = tax1_db.get()\n",
    "tax1_documents_converted = [\n",
    "    Document(page_content=doc, metadata=meta)\n",
    "    for doc, meta in zip(tax1_documents['documents'], tax1_documents['metadatas'])\n",
    "]\n"
   ]
  },
  {
   "cell_type": "code",
   "execution_count": 22,
   "metadata": {},
   "outputs": [],
   "source": [
    "# 두 데이터베이스의 문서를 병합\n",
    "merged_documents = tax_documents_converted + tax1_documents_converted\n"
   ]
  },
  {
   "cell_type": "code",
   "execution_count": 6,
   "metadata": {},
   "outputs": [],
   "source": [
    "# 병합된 데이터베이스 생성\n",
    "merged_db = Chroma.from_documents(\n",
    "    documents=merged_documents,\n",
    "    embedding=embedding_model,\n",
    "    collection_name=\"tax_merged\",\n",
    "    persist_directory=\"tax_merged\"\n",
    ")\n"
   ]
  },
  {
   "cell_type": "code",
   "execution_count": 7,
   "metadata": {},
   "outputs": [
    {
     "name": "stdout",
     "output_type": "stream",
     "text": [
      "text-embedding-3-large\n",
      "text-embedding-3-large\n"
     ]
    }
   ],
   "source": [
    "print(tax_db._embedding_function.model)\n",
    "print(tax1_db._embedding_function.model)"
   ]
  },
  {
   "cell_type": "code",
   "execution_count": 8,
   "metadata": {},
   "outputs": [
    {
     "name": "stdout",
     "output_type": "stream",
     "text": [
      "✅ 병합된 데이터베이스가 저장되었습니다.\n"
     ]
    },
    {
     "name": "stderr",
     "output_type": "stream",
     "text": [
      "C:\\Users\\Playdata\\AppData\\Local\\Temp\\ipykernel_10760\\2650310567.py:2: LangChainDeprecationWarning: Since Chroma 0.4.x the manual persistence method is no longer supported as docs are automatically persisted.\n",
      "  merged_db.persist()\n"
     ]
    }
   ],
   "source": [
    "# 병합된 데이터베이스 변경사항 저장\n",
    "merged_db.persist()\n",
    "print(\"✅ 병합된 데이터베이스가 저장되었습니다.\")\n"
   ]
  },
  {
   "cell_type": "code",
   "execution_count": 9,
   "metadata": {},
   "outputs": [],
   "source": [
    "##두 개의 벡터 데이터베이스 병합 후 테스트##\n",
    "# 임베딩 모델 설정\n",
    "embedding_model = OpenAIEmbeddings(model=\"text-embedding-3-large\")\n",
    "\n",
    "# 병합된 벡터 데이터베이스 불러오기\n",
    "tax_merged_db = Chroma(\n",
    "    collection_name=\"tax_merged\",\n",
    "    persist_directory=\"tax_merged\",\n",
    "    embedding_function=embedding_model\n",
    ")\n"
   ]
  },
  {
   "cell_type": "code",
   "execution_count": 10,
   "metadata": {},
   "outputs": [],
   "source": [
    "retriever = tax_merged_db.as_retriever(\n",
    "    search_type=\"mmr\",\n",
    "    search_kwargs={\"k\":5, \"fetch_k\":10}\n",
    ")"
   ]
  },
  {
   "cell_type": "code",
   "execution_count": 11,
   "metadata": {},
   "outputs": [],
   "source": [
    "from langchain.prompts import ChatPromptTemplate\n",
    "from langchain_openai import ChatOpenAI\n",
    "from langchain_core.runnables import RunnablePassthrough\n",
    "from langchain_core.output_parsers import StrOutputParser\n",
    "\n",
    "# Prompt Template 생성\n",
    "messages = [\n",
    "        (\"ai\", \"\"\"\n",
    "        당신은 대한민국 세법에 대해 전문적으로 학습된 AI 도우미입니다. 저장된 세법 조항 데이터를 기반으로 사용자 질문에 답변하세요.\n",
    "\n",
    "        - 모든 답변은 학습된 세법 데이터 내에서만 유효한 정보를 바탕으로 작성하세요. 데이터에 없는 내용은 추측하거나 임의로 생성하지 마세요.\n",
    "        - 질문에 명확한 답변이 없거나 데이터 내에서 찾을 수 없는 경우, 정직하게 \"잘 모르겠습니다.\"라고 말하고, 새로운 질문을 유도하세요.\n",
    "        - 질문이 포함된 조항뿐 아니라, 필요 시 서로 연관된 다른 조항도 참고하여 답변의 정확성과 완성도를 높이세요.\n",
    "        - 사용자가 이해하기 쉽게 답변을 구성하며, 중요한 키워드나 법 조항은 명확히 표시하세요.\n",
    "        - 세법과 관련된 복잡한 질문에 대해서는 관련 조항 번호와 요약된 내용을 포함하여 답변을 제공하세요.\n",
    "        \n",
    "        추가 규칙:\n",
    "        답변은 간결하고 명료하게 작성하되, 필요한 경우 관련 조항의 전문을 추가적으로 인용하세요.\n",
    "        세법 용어를 사용자 친화적으로 설명하여 비전문가도 쉽게 이해할 수 있도록 하세요.\n",
    "        질문을 완전히 이해하기 어렵거나 모호할 경우, 사용자가 구체적으로 질문을 다시 작성할 수 있도록 유도하는 후속 질문을 하세요.\n",
    "        #추가한 부분#\n",
    "        사용자의 질문이 정확한 법령명이나 조항을 다루고 있지 않더라도, 질문의 맥락과 키워드를 분석하여 가장 가까운 관련 법령 및 조항을 찾아 답변하세요.\n",
    "        법령명에서 법과 같은 접미어가 생략된 경우에도 동일한 의미로 간주하세요.\n",
    "        법령명과 조항 번호가 다소 부정확하게 입력되었더라도, AI가 가능한 한 사용자의 의도를 파악하여 올바른 법령과 조항으로 연결하세요.\n",
    "        질문에 특정 조항(예: 제1조)이 포함된 경우, 해당 조항의 제목, 본문, 연혁, 주석을 종합적으로 확인해 답변하세요.\n",
    "        \n",
    "        {context}\")\"\"\"\n",
    "        ),\n",
    "        (\"human\", \"{question}\"),\n",
    "]\n",
    "prompt_template = ChatPromptTemplate(messages)\n",
    "\n",
    "# 모델\n",
    "model = ChatOpenAI(model=\"gpt-4o\")\n",
    "\n",
    "# Output Parser\n",
    "parser = StrOutputParser()\n",
    "\n",
    "# Chain 구성: retriever -> prompt_template -> model -> output_parser\n",
    "chain = {\"context\": retriever, \"question\": RunnablePassthrough()} | prompt_template | model | parser\n"
   ]
  },
  {
   "cell_type": "code",
   "execution_count": 13,
   "metadata": {},
   "outputs": [
    {
     "data": {
      "text/plain": [
       "'근로소득 산출세액이 130만원 이하인 경우, 세액공제금액은 산출세액의 55%입니다. 이 규정은 근로소득세액공제를 통해 근로자의 세부담을 줄이기 위한 것으로, 소득이 낮은 경우 상대적으로 더 큰 혜택을 받을 수 있도록 설계되어 있습니다. \\n\\n추가적인 세부사항이나 사례가 필요하시다면 더 질문해 주세요.'"
      ]
     },
     "execution_count": 13,
     "metadata": {},
     "output_type": "execute_result"
    }
   ],
   "source": [
    "# chain.invoke(\"사업소득이 4천만원 이하일때 소상공인 공제부금 소득공제의 한도를 알려줘\")\n",
    "# chain.invoke(\"소상공인 공제부금 소득공제의 한도는 얼마야? 사업소득이 1억을 넘어갔을 때\")\n",
    "chain.invoke(\"근로소득 산출세액이 130만원 이하일 때 세액공제금액을 알려줘\")\n",
    "# chain.invoke(\"어린이집 입소료는 교육비 세액공제 대상에 포함되어있어?\")\n",
    "# chain.invoke(\"근로제공 기간동안 지출한 비용에 대해서만 공제가능한 항목에 대해서 알려줘\")\n",
    "\n"
   ]
  },
  {
   "cell_type": "code",
   "execution_count": 14,
   "metadata": {},
   "outputs": [
    {
     "data": {
      "text/plain": [
       "'연말정산 시 소득·세액공제를 위한 증명서류를 제출할 때, 다음과 같은 사항을 중점적으로 확인해야 합니다:\\n\\n1. **주민등록표 등본**: 본인의 거주지와 세대주 여부 등을 확인할 수 있는 서류입니다. 소득공제 항목 중 일부는 세대주 여부에 따라 달라질 수 있습니다.\\n\\n2. **임대차계약서 사본**: 월세액 세액공제를 받기 위해 필요합니다. 임대차계약서에는 확정일자가 필요하지 않으므로 주의하세요.\\n\\n3. **현금영수증, 계좌이체 영수증, 무통장 입금증 등**: 월세액을 실제로 지급했음을 증명할 수 있는 서류입니다.\\n\\n4. **신용카드 사용금액 확인서**: 신용카드 등으로 지출한 금액에 대한 소득공제를 받을 수 있습니다. 연말정산 간소화 서비스에서 조회되지 않는 경우, 카드사로부터 확인서를 재발급받아야 합니다.\\n\\n5. **기타 문화비 지출 증빙 자료**: 도서·공연비 등에 대한 지출 증빙이 필요한 경우, 관련 영수증이나 확인서를 제출해야 합니다.\\n\\n6. **연금납입 확인서**: 연금계좌에 대한 납입액을 확인하는 서류로, 연금보험료 공제를 받기 위해 필요합니다.\\n\\n이 외에도 각자의 상황에 따라 추가적인 서류가 필요할 수 있으며, 제출하는 서류가 모두 실제 지출을 증명할 수 있는 정확한 자료인지 확인하는 것이 중요합니다. 필요한 서류를 빠짐없이 준비하여 원천징수의무자에게 제출해야 소득·세액공제를 제대로 받을 수 있습니다.'"
      ]
     },
     "execution_count": 14,
     "metadata": {},
     "output_type": "execute_result"
    }
   ],
   "source": [
    "chain.invoke(\"연말정산시 소득·세액공제 증명서류 중점 확인사항\")"
   ]
  },
  {
   "cell_type": "code",
   "execution_count": 16,
   "metadata": {},
   "outputs": [
    {
     "data": {
      "text/plain": [
       "'2023년의 신용카드 소득공제율은 사용 시기와 지출 항목에 따라 다르게 적용됩니다. 다음은 주요 항목에 대한 공제율입니다:\\n\\n1. **일반 신용카드 사용금액**:\\n   - 2023년 1월 1일부터 3월 31일까지 사용한 금액에 대해서는 30%의 공제율이 적용됩니다.\\n   - 2023년 4월 1일부터 12월 31일까지 사용한 금액에 대해서는 40%의 공제율이 적용됩니다.\\n\\n2. **전통시장 사용금액**:\\n   - 2023년 1월 1일부터 3월 31일까지 사용한 금액에 대해서는 40%의 공제율이 적용됩니다.\\n   - 2023년 4월 1일부터 12월 31일까지 사용한 금액에 대해서는 50%의 공제율이 적용됩니다.\\n\\n3. **대중교통 사용금액**:\\n   - 2023년 전체 기간 동안 대중교통 사용금액에 대해서는 80%의 공제율이 적용됩니다.\\n\\n이 외에도 특정 조건에 따라 다른 공제율이 적용될 수 있으므로, 자신의 상황에 맞는 정확한 정보는 국세청의 연말정산 간소화 서비스나 관련 법령을 통해 확인하는 것이 좋습니다.'"
      ]
     },
     "execution_count": 16,
     "metadata": {},
     "output_type": "execute_result"
    }
   ],
   "source": [
    "chain.invoke(\"신용카드 소득공제율을 알려줘\")"
   ]
  },
  {
   "cell_type": "code",
   "execution_count": 17,
   "metadata": {},
   "outputs": [
    {
     "name": "stdout",
     "output_type": "stream",
     "text": [
      "✅ 새로운 데이터베이스가 병합된 데이터베이스에 추가되었습니다.\n"
     ]
    }
   ],
   "source": [
    "##tax_merged에 추가로 새로운 벡터DB 병합합할 때 사용하는 코드##\n",
    "##preprocess_ks_주요공제계산사례.ipynb로 테스트##\n",
    "\n",
    "from langchain.vectorstores import Chroma\n",
    "from langchain.embeddings import OpenAIEmbeddings\n",
    "from langchain.schema import Document\n",
    "\n",
    "# 1. 임베딩 모델 설정\n",
    "embedding_model = OpenAIEmbeddings(model=\"text-embedding-3-large\")\n",
    "\n",
    "# 2. 기존 병합된 데이터베이스 불러오기\n",
    "tax_merged_db = Chroma(\n",
    "    collection_name=\"tax_merged\",\n",
    "    persist_directory=\"tax_merged\",\n",
    "    embedding_function=embedding_model\n",
    ")\n",
    "\n",
    "##이부분 바꿔주기##\n",
    "# 3. 새로운 데이터베이스 불러오기\n",
    "tax_new_db = Chroma(\n",
    "    collection_name=\"tax_etc\",\n",
    "    persist_directory=\"vector_store/chroma/tax_etc_3\",\n",
    "    embedding_function=embedding_model\n",
    ")\n",
    "\n",
    "# 4. 새로운 DB 문서 추출 및 변환\n",
    "tax_new_documents = tax_new_db.get()\n",
    "tax_new_documents_converted = [\n",
    "    Document(page_content=doc, metadata=meta)\n",
    "    for doc, meta in zip(tax_new_documents['documents'], tax_new_documents['metadatas'])\n",
    "]\n",
    "\n",
    "# 5. 새로운 문서를 병합된 데이터베이스에 추가\n",
    "tax_merged_db.add_documents(documents=tax_new_documents_converted)\n",
    "\n",
    "# 6. 변경사항 저장\n",
    "tax_merged_db.persist()\n",
    "print(\"✅ 새로운 데이터베이스가 병합된 데이터베이스에 추가되었습니다.\")\n"
   ]
  },
  {
   "cell_type": "code",
   "execution_count": 29,
   "metadata": {},
   "outputs": [
    {
     "data": {
      "text/plain": [
       "'총급여 9천만원인 근로자의 신용카드 등 소득공제액 계산은 다음과 같습니다.\\n\\n1. **최저 사용 금액**: 총급여의 25%\\n   - 9,000만원 × 25% = 2,250만원\\n\\n2. **사용 금액 합계**: 5,800만원\\n   - 신용카드: 3,100만원 (대중교통 200만원 포함)\\n   - 현금영수증: 1,800만원 (전통시장 350만원 포함)\\n   - 체크카드: 900만원 (도서공연 270만원 포함)\\n\\n3. **소득공제 가능 여부**:\\n   - 사용 금액 5,800만원이 최저 사용 금액 2,250만원을 초과하므로 소득공제 가능\\n\\n4. **소득공제 금액 계산**:\\n   - **기본 공제 금액**: 1,212.5만원 (한도 250만원)\\n     - 전통시장 사용분: 166만원\\n     - 대중교통 사용분: 160만원\\n     - 현금영수증 및 직불·선불카드 사용분: 789만원\\n     - 신용카드 사용분: 435만원\\n     - 최저 사용 금액에 해당하는 소득공제 금액: 337.5만원\\n\\n   - **추가 한도 적용에 따른 소득공제 금액**: 200만원\\n     - Min{한도 초과액(1,212.5만원 - 300만원), (전통시장 및 대중교통 사용분 한도), 200만원}\\n\\n5. **총 소득공제 금액**: 450만원\\n\\n이렇게 계산된 신용카드 등 소득공제 금액은 총 450만원입니다. 이 계산에는 소득공제 추가분 150만원이 포함되어 있습니다.'"
      ]
     },
     "execution_count": 29,
     "metadata": {},
     "output_type": "execute_result"
    }
   ],
   "source": [
    "# chain.invoke(\"신용카드 소득공제율을 알려줘\")\n",
    "chain.invoke(\"총급여 9천만원인 근로자의 신용카드 등 소득공제액을 알려줘\")"
   ]
  },
  {
   "cell_type": "code",
   "execution_count": null,
   "metadata": {},
   "outputs": [
    {
     "data": {
      "text/plain": [
       "'근로자가 과세기간에 고향사랑기부금으로 8만원을 기부한 경우, 세액공제 금액을 계산하기 위해서는 조세특례제한법 제58조에 따른 세액공제율을 적용해야 합니다.\\n\\n고향사랑 기부금에 대한 세액공제는 다음과 같이 계산됩니다:\\n- 10만원 이하의 금액에 대해서는 기부금의 100/110을 세액공제합니다.\\n\\n따라서, 8만원을 기부한 경우:\\n- 8만원 × 100/110 = 72,727원\\n\\n따라서, 근로자의 고향사랑기부금 세액공제 금액은 72,727원입니다.'"
      ]
     },
     "execution_count": 28,
     "metadata": {},
     "output_type": "execute_result"
    }
   ],
   "source": [
    "# chain.invoke(\"근로자가 과세기간에 고향사랑기부금으로 20만원을 기부한 경우 기부금 세액공제금액은 얼마인가요?\")\n",
    "chain.invoke(\"근로자가 과세기간에 고향사랑기부금으로 8만원을 기부한 경우 기부금 세액공제금액은 얼마인가요?\")"
   ]
  }
 ],
 "metadata": {
  "kernelspec": {
   "display_name": "langchain2",
   "language": "python",
   "name": "python3"
  },
  "language_info": {
   "codemirror_mode": {
    "name": "ipython",
    "version": 3
   },
   "file_extension": ".py",
   "mimetype": "text/x-python",
   "name": "python",
   "nbconvert_exporter": "python",
   "pygments_lexer": "ipython3",
   "version": "3.12.8"
  }
 },
 "nbformat": 4,
 "nbformat_minor": 2
}
