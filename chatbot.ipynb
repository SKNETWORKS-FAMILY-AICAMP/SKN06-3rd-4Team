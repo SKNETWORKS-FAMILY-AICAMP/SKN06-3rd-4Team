{
 "cells": [
  {
   "cell_type": "code",
   "execution_count": null,
   "metadata": {},
   "outputs": [],
   "source": [
    "# from langchain.document_loaders import PyMuPDFLoader\n",
    "\n",
    "# def load_file_law(filename):\n",
    "#     doc_file = f\"data/tax_law/{filename}.doc\"\n",
    "# load_file_law('개별소비세법')"
   ]
  },
  {
   "cell_type": "markdown",
   "metadata": {},
   "source": [
    "## 세법 챗봇\n",
    "#### 데이터 수집: 개별소비세법\n",
    "- 개별소비세법.pdf\n",
    "- 개별소비세법_시행규칙.pdf\n",
    "- 개별소비세법_시행령.pdf"
   ]
  },
  {
   "cell_type": "markdown",
   "metadata": {},
   "source": [
    "### 패키지 설치"
   ]
  },
  {
   "cell_type": "code",
   "execution_count": 1,
   "metadata": {},
   "outputs": [
    {
     "name": "stdout",
     "output_type": "stream",
     "text": [
      "Note: you may need to restart the kernel to use updated packages.\n"
     ]
    }
   ],
   "source": [
    "%pip install -q langchain langchain-huggingface langchain-community langchain-core langchain-text-splitters bitsandbytes docx2txt langchain-chroma"
   ]
  },
  {
   "cell_type": "code",
   "execution_count": null,
   "metadata": {},
   "outputs": [],
   "source": [
    "%pip install -U langchain-community pymupdf langchain_chroma langchain_huggingface"
   ]
  },
  {
   "cell_type": "markdown",
   "metadata": {},
   "source": [
    "### 문서 전처리 및 split"
   ]
  },
  {
   "cell_type": "code",
   "execution_count": 1,
   "metadata": {},
   "outputs": [],
   "source": [
    "def get_file_names(folder_path, format=\".pdf\"):\n",
    "    \"\"\"\n",
    "    주어진 폴더 내에 있는 PDF 파일들의 이름을 리스트로 반환합니다.\n",
    "    \"\"\"\n",
    "    import os\n",
    "    \n",
    "    try:\n",
    "        all_files = os.listdir(folder_path)\n",
    "        pdf_files = [file.replace(format,\"\") for file in all_files if file.lower().endswith(format)]\n",
    "        \n",
    "        return pdf_files\n",
    "    except FileNotFoundError:\n",
    "        print(f\"Error: 폴더 '{folder_path}'를 찾을 수 없습니다.\")\n",
    "        return []\n",
    "    except Exception as e:\n",
    "        print(f\"Error: {e}\")\n",
    "        return []\n",
    "    "
   ]
  },
  {
   "cell_type": "code",
   "execution_count": 20,
   "metadata": {},
   "outputs": [],
   "source": [
    "from langchain.document_loaders import PyMuPDFLoader\n",
    "from langchain.schema import Document\n",
    "import re\n",
    "def load_law(filename):\n",
    "    \n",
    "    \"\"\"\n",
    "    PDF 파일들을 처리하여 임베딩을 Chroma Vector Store에 저장합니다.\n",
    "    \"\"\"\n",
    "\n",
    "    file_path = f\"data/tax_law/{filename}.pdf\"\n",
    "\n",
    "    loader = PyMuPDFLoader(file_path)\n",
    "    load_document = loader.load()\n",
    "\n",
    "    # 전처리 - 반복 텍스트 삭제\n",
    "    delete_patterns = [\n",
    "        rf\"법제처\\s*\\d+\\s*국가법령정보센터\\n{filename.replace('_', ' ')}\\n\",\n",
    "        r'\\[[\\s\\S]*?\\]', \n",
    "        r'<[\\s\\S]*?>',\n",
    "    ]\n",
    "    \n",
    "    full_text = \" \".join([document.page_content for document in load_document])\n",
    "    \n",
    "    for pattern in delete_patterns:\n",
    "        full_text = re.sub(pattern, \"\", full_text)\n",
    "        full_text = full_text.replace(\"(\", \" (\")\n",
    "    \n",
    "    # 전처리 - split\n",
    "    split_pattern = r\"\\s*\\n(제\\d+조(?:의\\d+)?(?:\\([^)]*\\))?)(?=\\s|$)\"\n",
    "    chunks = re.split(split_pattern, full_text)\n",
    "\n",
    "    chunk_docs = []\n",
    "    connected_chunks = [] \n",
    "    current_chunk = \"\"\n",
    "    is_buchik_section = False \n",
    "    \n",
    "    # 전처리 - 일반 조항과 부칙의 조항과 구별하기 위해 접두어 '부칙-'을 넣음.\n",
    "    for chunk in chunks:\n",
    "        if re.search(r\"\\n\\s*부칙\", chunk): \n",
    "            is_buchik_section = True\n",
    "\n",
    "        if chunk.startswith(\"제\") and \"조\" in chunk: \n",
    "            if is_buchik_section:\n",
    "                chunk = \"부칙-\" + chunk\n",
    "\n",
    "            if current_chunk:\n",
    "                connected_chunks.append(current_chunk.strip())\n",
    "            current_chunk = chunk \n",
    "        else:\n",
    "            current_chunk += f\" {chunk}\" \n",
    "\n",
    "    if current_chunk:\n",
    "        connected_chunks.append(current_chunk.strip())\n",
    "\n",
    "    for chunk in connected_chunks:\n",
    "        pattern =  r\"^(?:부칙-)?제\\d+조(?:의\\d*)?(?:\\([^)]*\\))?\"\n",
    "\n",
    "        keyword = ''\n",
    "        keyword += f\"{filename.replace(\"_\", \" \")} \"\n",
    "        \n",
    "        match = re.search(pattern, chunk)\n",
    "        word=''\n",
    "        if match:\n",
    "            word = match.group()\n",
    "            word = re.sub(r'\\s+', ' ', word)\n",
    "            word = re.sub(r'\\(+', ' (', word)\n",
    "        else:\n",
    "            word = \"관련 부서 연락처\"\n",
    "        \n",
    "        keyword += word \n",
    "\n",
    "        parts = filename.split(\"_\")\n",
    "\n",
    "        # 기본적으로 두 부분이 있을 것으로 예상, 없을 경우 '법'로 기본값 설정\n",
    "        if len(parts) == 2:\n",
    "            law_name, doc_type = parts\n",
    "        else:\n",
    "            law_name = parts[0]\n",
    "            doc_type = \"법률\"  # 기본값 설정\n",
    "\n",
    "        \n",
    "        doc = Document(\n",
    "            metadata={\n",
    "                \"document_type\": doc_type,\n",
    "                \"law_name\": law_name,\n",
    "                \"article_number\": f'{doc_type} {word}',\n",
    "                \"description\": f\"{keyword}에 관한 문서입니다.\",\n",
    "                \"source\": f'{filename}.pdf', \n",
    "            }, \n",
    "            page_content=chunk\n",
    "        ),\n",
    "        \n",
    "        chunk_docs.extend(doc)\n",
    "        \n",
    "    return chunk_docs"
   ]
  },
  {
   "cell_type": "code",
   "execution_count": 111,
   "metadata": {},
   "outputs": [],
   "source": [
    "# document_list = []\n",
    "\n",
    "# law_files = get_file_names(\"data/tax_law\")\n",
    "# for file in law_files:\n",
    "#     document_list.extend(load_law(file))"
   ]
  },
  {
   "cell_type": "code",
   "execution_count": 21,
   "metadata": {},
   "outputs": [
    {
     "data": {
      "text/plain": [
       "132"
      ]
     },
     "execution_count": 21,
     "metadata": {},
     "output_type": "execute_result"
    }
   ],
   "source": [
    "document_list = []\n",
    "document_list.extend(load_law('개별소비세법'))\n",
    "document_list.extend(load_law('개별소비세법_시행령'))\n",
    "document_list.extend(load_law('개별소비세법_시행규칙'))\n",
    "len(document_list)"
   ]
  },
  {
   "cell_type": "markdown",
   "metadata": {},
   "source": [
    "### Chroma를 활용한 vector store 구성"
   ]
  },
  {
   "cell_type": "code",
   "execution_count": null,
   "metadata": {},
   "outputs": [],
   "source": [
    "# from langchain_chroma import Chroma\n",
    "# from langchain_huggingface.embeddings import HuggingFaceEmbeddings\n",
    "\n",
    "# embeddings = HuggingFaceEmbeddings(model_name='intfloat/multilingual-e5-large-instruct')\n",
    "\n",
    "# COLLECTION_NAME = \"law\"\n",
    "# PERSIST_DIRECTORY = \"vector_store_hf\"\n",
    "\n",
    "# vector_store_hf = Chroma.from_documents(\n",
    "#     documents=document_list,\n",
    "#     embedding=embeddings,\n",
    "#     collection_name=COLLECTION_NAME,\n",
    "#     persist_directory=PERSIST_DIRECTORY\n",
    "# )\n"
   ]
  },
  {
   "cell_type": "code",
   "execution_count": 23,
   "metadata": {},
   "outputs": [],
   "source": [
    "# 📌 vector store 생성\n",
    "from langchain_chroma import Chroma\n",
    "from langchain_openai import OpenAIEmbeddings\n",
    "\n",
    "COLLECTION_NAME = \"law_5\"\n",
    "PERSIST_DIRECTORY = \"vector_store9\"\n",
    "\n",
    "def set_vector_store(documents):\n",
    "    embedding_model = OpenAIEmbeddings(model=\"text-embedding-3-large\")\n",
    "\n",
    "    return Chroma.from_documents(\n",
    "        documents=documents,\n",
    "        embedding=embedding_model,\n",
    "        collection_name=COLLECTION_NAME,\n",
    "        persist_directory=PERSIST_DIRECTORY\n",
    "    )\n",
    "    \n",
    "vector_store = set_vector_store(document_list)"
   ]
  },
  {
   "cell_type": "markdown",
   "metadata": {},
   "source": [
    "### Chain 만들기 \n",
    "- LLM\n",
    "- Prompt Template\n",
    "- Retriever"
   ]
  },
  {
   "cell_type": "code",
   "execution_count": 36,
   "metadata": {},
   "outputs": [],
   "source": [
    "from langchain_openai import  ChatOpenAI\n",
    "\n",
    "model = ChatOpenAI(model=\"gpt-4o\")"
   ]
  },
  {
   "cell_type": "code",
   "execution_count": 37,
   "metadata": {},
   "outputs": [],
   "source": [
    "from langchain.prompts import ChatPromptTemplate\n",
    "# Prompt Template 생성\n",
    "messages = [\n",
    "    (\"ai\", \"\"\"\n",
    "    당신은 대한민국 세법에 대해 전문적으로 학습된 AI 도우미입니다. 사용자의 질문에 대해 저장된 세법 조항 데이터와 관련 정보를 기반으로 정확하고 신뢰성 있는 답변을 제공하세요. \n",
    "\n",
    "    **역할 및 기본 규칙**:\n",
    "    - 당신의 주요 역할은 세법 정보를 사용자 친화적으로 전달하는 것입니다.\n",
    "    - 데이터에 기반한 정보를 제공하며, 데이터에 없는 내용은 임의로 추측하지 않습니다.\n",
    "    - 불확실한 경우, \"잘 모르겠습니다.\"라고 명확히 답변하고, 사용자가 질문을 더 구체화하도록 유도합니다.\n",
    "\n",
    "    **질문 처리 절차**:\n",
    "    1. **질문의 핵심 내용 추출**:\n",
    "        - 질문을 형태소 단위로 분석하여 조사를 무시하고 핵심 키워드만 추출합니다. \n",
    "        - 질문의 형태가 다르더라도 문맥의 의도가 같으면 동일한 질문으로 간주합니다.\n",
    "        - 예를 들어, \"개별소비세법 1조 알려줘\" 와 \"개별소비세법 1조는 뭐야\" 와 \"개별소비세법 1조의 내용은?\"는 동일한 질문으로 간주합니다.\n",
    "        - 예를 들어, \"소득세는 무엇인가요?\"와 \"소득세가 무엇인가요?\"는 동일한 질문으로 간주합니다.\n",
    "   \n",
    "\n",
    "    {context}\n",
    "    \"\"\"),\n",
    "    (\"human\", \"{question}\"),\n",
    "]\n",
    "prompt_template = ChatPromptTemplate(messages)"
   ]
  },
  {
   "cell_type": "code",
   "execution_count": 38,
   "metadata": {},
   "outputs": [],
   "source": [
    "retriever = vector_store.as_retriever(\n",
    "    search_kwargs={\"k\":3}\n",
    ")"
   ]
  },
  {
   "cell_type": "code",
   "execution_count": 39,
   "metadata": {},
   "outputs": [
    {
     "data": {
      "text/plain": [
       "[Document(metadata={'article_number': '시행규칙 관련 부서 연락처', 'description': '개별소비세법 시행규칙 관련 부서 연락처에 관한 문서입니다.', 'document_type': '시행규칙', 'law_name': '개별소비세법', 'source': '개별소비세법_시행규칙.pdf'}, page_content='개별소비세법 시행규칙\\n \\n기획재정부    (환경에너지세제과) 044-215-4331, 4336\\n기획재정부    (환경에너지세제과 - 자동차 부분) 044-215-4333, 4336'),\n",
       " Document(metadata={'article_number': '시행령 제1조', 'description': '개별소비세법 시행령 제1조에 관한 문서입니다.', 'document_type': '시행령', 'law_name': '개별소비세법', 'source': '개별소비세법_시행령.pdf'}, page_content='제1조    (과세물품ㆍ과세장소 및 과세유흥장소의 세목등) 「개별소비세법」 제1조제6항에 따른 과세물품의 세목은 별표\\n1과 같이 하고, 과세장소의 종류는 별표 2와 같이 하며, 과세유흥장소의 종류는 유흥주점ㆍ외국인전용 유흥음식점\\n및 그 밖에 이와 유사한 장소로 하고, 과세영업장소의 종류는 「관광진흥법」 제5조제1항에 따라 허가를 받은 카지노\\n   (「폐광지역개발 지원에 관한 특별법」 제11조에 따라 허가를 받은 카지노를 포함한다)로 한다.'),\n",
       " Document(metadata={'article_number': '법률 제4조', 'description': '개별소비세법 제4조에 관한 문서입니다.', 'document_type': '법률', 'law_name': '개별소비세법', 'source': '개별소비세법.pdf'}, page_content='제4조    (과세시기) 개별소비세는 다음 각 호에 따른 반출, 수입신고, 입장, 유흥음식행위 또는 영업행위를 할 때에 그 행위\\n당시의 법령에 따라 부과한다. 다만, 제3조제4호의 경우에는 「관세법」에 따른다. \\n1. 물품에 대한 개별소비세: 과세물품을 제조장에서 반출할 때 또는 수입신고를 할 때\\n2. 입장행위에 대한 개별소비세: 과세장소에 입장할 때\\n3. 유흥음식행위에 대한 개별소비세: 유흥음식행위를 할 때\\n 4. 영업행위에 대한 개별소비세: 과세영업장소의 영업행위를 할 때')]"
      ]
     },
     "execution_count": 39,
     "metadata": {},
     "output_type": "execute_result"
    }
   ],
   "source": [
    "retriever.invoke(\"개별소비세법 제1조\")"
   ]
  },
  {
   "cell_type": "code",
   "execution_count": 33,
   "metadata": {},
   "outputs": [],
   "source": [
    "from langchain_core.output_parsers import StrOutputParser\n",
    "from langchain_core.runnables import RunnablePassthrough\n",
    "\n",
    "parser = StrOutputParser()\n",
    "\n",
    "chain = {\"context\": retriever, \"question\": RunnablePassthrough() } | prompt_template | model | parser"
   ]
  },
  {
   "cell_type": "markdown",
   "metadata": {},
   "source": []
  },
  {
   "cell_type": "code",
   "execution_count": 34,
   "metadata": {},
   "outputs": [],
   "source": [
    "result = chain.invoke(\"개별소비세법 제1조에 대해 알려줘\")"
   ]
  },
  {
   "cell_type": "code",
   "execution_count": 13,
   "metadata": {},
   "outputs": [
    {
     "name": "stdout",
     "output_type": "stream",
     "text": [
      "개별소비세법 제1조는 다음과 같은 내용을 포함하고 있습니다:\n",
      "\n",
      "### 개별소비세법 제1조 (목적)\n",
      "이 법은 개별소비세의 부과 및 징수에 관한 사항을 규정함으로써, 소비에 대한 공평한 세 부담을 도모하고, 국가 재정의 안정적 운영에 기여하는 것을 목적으로 합니다.\n",
      "\n",
      "#### 관련 내용 요약:\n",
      "- 개별소비세는 특정 소비재에 대해 부과되는 세금입니다.\n",
      "- 이 법은 소비에 따른 세 부담의 형평성을 유지하고, 국가 재정에 기여하기 위해 제정되었습니다.\n",
      "\n",
      "이 조항은 개별소비세법의 전반적인 목적과 방향성을 제시하고 있습니다.\n",
      "\n",
      "추가로 궁금한 점이 있으시면, 어떤 부분에 대해 더 알고 싶으신지 말씀해 주세요!\n"
     ]
    }
   ],
   "source": [
    "print(result)"
   ]
  },
  {
   "cell_type": "markdown",
   "metadata": {},
   "source": [
    "## 데이터 전처리"
   ]
  },
  {
   "cell_type": "code",
   "execution_count": null,
   "metadata": {},
   "outputs": [],
   "source": []
  },
  {
   "cell_type": "code",
   "execution_count": null,
   "metadata": {},
   "outputs": [],
   "source": []
  },
  {
   "cell_type": "code",
   "execution_count": null,
   "metadata": {},
   "outputs": [],
   "source": []
  }
 ],
 "metadata": {
  "kernelspec": {
   "display_name": "langchain2",
   "language": "python",
   "name": "python3"
  },
  "language_info": {
   "codemirror_mode": {
    "name": "ipython",
    "version": 3
   },
   "file_extension": ".py",
   "mimetype": "text/x-python",
   "name": "python",
   "nbconvert_exporter": "python",
   "pygments_lexer": "ipython3",
   "version": "3.12.8"
  }
 },
 "nbformat": 4,
 "nbformat_minor": 2
}
