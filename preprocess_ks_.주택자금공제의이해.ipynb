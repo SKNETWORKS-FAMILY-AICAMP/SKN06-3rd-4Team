{
 "cells": [
  {
   "cell_type": "markdown",
   "id": "fce6b3aa-ecf9-4874-b71d-35d74c9e6574",
   "metadata": {},
   "source": [
    "# 2025 세법 개정본 반영"
   ]
  },
  {
   "cell_type": "code",
   "execution_count": null,
   "id": "32fbff06",
   "metadata": {},
   "outputs": [],
   "source": [
    "pip install jpype1"
   ]
  },
  {
   "cell_type": "code",
   "execution_count": null,
   "id": "eed1843f",
   "metadata": {},
   "outputs": [],
   "source": [
    "%pip install tabula-py"
   ]
  },
  {
   "cell_type": "code",
   "execution_count": null,
   "id": "02f33671",
   "metadata": {},
   "outputs": [],
   "source": [
    "pip install --upgrade langchain chromadb"
   ]
  },
  {
   "cell_type": "code",
   "execution_count": null,
   "id": "ba06585f",
   "metadata": {},
   "outputs": [],
   "source": [
    "pip install requests-cache"
   ]
  },
  {
   "cell_type": "code",
   "execution_count": 10,
   "id": "327022c6",
   "metadata": {},
   "outputs": [
    {
     "name": "stderr",
     "output_type": "stream",
     "text": [
      "c:\\Users\\Playdata\\AppData\\Local\\miniconda3\\envs\\langchain2\\Lib\\site-packages\\langchain_community\\document_loaders\\parsers\\pdf.py:300: UserWarning: Warning: Empty content on page 1 of document data/tax_etc/연말정산_주택자금·월세액_공제의이해.pdf\n",
      "  warnings.warn(\n",
      "c:\\Users\\Playdata\\AppData\\Local\\miniconda3\\envs\\langchain2\\Lib\\site-packages\\langchain_community\\document_loaders\\parsers\\pdf.py:300: UserWarning: Warning: Empty content on page 3 of document data/tax_etc/연말정산_주택자금·월세액_공제의이해.pdf\n",
      "  warnings.warn(\n",
      "c:\\Users\\Playdata\\AppData\\Local\\miniconda3\\envs\\langchain2\\Lib\\site-packages\\langchain_community\\document_loaders\\parsers\\pdf.py:300: UserWarning: Warning: Empty content on page 5 of document data/tax_etc/연말정산_주택자금·월세액_공제의이해.pdf\n",
      "  warnings.warn(\n",
      "c:\\Users\\Playdata\\AppData\\Local\\miniconda3\\envs\\langchain2\\Lib\\site-packages\\langchain_community\\document_loaders\\parsers\\pdf.py:300: UserWarning: Warning: Empty content on page 7 of document data/tax_etc/연말정산_주택자금·월세액_공제의이해.pdf\n",
      "  warnings.warn(\n",
      "c:\\Users\\Playdata\\AppData\\Local\\miniconda3\\envs\\langchain2\\Lib\\site-packages\\langchain_community\\document_loaders\\parsers\\pdf.py:300: UserWarning: Warning: Empty content on page 13 of document data/tax_etc/연말정산_주택자금·월세액_공제의이해.pdf\n",
      "  warnings.warn(\n",
      "c:\\Users\\Playdata\\AppData\\Local\\miniconda3\\envs\\langchain2\\Lib\\site-packages\\langchain_community\\document_loaders\\parsers\\pdf.py:300: UserWarning: Warning: Empty content on page 25 of document data/tax_etc/연말정산_주택자금·월세액_공제의이해.pdf\n",
      "  warnings.warn(\n",
      "c:\\Users\\Playdata\\AppData\\Local\\miniconda3\\envs\\langchain2\\Lib\\site-packages\\langchain_community\\document_loaders\\parsers\\pdf.py:300: UserWarning: Warning: Empty content on page 29 of document data/tax_etc/연말정산_주택자금·월세액_공제의이해.pdf\n",
      "  warnings.warn(\n",
      "c:\\Users\\Playdata\\AppData\\Local\\miniconda3\\envs\\langchain2\\Lib\\site-packages\\langchain_community\\document_loaders\\parsers\\pdf.py:300: UserWarning: Warning: Empty content on page 39 of document data/tax_etc/연말정산_주택자금·월세액_공제의이해.pdf\n",
      "  warnings.warn(\n",
      "c:\\Users\\Playdata\\AppData\\Local\\miniconda3\\envs\\langchain2\\Lib\\site-packages\\langchain_community\\document_loaders\\parsers\\pdf.py:300: UserWarning: Warning: Empty content on page 41 of document data/tax_etc/연말정산_주택자금·월세액_공제의이해.pdf\n",
      "  warnings.warn(\n",
      "c:\\Users\\Playdata\\AppData\\Local\\miniconda3\\envs\\langchain2\\Lib\\site-packages\\langchain_community\\document_loaders\\parsers\\pdf.py:300: UserWarning: Warning: Empty content on page 71 of document data/tax_etc/연말정산_주택자금·월세액_공제의이해.pdf\n",
      "  warnings.warn(\n"
     ]
    }
   ],
   "source": [
    "import os\n",
    "import re\n",
    "from tqdm import tqdm\n",
    "from tabula import read_pdf\n",
    "from langchain.document_loaders import PyMuPDFLoader\n",
    "from langchain.schema import Document\n",
    "from langchain.prompts import ChatPromptTemplate\n",
    "from langchain.text_splitter import RecursiveCharacterTextSplitter\n",
    "from langchain.embeddings import OpenAIEmbeddings\n",
    "from langchain.vectorstores import Chroma\n",
    "from langchain.cache import SQLiteCache\n",
    "from langchain_openai import OpenAIEmbeddings, ChatOpenAI\n",
    "from langchain_core.runnables import RunnablePassthrough\n",
    "from langchain.globals import set_llm_cache\n",
    "from langchain.cache import SQLiteCache\n",
    "from langchain_core.output_parsers import StrOutputParser\n",
    "from langchain_core.vectorstores import InMemoryVectorStore\n",
    "from dotenv import load_dotenv\n",
    "\n",
    "load_dotenv()\n",
    "\n",
    "pdf_file = \"data/tax_etc/연말정산_주택자금·월세액_공제의이해.pdf\"\n",
    "\n",
    "# SQLite 캐시 설정\n",
    "SQLiteCache(\".cache_prompt_etc1.sqlite\")\n",
    "\n",
    "# 임베딩 모델 초기화\n",
    "embedding_model = OpenAIEmbeddings(model=\"text-embedding-3-large\")\n",
    "\n",
    "# 모든 PDF 처리\n",
    "docs = []\n",
    "\n",
    "# Tabula로 PDF에서 표 데이터 읽기\n",
    "try:\n",
    "    tables = read_pdf(pdf_file, pages=\"9-12,15-24,27-28,31-39,43-70\", stream=True, multiple_tables=True) # pages=\"19-44,47-71,75-161\"\n",
    "    table_texts = [table.to_string(index=False, header=True) for table in tables]\n",
    "except Exception as e:\n",
    "    print(f\"Tabula Error with {pdf_file}: {e}\")\n",
    "    table_texts = []\n",
    "\n",
    "# PyMuPDFLoader로 텍스트 데이터 로드 및 페이지 범위 필터링링\n",
    "try:\n",
    "    text_loader = PyMuPDFLoader(pdf_file)\n",
    "    texts = text_loader.load()\n",
    "\n",
    "    for i, text in enumerate(texts):\n",
    "        text.metadata[\"page\"] = i + 1      \n",
    "\n",
    "    page_ranges = [(9, 12), (15, 24), (27, 28), (31, 39), (43, 70)]\n",
    "    texts = [\n",
    "        text for text in texts\n",
    "        if any(start <= text.metadata.get(\"page\", 0) <= end for start, end in page_ranges)\n",
    "    ]\n",
    "except Exception as e:\n",
    "    print(f\"PyMuPDFLoader Error with {pdf_file}: {e}\")\n",
    "    texts = []\n",
    "\n",
    "# 표 텍스트를 Document 형식으로 변환\n",
    "table_docs = [\n",
    "    Document(page_content=text, metadata={\"source\": f\"{pdf_file} - Table {i + 1}\"})\n",
    "    for i, text in enumerate(table_texts)\n",
    "]\n",
    "\n",
    "    # 텍스트를 Document 형식으로 변환\n",
    "text_docs = [\n",
    "    Document(page_content=text.page_content, metadata={\"source\": pdf_file})\n",
    "    for text in texts\n",
    "]\n",
    "\n",
    "    # 텍스트 문서와 표 문서를 결합\n",
    "docs.extend(text_docs + table_docs)\n",
    "\n",
    "# 정규식 패턴화\n",
    "update_docs = []\n",
    "\n",
    "pattern1 = (\n",
    "    r\"연말정산 주택자금･월세액 공제의 이해\\n\\d+|\"  \n",
    "    r\"\\bNaN\\b\"\n",
    ")\n",
    "pattern2 =r\"([\\uAC00-\\uD7A3])\\n+([\\uAC00-\\uD7A3])\"\n",
    "pattern3 = r\"\\s+\"\n",
    "\n",
    "for doc in docs:\n",
    "    if doc.page_content:\n",
    "        edit_content = re.sub(pattern1, \"\", doc.page_content)\n",
    "        edit_content = re.sub(pattern2, r\"\\1\\2\" , edit_content)\n",
    "        edit_content = re.sub(pattern3, \" \", edit_content)\n",
    "    else:\n",
    "        edit_content = \"\"\n",
    "    \n",
    "    updated_docs = Document(page_content=edit_content, metadata=doc.metadata)   \n",
    "    update_docs.append(updated_docs)\n",
    "    \n",
    "# 텍스트를 청크로 분리\n",
    "splitter = RecursiveCharacterTextSplitter.from_tiktoken_encoder(\n",
    "    model_name=\"gpt-4o\",\n",
    "    chunk_size=2000,\n",
    "    chunk_overlap=100,\n",
    ")\n",
    "\n",
    "split_docs = splitter.split_documents(update_docs)\n",
    "\n",
    "# Vector Store 생성\n",
    "vector_store = Chroma.from_documents(\n",
    "    documents=split_docs,\n",
    "    embedding=embedding_model,\n",
    "    collection_name=\"tax_etc\",\n",
    "    persist_directory=\"vector_store/chroma/tax_etc_4\"\n",
    ")\n",
    "\n",
    "# Retriever 생성\n",
    "retriever = vector_store.as_retriever(\n",
    "    search_type=\"mmr\",\n",
    "    search_kwargs={\"k\": 5, \"fetch_k\": 10}\n",
    ")"
   ]
  },
  {
   "cell_type": "code",
   "execution_count": 8,
   "id": "39bb543a",
   "metadata": {},
   "outputs": [
    {
     "data": {
      "text/plain": [
       "Document(metadata={'source': 'data/tax_etc/연말정산_주택자금·월세액_공제의이해.pdf'}, page_content='연말정산 주택자금･월세액 공제의 이해\\n4 ••\\n참고\\n주택자금공제\\n종 류\\n관련규정\\n주택규모제한\\n비 고\\n주택임차차입금 원리금 상환액\\n소법52④\\n국민주택규모\\n주거용 오피스텔 포함1)\\n장기주택저당차입금 이자상환액\\n소법52⑤\\n제한없음2)\\n주거용 오피스텔 제외\\n1) 2013.8.13. 이후 최초로 원리금 상환액을 지급하는 분부터 적용하며, 국민주택규모에 해당하는 주거용 \\n오피스텔을 말함\\n2) 2024.1.1. 이후 차입하는 분부터 국민주택규모를 초과하는 주택도 공제 가능\\n 세대와 세대주(소법 §52⑤ 1호, 소령 §112①)\\n ⚫세대에는 거주자와 그 배우자(생계를 같이하는 경우 포함), 거주자와 같은 \\n주소･거소에서 생계를 같이 하는 거주자와 그 배우자의 직계존비속(그 배우자들 \\n포함) 및 형제자매를 모두 포함한다.\\n ⚫세대주 여부의 판정은 과세기간 종료일 현재의 상황에 따른다.\\n ⚫단독 세대주도 가능하며, 외국인 근로자의 경우에는 세대주 및 세대원이 될 수 없음\\n 국민주택규모의 주택(소법 §52⑤ 1호, 소령 §112③)\\n ⚫｢주택법｣에 따른 국민주택규모의 주택으로 세대당 주거전용면적이 85㎡ \\n(수도권정비계획법 제2조 제1호에 따른 수도권을 제외한 도시지역이 아닌 읍 또는 \\n면 지역은 100㎡)이하이고 그 부수되는 토지가 다음의 면적 이하인 상시 주거용 \\n주택 및 그 부수토지를 말한다. 이 경우 해당 주택이 다가구주택이면 가구당 \\n전용면적을 기준으로 한다.\\n   - ｢국토의 계획 및 이용에 관한 법률｣ 제6조에 따른 도시지역의 토지:\\n건물정착면적의 5배\\n   - 그 밖의 토지: 건물정착면적의 10배\\n2. 공제금액\\n  원리금 상환금액의 40%를 근로소득금액에서 공제하되, 주택마련저축 공제금액과 \\n주택임차차입금 원리금 상환액 공제금액의 합계액이 400만원을 초과하는 경우 그 \\n초과하는 금액은 없는 것으로 한다.\\n주택임차차입금 원리금 상환액 = MIN(㉠,㉡)\\n  ㉠ 주택마련저축 납입액 × 40% + 주택임차차입금 원리금 상환금액 × 40%\\n  ㉡ 연 400만원\\n')"
      ]
     },
     "execution_count": 8,
     "metadata": {},
     "output_type": "execute_result"
    }
   ],
   "source": [
    "docs[1]"
   ]
  },
  {
   "cell_type": "code",
   "execution_count": 9,
   "id": "4b43d044",
   "metadata": {},
   "outputs": [
    {
     "data": {
      "text/plain": [
       "Document(metadata={'source': 'data/tax_etc/연말정산_주택자금·월세액_공제의이해.pdf'}, page_content=' •• 참고주택자금공제종 류관련규정주택규모제한비 고주택임차차입금 원리금 상환액소법52④ 국민주택규모주거용 오피스텔 포함1) 장기주택저당차입금 이자상환액소법52⑤ 제한없음2) 주거용 오피스텔 제외 1) 2013.8.13. 이후 최초로 원리금 상환액을 지급하는 분부터 적용하며, 국민주택규모에 해당하는 주거용 오피스텔을 말함 2) 2024.1.1. 이후 차입하는 분부터 국민주택규모를 초과하는 주택도 공제 가능 세대와 세대주(소법 §52⑤ 1호, 소령 §112①) ⚫세대에는 거주자와 그 배우자(생계를 같이하는 경우 포함), 거주자와 같은 주소･거소에서 생계를 같이 하는 거주자와 그 배우자의 직계존비속(그 배우자들 포함) 및 형제자매를 모두 포함한다. ⚫세대주 여부의 판정은 과세기간 종료일 현재의 상황에 따른다. ⚫단독 세대주도 가능하며, 외국인 근로자의 경우에는 세대주 및 세대원이 될 수 없음 국민주택규모의 주택(소법 §52⑤ 1호, 소령 §112③) ⚫｢주택법｣에 따른 국민주택규모의 주택으로 세대당 주거전용면적이 85㎡ (수도권정비계획법 제2조 제1호에 따른 수도권을 제외한 도시지역이 아닌 읍 또는 면 지역은 100㎡)이하이고 그 부수되는 토지가 다음의 면적 이하인 상시 주거용 주택 및 그 부수토지를 말한다. 이 경우 해당 주택이 다가구주택이면 가구당 전용면적을 기준으로 한다. - ｢국토의 계획 및 이용에 관한 법률｣ 제6조에 따른 도시지역의 토지: 건물정착면적의 5배 - 그 밖의 토지: 건물정착면적의 10배 2. 공제금액 원리금 상환금액의 40%를 근로소득금액에서 공제하되, 주택마련저축 공제금액과 주택임차차입금 원리금 상환액 공제금액의 합계액이 400만원을 초과하는 경우 그 초과하는 금액은 없는 것으로 한다. 주택임차차입금 원리금 상환액 = MIN(㉠,㉡) ㉠ 주택마련저축 납입액 × 40% + 주택임차차입금 원리금 상환금액 × 40% ㉡ 연 400만원 ')"
      ]
     },
     "execution_count": 9,
     "metadata": {},
     "output_type": "execute_result"
    }
   ],
   "source": [
    "update_docs[1]"
   ]
  },
  {
   "cell_type": "markdown",
   "id": "18f365d0",
   "metadata": {},
   "source": []
  },
  {
   "cell_type": "code",
   "execution_count": 11,
   "id": "ace68f09-666b-4e17-83e7-d5ecb64ef5e0",
   "metadata": {},
   "outputs": [],
   "source": [
    "# Prompt Template 생성\n",
    "messages = [\n",
    "        (\"ai\", \"\"\"\n",
    "        당신은 대한민국 세법에 대해 전문적으로 학습된 AI 도우미입니다. 저장된 세법 조항 데이터를 기반으로 사용자 질문에 답변하세요.\n",
    "\n",
    "        - 모든 답변은 학습된 세법 데이터 내에서만 유효한 정보를 바탕으로 작성하세요. 데이터에 없는 내용은 추측하거나 임의로 생성하지 마세요.\n",
    "        - 질문에 명확한 답변이 없거나 데이터 내에서 찾을 수 없는 경우, 정직하게 \"잘 모르겠습니다.\"라고 말하고, 새로운 질문을 유도하세요.\n",
    "        - 질문이 포함된 조항뿐 아니라, 필요 시 서로 연관된 다른 조항도 참고하여 답변의 정확성과 완성도를 높이세요.\n",
    "        - 사용자가 이해하기 쉽게 답변을 구성하며, 중요한 키워드나 법 조항은 명확히 표시하세요.\n",
    "        - 세법과 관련된 복잡한 질문에 대해서는 관련 조항 번호와 요약된 내용을 포함하여 답변을 제공하세요.\n",
    "        \n",
    "        추가 규칙:\n",
    "        답변은 간결하고 명료하게 작성하되, 필요한 경우 관련 조항의 전문을 추가적으로 인용하세요.\n",
    "        세법 용어를 사용자 친화적으로 설명하여 비전문가도 쉽게 이해할 수 있도록 하세요.\n",
    "        질문을 완전히 이해하기 어렵거나 모호할 경우, 사용자가 구체적으로 질문을 다시 작성할 수 있도록 유도하는 후속 질문을 하세요.\n",
    "        \n",
    "        {context}\")\"\"\"\n",
    "        ),\n",
    "        (\"human\", \"{question}\"),\n",
    "]\n",
    "prompt_template = ChatPromptTemplate(messages)\n",
    "# 모델\n",
    "model = ChatOpenAI(model=\"gpt-4o\")\n",
    "\n",
    "# output parser\n",
    "parser = StrOutputParser()\n",
    "\n",
    "# Chain 구성 retriever(관련문서 조회) -> prompt_template(prompt 생성) -> model(정답) -> output parser\n",
    "chain = {\"context\":retriever, \"question\": RunnablePassthrough()} | prompt_template | model | parser"
   ]
  },
  {
   "cell_type": "code",
   "execution_count": null,
   "id": "8413c65e",
   "metadata": {},
   "outputs": [
    {
     "data": {
      "text/plain": [
       "'총급여 68백만 원인 근로자의 신용카드 등 소득공제는 \"소득세법\"에 따라 일정 기준을 충족해야 합니다. 일반적으로 신용카드 사용액의 일정 비율을 소득에서 공제 받을 수 있으며, 공제 한도는 총급여에 따라 다르게 설정됩니다.\\n\\n1. **기본 공제율**: 신용카드 사용금액의 15%를 공제 받을 수 있습니다. 다만, 전통시장 사용금액과 대중교통 사용금액은 각각 40%의 높은 공제율이 적용됩니다.\\n\\n2. **공제 한도**: 총급여 70백만 원 이하의 근로자는 최대 300만원까지 공제받을 수 있습니다.\\n\\n따라서, 총급여 68백만 원인 경우 최대 300만원 한도 내에서 신용카드 사용금액의 일정 비율을 소득에서 공제받을 수 있습니다. 정확한 공제금액은 실제 사용한 신용카드 금액과 그 중 전통시장 및 대중교통 사용금액에 따라 다르게 계산됩니다.\\n\\n정확한 공제금액을 계산하시려면 신용카드 사용 내역을 확인하시고, 각 항목에 대한 공제율을 적용하여 계산하셔야 합니다. 추가적인 정보 또는 세부 계산이 필요하시면 다시 문의해 주세요.'"
      ]
     },
     "execution_count": 12,
     "metadata": {},
     "output_type": "execute_result"
    }
   ],
   "source": [
    "chain.invoke(\"총급여 68백만 원인 근로자의 신용카드 등 소득공제액은?\")\n"
   ]
  }
 ],
 "metadata": {
  "kernelspec": {
   "display_name": "langchain2",
   "language": "python",
   "name": "python3"
  },
  "language_info": {
   "codemirror_mode": {
    "name": "ipython",
    "version": 3
   },
   "file_extension": ".py",
   "mimetype": "text/x-python",
   "name": "python",
   "nbconvert_exporter": "python",
   "pygments_lexer": "ipython3",
   "version": "3.12.8"
  }
 },
 "nbformat": 4,
 "nbformat_minor": 5
}
