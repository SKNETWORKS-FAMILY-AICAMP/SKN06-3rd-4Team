{
 "cells": [
  {
   "cell_type": "markdown",
   "id": "fce6b3aa-ecf9-4874-b71d-35d74c9e6574",
   "metadata": {},
   "source": [
    "# 2025 세법 개정본 반영"
   ]
  },
  {
   "cell_type": "code",
   "execution_count": 2,
   "id": "32fbff06",
   "metadata": {},
   "outputs": [
    {
     "name": "stdout",
     "output_type": "stream",
     "text": [
      "Collecting jpype1Note: you may need to restart the kernel to use updated packages.\n",
      "\n",
      "  Downloading jpype1-1.5.1-cp312-cp312-win_amd64.whl.metadata (5.0 kB)\n",
      "Requirement already satisfied: packaging in c:\\users\\playdata\\miniconda3\\envs\\langchain\\lib\\site-packages (from jpype1) (24.2)\n",
      "Downloading jpype1-1.5.1-cp312-cp312-win_amd64.whl (355 kB)\n",
      "Installing collected packages: jpype1\n",
      "Successfully installed jpype1-1.5.1\n"
     ]
    }
   ],
   "source": [
    "pip install jpype1"
   ]
  },
  {
   "cell_type": "code",
   "execution_count": 3,
   "id": "eed1843f",
   "metadata": {},
   "outputs": [
    {
     "name": "stdout",
     "output_type": "stream",
     "text": [
      "Collecting tabula-py\n",
      "  Downloading tabula_py-2.10.0-py3-none-any.whl.metadata (7.6 kB)\n",
      "Requirement already satisfied: pandas>=0.25.3 in c:\\users\\playdata\\miniconda3\\envs\\langchain\\lib\\site-packages (from tabula-py) (2.2.3)\n",
      "Requirement already satisfied: numpy>1.24.4 in c:\\users\\playdata\\miniconda3\\envs\\langchain\\lib\\site-packages (from tabula-py) (1.26.4)\n",
      "Requirement already satisfied: distro in c:\\users\\playdata\\miniconda3\\envs\\langchain\\lib\\site-packages (from tabula-py) (1.9.0)\n",
      "Requirement already satisfied: python-dateutil>=2.8.2 in c:\\users\\playdata\\miniconda3\\envs\\langchain\\lib\\site-packages (from pandas>=0.25.3->tabula-py) (2.9.0.post0)\n",
      "Requirement already satisfied: pytz>=2020.1 in c:\\users\\playdata\\miniconda3\\envs\\langchain\\lib\\site-packages (from pandas>=0.25.3->tabula-py) (2024.2)\n",
      "Requirement already satisfied: tzdata>=2022.7 in c:\\users\\playdata\\miniconda3\\envs\\langchain\\lib\\site-packages (from pandas>=0.25.3->tabula-py) (2024.2)\n",
      "Requirement already satisfied: six>=1.5 in c:\\users\\playdata\\miniconda3\\envs\\langchain\\lib\\site-packages (from python-dateutil>=2.8.2->pandas>=0.25.3->tabula-py) (1.16.0)\n",
      "Downloading tabula_py-2.10.0-py3-none-any.whl (12.0 MB)\n",
      "   ---------------------------------------- 0.0/12.0 MB ? eta -:--:--\n",
      "    --------------------------------------- 0.3/12.0 MB ? eta -:--:--\n",
      "   ---- ----------------------------------- 1.3/12.0 MB 4.5 MB/s eta 0:00:03\n",
      "   ------- -------------------------------- 2.4/12.0 MB 4.6 MB/s eta 0:00:03\n",
      "   ------------ --------------------------- 3.7/12.0 MB 5.1 MB/s eta 0:00:02\n",
      "   ---------------- ----------------------- 5.0/12.0 MB 5.3 MB/s eta 0:00:02\n",
      "   ------------------- -------------------- 5.8/12.0 MB 5.0 MB/s eta 0:00:02\n",
      "   ----------------------- ---------------- 7.1/12.0 MB 5.2 MB/s eta 0:00:01\n",
      "   -------------------------- ------------- 7.9/12.0 MB 5.1 MB/s eta 0:00:01\n",
      "   ------------------------------ --------- 9.2/12.0 MB 5.2 MB/s eta 0:00:01\n",
      "   ---------------------------------- ----- 10.5/12.0 MB 5.2 MB/s eta 0:00:01\n",
      "   -------------------------------------- - 11.5/12.0 MB 5.3 MB/s eta 0:00:01\n",
      "   ---------------------------------------- 12.0/12.0 MB 5.2 MB/s eta 0:00:00\n",
      "Installing collected packages: tabula-py\n",
      "Successfully installed tabula-py-2.10.0\n",
      "Note: you may need to restart the kernel to use updated packages.\n"
     ]
    }
   ],
   "source": [
    "%pip install tabula-py"
   ]
  },
  {
   "cell_type": "code",
   "execution_count": 17,
   "id": "02f33671",
   "metadata": {},
   "outputs": [
    {
     "name": "stdout",
     "output_type": "stream",
     "text": [
      "Requirement already satisfied: langchain in c:\\users\\playdata\\miniconda3\\envs\\langchain\\lib\\site-packages (0.3.9)\n",
      "Collecting langchain\n",
      "  Downloading langchain-0.3.13-py3-none-any.whl.metadata (7.1 kB)\n",
      "Requirement already satisfied: chromadb in c:\\users\\playdata\\miniconda3\\envs\\langchain\\lib\\site-packages (0.5.23)\n",
      "Requirement already satisfied: PyYAML>=5.3 in c:\\users\\playdata\\miniconda3\\envs\\langchain\\lib\\site-packages (from langchain) (6.0.2)\n",
      "Requirement already satisfied: SQLAlchemy<3,>=1.4 in c:\\users\\playdata\\miniconda3\\envs\\langchain\\lib\\site-packages (from langchain) (2.0.35)\n",
      "Requirement already satisfied: aiohttp<4.0.0,>=3.8.3 in c:\\users\\playdata\\miniconda3\\envs\\langchain\\lib\\site-packages (from langchain) (3.11.10)\n",
      "Collecting langchain-core<0.4.0,>=0.3.26 (from langchain)\n",
      "  Downloading langchain_core-0.3.28-py3-none-any.whl.metadata (6.3 kB)\n",
      "Collecting langchain-text-splitters<0.4.0,>=0.3.3 (from langchain)\n",
      "  Downloading langchain_text_splitters-0.3.4-py3-none-any.whl.metadata (2.3 kB)\n",
      "Requirement already satisfied: langsmith<0.3,>=0.1.17 in c:\\users\\playdata\\miniconda3\\envs\\langchain\\lib\\site-packages (from langchain) (0.1.147)\n",
      "Requirement already satisfied: numpy<3,>=1.26.2 in c:\\users\\playdata\\miniconda3\\envs\\langchain\\lib\\site-packages (from langchain) (1.26.4)\n",
      "Requirement already satisfied: pydantic<3.0.0,>=2.7.4 in c:\\users\\playdata\\miniconda3\\envs\\langchain\\lib\\site-packages (from langchain) (2.10.3)\n",
      "Requirement already satisfied: requests<3,>=2 in c:\\users\\playdata\\miniconda3\\envs\\langchain\\lib\\site-packages (from langchain) (2.32.3)\n",
      "Requirement already satisfied: tenacity!=8.4.0,<10,>=8.1.0 in c:\\users\\playdata\\miniconda3\\envs\\langchain\\lib\\site-packages (from langchain) (9.0.0)\n",
      "Requirement already satisfied: build>=1.0.3 in c:\\users\\playdata\\miniconda3\\envs\\langchain\\lib\\site-packages (from chromadb) (1.2.2.post1)\n",
      "Requirement already satisfied: chroma-hnswlib==0.7.6 in c:\\users\\playdata\\miniconda3\\envs\\langchain\\lib\\site-packages (from chromadb) (0.7.6)\n",
      "Requirement already satisfied: fastapi>=0.95.2 in c:\\users\\playdata\\miniconda3\\envs\\langchain\\lib\\site-packages (from chromadb) (0.115.6)\n",
      "Requirement already satisfied: uvicorn>=0.18.3 in c:\\users\\playdata\\miniconda3\\envs\\langchain\\lib\\site-packages (from uvicorn[standard]>=0.18.3->chromadb) (0.34.0)\n",
      "Requirement already satisfied: posthog>=2.4.0 in c:\\users\\playdata\\miniconda3\\envs\\langchain\\lib\\site-packages (from chromadb) (3.6.5)\n",
      "Requirement already satisfied: typing_extensions>=4.5.0 in c:\\users\\playdata\\miniconda3\\envs\\langchain\\lib\\site-packages (from chromadb) (4.12.2)\n",
      "Requirement already satisfied: onnxruntime>=1.14.1 in c:\\users\\playdata\\miniconda3\\envs\\langchain\\lib\\site-packages (from chromadb) (1.17.0)\n",
      "Requirement already satisfied: opentelemetry-api>=1.2.0 in c:\\users\\playdata\\miniconda3\\envs\\langchain\\lib\\site-packages (from chromadb) (1.29.0)\n",
      "Requirement already satisfied: opentelemetry-exporter-otlp-proto-grpc>=1.2.0 in c:\\users\\playdata\\miniconda3\\envs\\langchain\\lib\\site-packages (from chromadb) (1.15.0)\n",
      "Requirement already satisfied: opentelemetry-instrumentation-fastapi>=0.41b0 in c:\\users\\playdata\\miniconda3\\envs\\langchain\\lib\\site-packages (from chromadb) (0.50b0)\n",
      "Requirement already satisfied: opentelemetry-sdk>=1.2.0 in c:\\users\\playdata\\miniconda3\\envs\\langchain\\lib\\site-packages (from chromadb) (1.29.0)\n",
      "Requirement already satisfied: tokenizers<=0.20.3,>=0.13.2 in c:\\users\\playdata\\miniconda3\\envs\\langchain\\lib\\site-packages (from chromadb) (0.20.3)\n",
      "Requirement already satisfied: pypika>=0.48.9 in c:\\users\\playdata\\miniconda3\\envs\\langchain\\lib\\site-packages (from chromadb) (0.48.9)\n",
      "Requirement already satisfied: tqdm>=4.65.0 in c:\\users\\playdata\\miniconda3\\envs\\langchain\\lib\\site-packages (from chromadb) (4.67.1)\n",
      "Requirement already satisfied: overrides>=7.3.1 in c:\\users\\playdata\\miniconda3\\envs\\langchain\\lib\\site-packages (from chromadb) (7.7.0)\n",
      "Requirement already satisfied: importlib-resources in c:\\users\\playdata\\miniconda3\\envs\\langchain\\lib\\site-packages (from chromadb) (6.4.5)\n",
      "Requirement already satisfied: grpcio>=1.58.0 in c:\\users\\playdata\\miniconda3\\envs\\langchain\\lib\\site-packages (from chromadb) (1.62.2)\n",
      "Requirement already satisfied: bcrypt>=4.0.1 in c:\\users\\playdata\\miniconda3\\envs\\langchain\\lib\\site-packages (from chromadb) (4.2.1)\n",
      "Requirement already satisfied: typer>=0.9.0 in c:\\users\\playdata\\miniconda3\\envs\\langchain\\lib\\site-packages (from chromadb) (0.15.1)\n",
      "Requirement already satisfied: kubernetes>=28.1.0 in c:\\users\\playdata\\miniconda3\\envs\\langchain\\lib\\site-packages (from chromadb) (31.0.0)\n",
      "Requirement already satisfied: mmh3>=4.0.1 in c:\\users\\playdata\\miniconda3\\envs\\langchain\\lib\\site-packages (from chromadb) (5.0.1)\n",
      "Requirement already satisfied: orjson>=3.9.12 in c:\\users\\playdata\\miniconda3\\envs\\langchain\\lib\\site-packages (from chromadb) (3.10.12)\n",
      "Requirement already satisfied: httpx>=0.27.0 in c:\\users\\playdata\\miniconda3\\envs\\langchain\\lib\\site-packages (from chromadb) (0.27.2)\n",
      "Requirement already satisfied: rich>=10.11.0 in c:\\users\\playdata\\miniconda3\\envs\\langchain\\lib\\site-packages (from chromadb) (13.9.4)\n",
      "Requirement already satisfied: aiohappyeyeballs>=2.3.0 in c:\\users\\playdata\\miniconda3\\envs\\langchain\\lib\\site-packages (from aiohttp<4.0.0,>=3.8.3->langchain) (2.4.4)\n",
      "Requirement already satisfied: aiosignal>=1.1.2 in c:\\users\\playdata\\miniconda3\\envs\\langchain\\lib\\site-packages (from aiohttp<4.0.0,>=3.8.3->langchain) (1.3.1)\n",
      "Requirement already satisfied: attrs>=17.3.0 in c:\\users\\playdata\\miniconda3\\envs\\langchain\\lib\\site-packages (from aiohttp<4.0.0,>=3.8.3->langchain) (24.2.0)\n",
      "Requirement already satisfied: frozenlist>=1.1.1 in c:\\users\\playdata\\miniconda3\\envs\\langchain\\lib\\site-packages (from aiohttp<4.0.0,>=3.8.3->langchain) (1.5.0)\n",
      "Requirement already satisfied: multidict<7.0,>=4.5 in c:\\users\\playdata\\miniconda3\\envs\\langchain\\lib\\site-packages (from aiohttp<4.0.0,>=3.8.3->langchain) (6.1.0)\n",
      "Requirement already satisfied: propcache>=0.2.0 in c:\\users\\playdata\\miniconda3\\envs\\langchain\\lib\\site-packages (from aiohttp<4.0.0,>=3.8.3->langchain) (0.2.1)\n",
      "Requirement already satisfied: yarl<2.0,>=1.17.0 in c:\\users\\playdata\\miniconda3\\envs\\langchain\\lib\\site-packages (from aiohttp<4.0.0,>=3.8.3->langchain) (1.18.3)\n",
      "Requirement already satisfied: packaging>=19.1 in c:\\users\\playdata\\miniconda3\\envs\\langchain\\lib\\site-packages (from build>=1.0.3->chromadb) (24.2)\n",
      "Requirement already satisfied: pyproject_hooks in c:\\users\\playdata\\miniconda3\\envs\\langchain\\lib\\site-packages (from build>=1.0.3->chromadb) (1.2.0)\n",
      "Requirement already satisfied: colorama in c:\\users\\playdata\\miniconda3\\envs\\langchain\\lib\\site-packages (from build>=1.0.3->chromadb) (0.4.6)\n",
      "Requirement already satisfied: starlette<0.42.0,>=0.40.0 in c:\\users\\playdata\\miniconda3\\envs\\langchain\\lib\\site-packages (from fastapi>=0.95.2->chromadb) (0.41.3)\n",
      "Requirement already satisfied: anyio in c:\\users\\playdata\\miniconda3\\envs\\langchain\\lib\\site-packages (from httpx>=0.27.0->chromadb) (4.6.2.post1)\n",
      "Requirement already satisfied: certifi in c:\\users\\playdata\\miniconda3\\envs\\langchain\\lib\\site-packages (from httpx>=0.27.0->chromadb) (2024.8.30)\n",
      "Requirement already satisfied: httpcore==1.* in c:\\users\\playdata\\miniconda3\\envs\\langchain\\lib\\site-packages (from httpx>=0.27.0->chromadb) (1.0.7)\n",
      "Requirement already satisfied: idna in c:\\users\\playdata\\miniconda3\\envs\\langchain\\lib\\site-packages (from httpx>=0.27.0->chromadb) (3.10)\n",
      "Requirement already satisfied: sniffio in c:\\users\\playdata\\miniconda3\\envs\\langchain\\lib\\site-packages (from httpx>=0.27.0->chromadb) (1.3.1)\n",
      "Requirement already satisfied: h11<0.15,>=0.13 in c:\\users\\playdata\\miniconda3\\envs\\langchain\\lib\\site-packages (from httpcore==1.*->httpx>=0.27.0->chromadb) (0.14.0)\n",
      "Requirement already satisfied: six>=1.9.0 in c:\\users\\playdata\\miniconda3\\envs\\langchain\\lib\\site-packages (from kubernetes>=28.1.0->chromadb) (1.16.0)\n",
      "Requirement already satisfied: python-dateutil>=2.5.3 in c:\\users\\playdata\\miniconda3\\envs\\langchain\\lib\\site-packages (from kubernetes>=28.1.0->chromadb) (2.9.0.post0)\n",
      "Requirement already satisfied: google-auth>=1.0.1 in c:\\users\\playdata\\miniconda3\\envs\\langchain\\lib\\site-packages (from kubernetes>=28.1.0->chromadb) (2.36.0)\n",
      "Requirement already satisfied: websocket-client!=0.40.0,!=0.41.*,!=0.42.*,>=0.32.0 in c:\\users\\playdata\\miniconda3\\envs\\langchain\\lib\\site-packages (from kubernetes>=28.1.0->chromadb) (1.8.0)\n",
      "Requirement already satisfied: requests-oauthlib in c:\\users\\playdata\\miniconda3\\envs\\langchain\\lib\\site-packages (from kubernetes>=28.1.0->chromadb) (2.0.0)\n",
      "Requirement already satisfied: oauthlib>=3.2.2 in c:\\users\\playdata\\miniconda3\\envs\\langchain\\lib\\site-packages (from kubernetes>=28.1.0->chromadb) (3.2.2)\n",
      "Requirement already satisfied: urllib3>=1.24.2 in c:\\users\\playdata\\miniconda3\\envs\\langchain\\lib\\site-packages (from kubernetes>=28.1.0->chromadb) (2.2.3)\n",
      "Requirement already satisfied: durationpy>=0.7 in c:\\users\\playdata\\miniconda3\\envs\\langchain\\lib\\site-packages (from kubernetes>=28.1.0->chromadb) (0.9)\n",
      "Requirement already satisfied: jsonpatch<2.0,>=1.33 in c:\\users\\playdata\\miniconda3\\envs\\langchain\\lib\\site-packages (from langchain-core<0.4.0,>=0.3.26->langchain) (1.33)\n",
      "Requirement already satisfied: requests-toolbelt<2.0.0,>=1.0.0 in c:\\users\\playdata\\miniconda3\\envs\\langchain\\lib\\site-packages (from langsmith<0.3,>=0.1.17->langchain) (1.0.0)\n",
      "Requirement already satisfied: coloredlogs in c:\\users\\playdata\\miniconda3\\envs\\langchain\\lib\\site-packages (from onnxruntime>=1.14.1->chromadb) (15.0.1)\n",
      "Requirement already satisfied: flatbuffers in c:\\users\\playdata\\miniconda3\\envs\\langchain\\lib\\site-packages (from onnxruntime>=1.14.1->chromadb) (24.3.25)\n",
      "Requirement already satisfied: protobuf in c:\\users\\playdata\\miniconda3\\envs\\langchain\\lib\\site-packages (from onnxruntime>=1.14.1->chromadb) (4.25.3)\n",
      "Requirement already satisfied: sympy in c:\\users\\playdata\\miniconda3\\envs\\langchain\\lib\\site-packages (from onnxruntime>=1.14.1->chromadb) (1.13.1)\n",
      "Requirement already satisfied: deprecated>=1.2.6 in c:\\users\\playdata\\miniconda3\\envs\\langchain\\lib\\site-packages (from opentelemetry-api>=1.2.0->chromadb) (1.2.15)\n",
      "Requirement already satisfied: importlib-metadata<=8.5.0,>=6.0 in c:\\users\\playdata\\miniconda3\\envs\\langchain\\lib\\site-packages (from opentelemetry-api>=1.2.0->chromadb) (8.5.0)\n",
      "Requirement already satisfied: backoff<3.0.0,>=1.10.0 in c:\\users\\playdata\\miniconda3\\envs\\langchain\\lib\\site-packages (from opentelemetry-exporter-otlp-proto-grpc>=1.2.0->chromadb) (1.11.1)\n",
      "Requirement already satisfied: googleapis-common-protos~=1.52 in c:\\users\\playdata\\miniconda3\\envs\\langchain\\lib\\site-packages (from opentelemetry-exporter-otlp-proto-grpc>=1.2.0->chromadb) (1.66.0)\n",
      "Requirement already satisfied: opentelemetry-proto==1.15.0 in c:\\users\\playdata\\miniconda3\\envs\\langchain\\lib\\site-packages (from opentelemetry-exporter-otlp-proto-grpc>=1.2.0->chromadb) (1.15.0)\n",
      "Requirement already satisfied: opentelemetry-instrumentation-asgi==0.50b0 in c:\\users\\playdata\\miniconda3\\envs\\langchain\\lib\\site-packages (from opentelemetry-instrumentation-fastapi>=0.41b0->chromadb) (0.50b0)\n",
      "Requirement already satisfied: opentelemetry-instrumentation==0.50b0 in c:\\users\\playdata\\miniconda3\\envs\\langchain\\lib\\site-packages (from opentelemetry-instrumentation-fastapi>=0.41b0->chromadb) (0.50b0)\n",
      "Requirement already satisfied: opentelemetry-semantic-conventions==0.50b0 in c:\\users\\playdata\\miniconda3\\envs\\langchain\\lib\\site-packages (from opentelemetry-instrumentation-fastapi>=0.41b0->chromadb) (0.50b0)\n",
      "Requirement already satisfied: opentelemetry-util-http==0.50b0 in c:\\users\\playdata\\miniconda3\\envs\\langchain\\lib\\site-packages (from opentelemetry-instrumentation-fastapi>=0.41b0->chromadb) (0.50b0)\n",
      "Requirement already satisfied: wrapt<2.0.0,>=1.0.0 in c:\\users\\playdata\\miniconda3\\envs\\langchain\\lib\\site-packages (from opentelemetry-instrumentation==0.50b0->opentelemetry-instrumentation-fastapi>=0.41b0->chromadb) (1.17.0)\n",
      "Requirement already satisfied: asgiref~=3.0 in c:\\users\\playdata\\miniconda3\\envs\\langchain\\lib\\site-packages (from opentelemetry-instrumentation-asgi==0.50b0->opentelemetry-instrumentation-fastapi>=0.41b0->chromadb) (3.8.1)\n",
      "Requirement already satisfied: monotonic>=1.5 in c:\\users\\playdata\\miniconda3\\envs\\langchain\\lib\\site-packages (from posthog>=2.4.0->chromadb) (1.6)\n",
      "Requirement already satisfied: annotated-types>=0.6.0 in c:\\users\\playdata\\miniconda3\\envs\\langchain\\lib\\site-packages (from pydantic<3.0.0,>=2.7.4->langchain) (0.7.0)\n",
      "Requirement already satisfied: pydantic-core==2.27.1 in c:\\users\\playdata\\miniconda3\\envs\\langchain\\lib\\site-packages (from pydantic<3.0.0,>=2.7.4->langchain) (2.27.1)\n",
      "Requirement already satisfied: charset_normalizer<4,>=2 in c:\\users\\playdata\\miniconda3\\envs\\langchain\\lib\\site-packages (from requests<3,>=2->langchain) (3.4.0)\n",
      "Requirement already satisfied: markdown-it-py>=2.2.0 in c:\\users\\playdata\\miniconda3\\envs\\langchain\\lib\\site-packages (from rich>=10.11.0->chromadb) (3.0.0)\n",
      "Requirement already satisfied: pygments<3.0.0,>=2.13.0 in c:\\users\\playdata\\miniconda3\\envs\\langchain\\lib\\site-packages (from rich>=10.11.0->chromadb) (2.18.0)\n",
      "Requirement already satisfied: greenlet!=0.4.17 in c:\\users\\playdata\\miniconda3\\envs\\langchain\\lib\\site-packages (from SQLAlchemy<3,>=1.4->langchain) (3.1.1)\n",
      "Requirement already satisfied: huggingface-hub<1.0,>=0.16.4 in c:\\users\\playdata\\miniconda3\\envs\\langchain\\lib\\site-packages (from tokenizers<=0.20.3,>=0.13.2->chromadb) (0.26.3)\n",
      "Requirement already satisfied: click>=8.0.0 in c:\\users\\playdata\\miniconda3\\envs\\langchain\\lib\\site-packages (from typer>=0.9.0->chromadb) (8.1.7)\n",
      "Requirement already satisfied: shellingham>=1.3.0 in c:\\users\\playdata\\miniconda3\\envs\\langchain\\lib\\site-packages (from typer>=0.9.0->chromadb) (1.5.4)\n",
      "Requirement already satisfied: httptools>=0.6.3 in c:\\users\\playdata\\miniconda3\\envs\\langchain\\lib\\site-packages (from uvicorn[standard]>=0.18.3->chromadb) (0.6.4)\n",
      "Requirement already satisfied: python-dotenv>=0.13 in c:\\users\\playdata\\miniconda3\\envs\\langchain\\lib\\site-packages (from uvicorn[standard]>=0.18.3->chromadb) (1.0.1)\n",
      "Requirement already satisfied: watchfiles>=0.13 in c:\\users\\playdata\\miniconda3\\envs\\langchain\\lib\\site-packages (from uvicorn[standard]>=0.18.3->chromadb) (1.0.3)\n",
      "Requirement already satisfied: websockets>=10.4 in c:\\users\\playdata\\miniconda3\\envs\\langchain\\lib\\site-packages (from uvicorn[standard]>=0.18.3->chromadb) (14.1)\n",
      "Requirement already satisfied: cachetools<6.0,>=2.0.0 in c:\\users\\playdata\\miniconda3\\envs\\langchain\\lib\\site-packages (from google-auth>=1.0.1->kubernetes>=28.1.0->chromadb) (5.5.0)\n",
      "Requirement already satisfied: pyasn1-modules>=0.2.1 in c:\\users\\playdata\\miniconda3\\envs\\langchain\\lib\\site-packages (from google-auth>=1.0.1->kubernetes>=28.1.0->chromadb) (0.4.1)\n",
      "Requirement already satisfied: rsa<5,>=3.1.4 in c:\\users\\playdata\\miniconda3\\envs\\langchain\\lib\\site-packages (from google-auth>=1.0.1->kubernetes>=28.1.0->chromadb) (4.9)\n",
      "Requirement already satisfied: filelock in c:\\users\\playdata\\miniconda3\\envs\\langchain\\lib\\site-packages (from huggingface-hub<1.0,>=0.16.4->tokenizers<=0.20.3,>=0.13.2->chromadb) (3.16.1)\n",
      "Requirement already satisfied: fsspec>=2023.5.0 in c:\\users\\playdata\\miniconda3\\envs\\langchain\\lib\\site-packages (from huggingface-hub<1.0,>=0.16.4->tokenizers<=0.20.3,>=0.13.2->chromadb) (2024.9.0)\n",
      "Requirement already satisfied: zipp>=3.20 in c:\\users\\playdata\\miniconda3\\envs\\langchain\\lib\\site-packages (from importlib-metadata<=8.5.0,>=6.0->opentelemetry-api>=1.2.0->chromadb) (3.21.0)\n",
      "Requirement already satisfied: jsonpointer>=1.9 in c:\\users\\playdata\\miniconda3\\envs\\langchain\\lib\\site-packages (from jsonpatch<2.0,>=1.33->langchain-core<0.4.0,>=0.3.26->langchain) (3.0.0)\n",
      "Requirement already satisfied: mdurl~=0.1 in c:\\users\\playdata\\miniconda3\\envs\\langchain\\lib\\site-packages (from markdown-it-py>=2.2.0->rich>=10.11.0->chromadb) (0.1.2)\n",
      "Requirement already satisfied: humanfriendly>=9.1 in c:\\users\\playdata\\miniconda3\\envs\\langchain\\lib\\site-packages (from coloredlogs->onnxruntime>=1.14.1->chromadb) (10.0)\n",
      "Requirement already satisfied: mpmath<1.4,>=1.1.0 in c:\\users\\playdata\\miniconda3\\envs\\langchain\\lib\\site-packages (from sympy->onnxruntime>=1.14.1->chromadb) (1.3.0)\n",
      "Requirement already satisfied: pyreadline3 in c:\\users\\playdata\\miniconda3\\envs\\langchain\\lib\\site-packages (from humanfriendly>=9.1->coloredlogs->onnxruntime>=1.14.1->chromadb) (0.0.0)\n",
      "Requirement already satisfied: pyasn1<0.7.0,>=0.4.6 in c:\\users\\playdata\\miniconda3\\envs\\langchain\\lib\\site-packages (from pyasn1-modules>=0.2.1->google-auth>=1.0.1->kubernetes>=28.1.0->chromadb) (0.6.1)\n",
      "Downloading langchain-0.3.13-py3-none-any.whl (1.0 MB)\n",
      "   ---------------------------------------- 0.0/1.0 MB ? eta -:--:--\n",
      "   -------------------- ------------------- 0.5/1.0 MB 3.4 MB/s eta 0:00:01\n",
      "   ---------------------------------------- 1.0/1.0 MB 2.8 MB/s eta 0:00:00\n",
      "Downloading langchain_core-0.3.28-py3-none-any.whl (411 kB)\n",
      "Downloading langchain_text_splitters-0.3.4-py3-none-any.whl (27 kB)\n",
      "Installing collected packages: langchain-core, langchain-text-splitters, langchain\n",
      "  Attempting uninstall: langchain-core\n",
      "    Found existing installation: langchain-core 0.3.22\n",
      "    Uninstalling langchain-core-0.3.22:\n",
      "      Successfully uninstalled langchain-core-0.3.22\n",
      "  Attempting uninstall: langchain-text-splitters\n",
      "    Found existing installation: langchain-text-splitters 0.3.2\n",
      "    Uninstalling langchain-text-splitters-0.3.2:\n",
      "      Successfully uninstalled langchain-text-splitters-0.3.2\n",
      "  Attempting uninstall: langchain\n",
      "    Found existing installation: langchain 0.3.9\n",
      "    Uninstalling langchain-0.3.9:\n",
      "      Successfully uninstalled langchain-0.3.9\n",
      "Successfully installed langchain-0.3.13 langchain-core-0.3.28 langchain-text-splitters-0.3.4\n",
      "Note: you may need to restart the kernel to use updated packages.\n"
     ]
    }
   ],
   "source": [
    "pip install --upgrade langchain chromadb"
   ]
  },
  {
   "cell_type": "code",
   "execution_count": 25,
   "id": "02d1d9ec",
   "metadata": {},
   "outputs": [
    {
     "data": {
      "text/plain": [
       "True"
      ]
     },
     "execution_count": 25,
     "metadata": {},
     "output_type": "execute_result"
    }
   ],
   "source": [
    "from langchain_community.document_loaders import PyMuPDFLoader\n",
    "from langchain.schema import Document  # LangChain 문서 클래스\n",
    "from langchain_chroma import Chroma\n",
    "from langchain_openai import OpenAIEmbeddings, ChatOpenAI\n",
    "from langchain_text_splitters import RecursiveCharacterTextSplitter\n",
    "from langchain.prompts import ChatPromptTemplate\n",
    "from langchain_core.runnables import RunnablePassthrough\n",
    "from langchain.globals import set_llm_cache\n",
    "from langchain.cache import SQLiteCache\n",
    "from langchain_core.output_parsers import StrOutputParser\n",
    "from langchain_core.vectorstores import InMemoryVectorStore\n",
    "from tabula import read_pdf\n",
    "from dotenv import load_dotenv\n",
    "\n",
    "load_dotenv()\n",
    "\n",
    "# # PDF 파일 경로\n",
    "# pdf_path = \"data/tax_law/2024_new_tax.pdf\"\n",
    "\n",
    "# # SQLite 캐시 설정\n",
    "# SQLiteCache(\".cache_prompt.sqlite\")\n",
    "\n",
    "# # Tabula로 PDF에서 표 데이터 읽기\n",
    "# tables = read_pdf(pdf_path, pages=\"all\", lattice=True, multiple_tables=True)\n",
    "\n",
    "# # 표 데이터를 텍스트로 변환\n",
    "# table_texts = [table.to_string(index=False, header=True) for table in tables]\n",
    "\n",
    "# # PyMuPDFLoader로 텍스트 데이터 로드\n",
    "# text_loader = PyMuPDFLoader(pdf_path)\n",
    "# texts = text_loader.load()  # 문서 리스트로 변환\n",
    "\n",
    "# # 표 텍스트를 LangChain Document 형식으로 변환\n",
    "# table_docs = [\n",
    "#     Document(page_content=text, metadata={\"source\": f\"Table {i + 1}\"})\n",
    "#     for i, text in enumerate(table_texts)\n",
    "# ]\n",
    "\n",
    "# # PyMuPDF에서 로드한 텍스트를 LangChain Document 형식으로 변환\n",
    "# text_docs = [\n",
    "#     Document(page_content=text.page_content, metadata=text.metadata)\n",
    "#     for text in texts\n",
    "# ]\n",
    "\n",
    "# # 텍스트 문서와 표 문서를 결합\n",
    "# all_docs = text_docs + table_docs\n",
    "# # Split\n",
    "# splitter = RecursiveCharacterTextSplitter.from_tiktoken_encoder(\n",
    "#     model_name=\"gpt-4o-mini\",\n",
    "#     chunk_size=1000,\n",
    "#     chunk_overlap=50,\n",
    "# )\n",
    "\n",
    "# # 문서 분리\n",
    "# split_docs = splitter.split_documents(all_docs)\n",
    "\n",
    "# # Vector Store 생성\n",
    "# SQLiteCache(\".cache_prompt.sqlite\")  # 캐시 설정\n",
    "# embedding_model = OpenAIEmbeddings(model=\"text-embedding-3-small\")\n",
    "# vector_store = Chroma.from_documents(\n",
    "#     documents=split_docs,\n",
    "#     embedding=embedding_model,\n",
    "#     collection_name=\"tax\",\n",
    "#     persist_directory=\"vector_store/chroma/tax\"\n",
    "# )\n",
    "\n",
    "# # Retriever 생성\n",
    "# retriever = vector_store.as_retriever(\n",
    "#     search_type=\"mmr\",\n",
    "#     search_kwargs={\"k\": 5, \"fetch_k\": 10}\n",
    "# )\n"
   ]
  },
  {
   "cell_type": "code",
   "execution_count": 28,
   "id": "673f840e",
   "metadata": {},
   "outputs": [
    {
     "name": "stderr",
     "output_type": "stream",
     "text": [
      "Processing PDF files:   0%|          | 0/71 [00:00<?, ?it/s]c:\\Users\\Playdata\\miniconda3\\envs\\langchain\\Lib\\site-packages\\langchain_community\\document_loaders\\parsers\\pdf.py:300: UserWarning: Warning: Empty content on page 0 of document data/tax_law\\2024_new_tax.pdf\n",
      "  warnings.warn(\n",
      "c:\\Users\\Playdata\\miniconda3\\envs\\langchain\\Lib\\site-packages\\langchain_community\\document_loaders\\parsers\\pdf.py:300: UserWarning: Warning: Empty content on page 1 of document data/tax_law\\2024_new_tax.pdf\n",
      "  warnings.warn(\n",
      "c:\\Users\\Playdata\\miniconda3\\envs\\langchain\\Lib\\site-packages\\langchain_community\\document_loaders\\parsers\\pdf.py:300: UserWarning: Warning: Empty content on page 15 of document data/tax_law\\2024_new_tax.pdf\n",
      "  warnings.warn(\n",
      "c:\\Users\\Playdata\\miniconda3\\envs\\langchain\\Lib\\site-packages\\langchain_community\\document_loaders\\parsers\\pdf.py:300: UserWarning: Warning: Empty content on page 17 of document data/tax_law\\2024_new_tax.pdf\n",
      "  warnings.warn(\n",
      "c:\\Users\\Playdata\\miniconda3\\envs\\langchain\\Lib\\site-packages\\langchain_community\\document_loaders\\parsers\\pdf.py:300: UserWarning: Warning: Empty content on page 43 of document data/tax_law\\2024_new_tax.pdf\n",
      "  warnings.warn(\n",
      "c:\\Users\\Playdata\\miniconda3\\envs\\langchain\\Lib\\site-packages\\langchain_community\\document_loaders\\parsers\\pdf.py:300: UserWarning: Warning: Empty content on page 71 of document data/tax_law\\2024_new_tax.pdf\n",
      "  warnings.warn(\n",
      "Processing PDF files: 100%|██████████| 71/71 [00:22<00:00,  3.19it/s]\n"
     ]
    },
    {
     "name": "stdout",
     "output_type": "stream",
     "text": [
      "모든 PDF File의의 작업이 완료되었습니다.\n"
     ]
    }
   ],
   "source": [
    "import os\n",
    "from tqdm import tqdm\n",
    "\n",
    "# SQLite 캐시 설정\n",
    "SQLiteCache(\".cache_prompt.sqlite\")\n",
    "\n",
    "# 임베딩 모델 초기화\n",
    "embedding_model = OpenAIEmbeddings(model=\"text-embedding-3-small\")\n",
    "\n",
    "# PDF 파일 경로\n",
    "pdf_dir = \"data/tax_law\" ## 실제 test용 \n",
    "# pdf_dir = \"data/tax_law_test\"  # 돈아끼기 실험용\n",
    "\n",
    "# 모든 PDF 파일 경로 가져오기\n",
    "pdf_files = [os.path.join(pdf_dir, f) for f in os.listdir(pdf_dir) if f.endswith(\".pdf\")]\n",
    "\n",
    "# 모든 문서 저장 리스트\n",
    "all_split_docs = []\n",
    "\n",
    "# PDF 파일 처리\n",
    "for pdf_path in tqdm(pdf_files, desc=\"Processing PDF files\"):\n",
    "    try:\n",
    "        # PyMuPDFLoader로 텍스트 데이터 로드\n",
    "        text_loader = PyMuPDFLoader(pdf_path)\n",
    "        texts = text_loader.load()  # 문서 리스트로 변환\n",
    "\n",
    "        # 표 데이터를 Tabula로 읽기\n",
    "        tables = read_pdf(pdf_path, pages=\"all\", lattice=True, multiple_tables=True)\n",
    "        table_texts = [table.to_string(index=False, header=True) for table in tables]\n",
    "\n",
    "        # 표 데이터를 LangChain Document 형식으로 변환\n",
    "        table_docs = [\n",
    "            Document(page_content=text, metadata={\"source\": f\"{pdf_path} - Table {i + 1}\"})\n",
    "            for i, text in enumerate(table_texts)\n",
    "        ]\n",
    "\n",
    "        # PyMuPDF에서 로드한 텍스트를 LangChain Document 형식으로 변환\n",
    "        text_docs = [\n",
    "            Document(page_content=text.page_content, metadata={\"source\": pdf_path})\n",
    "            for text in texts\n",
    "        ]\n",
    "\n",
    "        # 텍스트 문서와 표 문서를 결합\n",
    "        all_docs = text_docs + table_docs\n",
    "\n",
    "        # Split\n",
    "        splitter = RecursiveCharacterTextSplitter.from_tiktoken_encoder(\n",
    "            model_name=\"gpt-4o-mini\",\n",
    "            chunk_size=1000,\n",
    "            chunk_overlap=50,\n",
    "        )\n",
    "\n",
    "        # 문서를 청크로 분리\n",
    "        split_docs = splitter.split_documents(all_docs)\n",
    "        all_split_docs.extend(split_docs)\n",
    "\n",
    "    except Exception as e:\n",
    "        print(f\"Error processing {pdf_path}: {e}\")\n",
    "\n",
    "# Vector Store 생성 및 저장\n",
    "vector_store = Chroma.from_documents(\n",
    "    documents=all_split_docs,\n",
    "    embedding=embedding_model,\n",
    "    collection_name=\"tax\",\n",
    "    persist_directory=\"vector_store/chroma/tax\"  # 저장 경로\n",
    ")\n",
    "\n",
    "# 저장 작업은 Chroma 객체를 생성할 때 자동으로 처리됩니다.\n",
    "print(\"모든 PDF File의의 작업이 완료되었습니다.\")"
   ]
  },
  {
   "cell_type": "code",
   "execution_count": 29,
   "id": "4b43d044",
   "metadata": {},
   "outputs": [
    {
     "data": {
      "text/plain": [
       "Document(metadata={'source': 'data/tax_law\\\\증권거래세법_시행령.pdf'}, page_content='법제처                                                            4                                                       국가법령정보센터\\n증권거래세법 시행령\\n4. 주권등 매매계약서 사본(법 제3조제3호의 규정에 의한 납세의무자에 한한다)\\n5. 비과세양도명세서(법 제3조제1호의 규정에 의한 납세의무자에 한한다)\\n6. 기타 참고사항\\n②법 제10조제2항의 규정에 의한 증권거래세의 납부에 있어서는 증권거래세과세표준신고서와 함께 관할세무서장\\n에게 납부하거나 「국세징수법」에 의한 납부서에 증권거래세과세표준신고서를 첨부하여 한국은행(그 대리점을 포\\n함한다) 또는 체신관서에 납부하여야 한다.<개정 1996. 8. 22., 2005. 2. 19.>\\n③납세의무자가 사업장을 폐지한 때에는 그날부터 25일 이내에 폐지한 날이 속하는 달의 과세표준과 세액을 제1항\\n및 제2항의 규정에 의하여 신고하고 납부하여야 한다.<개정 2009. 2. 3.>\\n④법 제3조제1호의 규정에 의한 납세의무자는 증권거래세 신고ㆍ납부기한 종료일의 다음날부터 6월 이내에 한하\\n여 법 제10조제3항의 규정에 의한 환급을 할 수 있다.<신설 2000. 12. 29.>\\n[제목개정 2000. 12. 29.]\\n \\n제8조(경정) ①법 제11조제2항 단서에서 “대통령령이 정하는 경우”라 함은 다음 각호의 1에 해당하는 경우를 말한다.\\n<개정 2000. 12. 29.>\\n1. 과세표준을 계산함에 있어서 필요한 장부 기타 증빙서류가 없거나 중요한 부분이 미비 또는 허위인 때\\n2. 장부 기타의 증빙서류의 내용이 주권 등의 거래량에 비추어 신빙성이 없다고 인정될 때\\n②법 제11조제2항 단서의 규정에 의하여 추계에 의하여 결정 또는 경정하는 때에는 조사에 의하여 확인된 주권 등\\n의 거래량에 제4조 각호의 규정에 의하여 계산한 주권 등의 단위당 금액을 곱하여 과세표준과 세액을 계산한다.<개\\n정 1993. 12. 31., 2000. 12. 29.>\\n[제목개정 2000. 12. 29.]\\n \\n제8조의2 삭제 <2007. 2. 28.>\\n \\n제9조(장부의 비치ㆍ기장) 법 제15조제1항에서 규정하는 관계 장부에는 다음 각 호의 사항을 기재해야 한다. <개정\\n2009. 2. 3., 2022. 2. 15.>\\n1. 과세 및 비과세양도의 구분\\n2. 제6조의2 각 호의 사항 및 세액\\n3. 삭제<2009. 2. 3.>\\n4. 기타 참고 사항\\n \\n제10조(명령사항) 국세청장ㆍ관할지방국세청장 또는 관할세무서장은 법 제16조에 따라 납세의무자 및 금융투자업자에\\n게 전자계산조직의 사용방법, 과세 및 비과세양도의 구분표시, 주권등의 매매거래(법 제9조의2에 해당하는 양도를\\n포함한다)상황보고, 그 밖에 납세보전상 필요한 한도내에서 단속상 필요한 사항을 명령할 수 있다. <개정 1996. 8.\\n22., 2013. 2. 15.>\\n \\n제11조(질문ㆍ검사) 증권거래세에 관한 사무에 종사하는 공무원이 법 제17조의 규정에 의하여 질문 또는 검사를 할 때')"
      ]
     },
     "execution_count": 29,
     "metadata": {},
     "output_type": "execute_result"
    }
   ],
   "source": [
    "split_docs[-3]"
   ]
  },
  {
   "cell_type": "markdown",
   "id": "18f365d0",
   "metadata": {},
   "source": []
  },
  {
   "cell_type": "code",
   "execution_count": 34,
   "id": "ace68f09-666b-4e17-83e7-d5ecb64ef5e0",
   "metadata": {},
   "outputs": [],
   "source": [
    "# Prompt Template 생성\n",
    "messages = [\n",
    "        (\"ai\", \"\"\"\n",
    "        You are an expert assistant on tax law.. Answer question using only the following context. \n",
    "        If you don't know the answer, just say you don't know. Don't make it up. \n",
    "        Answer in Korean.\n",
    "        \n",
    "        {context}\")\"\"\"\n",
    "        ),\n",
    "        (\"human\", \"{question}\"),\n",
    "]\n",
    "prompt_template = ChatPromptTemplate(messages)\n",
    "# 모델\n",
    "model = ChatOpenAI(model=\"gpt-4o-mini\")\n",
    "\n",
    "# output parser\n",
    "parser = StrOutputParser()\n",
    "\n",
    "# Chain 구성 retriever(관련문서 조회) -> prompt_template(prompt 생성) -> model(정답) -> output parser\n",
    "chain = {\"context\":retriever, \"question\": RunnablePassthrough()} | prompt_template | model | parser\n",
    "\n"
   ]
  },
  {
   "cell_type": "code",
   "execution_count": 37,
   "id": "8413c65e",
   "metadata": {},
   "outputs": [
    {
     "data": {
      "text/plain": [
       "'네, 친환경자동차의 개별소비세에 대한 변동 사항이 있습니다. \\n\\n1. **감면 적용기한 연장 및 재설계**: \\n   - 하이브리드차, 전기차, 수소전기차에 대해 개별소비세 감면이 적용됩니다.\\n   - 하이브리드차는 대당 100만원에서 70만원으로 감면 한도가 축소되었습니다.\\n   - 적용기한은 2024년 12월 31일까지입니다.\\n\\n2. **감면 한도**:\\n   - 하이브리드차: 대당 70만원\\n   - 전기차: 대당 300만원\\n   - 수소전기차: 대당 400만원\\n\\n이러한 변경 사항은 2025년 1월 1일 이후 반출하거나 수입신고하는 경우부터 적용됩니다.'"
      ]
     },
     "execution_count": 37,
     "metadata": {},
     "output_type": "execute_result"
    }
   ],
   "source": [
    "chain.invoke(\"친환경자동차의 개별소비세에 대해 변한 사항이 있어? \")"
   ]
  },
  {
   "cell_type": "code",
   "execution_count": 36,
   "id": "7b2e44d6",
   "metadata": {},
   "outputs": [
    {
     "data": {
      "text/plain": [
       "'의료기술협력단을 기부금 손금산입 대상에 포함하는 사항이 변했습니다. 구체적으로, 특례기부금 단체 및 일반기부금 단체의 범위에 의료기술협력단이 추가되었습니다. \\n\\n- 특례기부금 단체에는 국가, 지방자치단체, 국립대학병원, 서울대학교병원, 사립학교가 운영하는 병원 등이 포함되며, 여기서 의료기술협력단이 설립한 병원이 추가되었습니다.\\n- 일반기부금 단체에도 사회복지법인, 어린이집, 유치원, 의료법인이 포함되며, 일반기부금 단체에 해당하는 병원이 설립하는 의료기술협력단도 추가되었습니다.\\n\\n적용 시기는 특례기부금은 2025년 1월 1일 이후 신고하는 분부터 적용되며, 일반기부금은 영 시행일 이후 신고하는 분부터 적용됩니다.'"
      ]
     },
     "execution_count": 36,
     "metadata": {},
     "output_type": "execute_result"
    }
   ],
   "source": [
    "chain.invoke(\"의료기술협력단을 기부금 손금산입 대상에 대해 변한 사항이 있어? \")\n"
   ]
  },
  {
   "cell_type": "code",
   "execution_count": 32,
   "id": "dfce54ff",
   "metadata": {},
   "outputs": [
    {
     "name": "stderr",
     "output_type": "stream",
     "text": [
      "C:\\Users\\Playdata\\AppData\\Local\\Temp\\ipykernel_6964\\769843488.py:4: PydanticDeprecatedSince20: The `dict` method is deprecated; use `model_dump` instead. Deprecated in Pydantic V2.0 to be removed in V3.0. See Pydantic V2 Migration Guide at https://errors.pydantic.dev/2.10/migration/\n",
      "  json.dump([doc.dict() for doc in all_split_docs], f, ensure_ascii=False, indent=4)\n"
     ]
    }
   ],
   "source": [
    "import json\n",
    "\n",
    "with open(\"processed_data.json\", \"w\", encoding=\"utf-8\") as f:\n",
    "    json.dump([doc.dict() for doc in all_split_docs], f, ensure_ascii=False, indent=4)"
   ]
  }
 ],
 "metadata": {
  "kernelspec": {
   "display_name": "langchain",
   "language": "python",
   "name": "python3"
  },
  "language_info": {
   "codemirror_mode": {
    "name": "ipython",
    "version": 3
   },
   "file_extension": ".py",
   "mimetype": "text/x-python",
   "name": "python",
   "nbconvert_exporter": "python",
   "pygments_lexer": "ipython3",
   "version": "3.12.7"
  }
 },
 "nbformat": 4,
 "nbformat_minor": 5
}
