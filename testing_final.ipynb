{
 "cells": [
  {
   "cell_type": "markdown",
   "id": "fce6b3aa-ecf9-4874-b71d-35d74c9e6574",
   "metadata": {},
   "source": [
    "# 2025 세법 개정본 반영"
   ]
  },
  {
   "cell_type": "code",
   "execution_count": 6,
   "id": "32fbff06",
   "metadata": {},
   "outputs": [
    {
     "name": "stdout",
     "output_type": "stream",
     "text": [
      "Requirement already satisfied: jpype1 in c:\\users\\playdata\\appdata\\local\\miniconda3\\envs\\langchain2\\lib\\site-packages (1.5.1)\n",
      "Requirement already satisfied: packaging in c:\\users\\playdata\\appdata\\local\\miniconda3\\envs\\langchain2\\lib\\site-packages (from jpype1) (24.2)\n",
      "Note: you may need to restart the kernel to use updated packages.\n"
     ]
    }
   ],
   "source": [
    "pip install jpype1"
   ]
  },
  {
   "cell_type": "code",
   "execution_count": 7,
   "id": "eed1843f",
   "metadata": {},
   "outputs": [
    {
     "name": "stdout",
     "output_type": "stream",
     "text": [
      "Requirement already satisfied: tabula-py in c:\\users\\playdata\\appdata\\local\\miniconda3\\envs\\langchain2\\lib\\site-packages (2.10.0)\n",
      "Requirement already satisfied: pandas>=0.25.3 in c:\\users\\playdata\\appdata\\local\\miniconda3\\envs\\langchain2\\lib\\site-packages (from tabula-py) (2.2.3)\n",
      "Requirement already satisfied: numpy>1.24.4 in c:\\users\\playdata\\appdata\\local\\miniconda3\\envs\\langchain2\\lib\\site-packages (from tabula-py) (1.26.4)\n",
      "Requirement already satisfied: distro in c:\\users\\playdata\\appdata\\local\\miniconda3\\envs\\langchain2\\lib\\site-packages (from tabula-py) (1.9.0)\n",
      "Requirement already satisfied: python-dateutil>=2.8.2 in c:\\users\\playdata\\appdata\\local\\miniconda3\\envs\\langchain2\\lib\\site-packages (from pandas>=0.25.3->tabula-py) (2.9.0.post0)\n",
      "Requirement already satisfied: pytz>=2020.1 in c:\\users\\playdata\\appdata\\local\\miniconda3\\envs\\langchain2\\lib\\site-packages (from pandas>=0.25.3->tabula-py) (2024.2)\n",
      "Requirement already satisfied: tzdata>=2022.7 in c:\\users\\playdata\\appdata\\local\\miniconda3\\envs\\langchain2\\lib\\site-packages (from pandas>=0.25.3->tabula-py) (2024.2)\n",
      "Requirement already satisfied: six>=1.5 in c:\\users\\playdata\\appdata\\local\\miniconda3\\envs\\langchain2\\lib\\site-packages (from python-dateutil>=2.8.2->pandas>=0.25.3->tabula-py) (1.17.0)\n",
      "Note: you may need to restart the kernel to use updated packages.\n"
     ]
    }
   ],
   "source": [
    "%pip install tabula-py"
   ]
  },
  {
   "cell_type": "code",
   "execution_count": 8,
   "id": "02f33671",
   "metadata": {},
   "outputs": [
    {
     "name": "stdout",
     "output_type": "stream",
     "text": [
      "Requirement already satisfied: langchain in c:\\users\\playdata\\appdata\\local\\miniconda3\\envs\\langchain2\\lib\\site-packages (0.3.13)Note: you may need to restart the kernel to use updated packages.\n",
      "\n",
      "Requirement already satisfied: chromadb in c:\\users\\playdata\\appdata\\local\\miniconda3\\envs\\langchain2\\lib\\site-packages (0.5.23)\n",
      "Requirement already satisfied: PyYAML>=5.3 in c:\\users\\playdata\\appdata\\local\\miniconda3\\envs\\langchain2\\lib\\site-packages (from langchain) (6.0.2)\n",
      "Requirement already satisfied: SQLAlchemy<3,>=1.4 in c:\\users\\playdata\\appdata\\local\\miniconda3\\envs\\langchain2\\lib\\site-packages (from langchain) (2.0.36)\n",
      "Requirement already satisfied: aiohttp<4.0.0,>=3.8.3 in c:\\users\\playdata\\appdata\\local\\miniconda3\\envs\\langchain2\\lib\\site-packages (from langchain) (3.11.10)\n",
      "Requirement already satisfied: langchain-core<0.4.0,>=0.3.26 in c:\\users\\playdata\\appdata\\local\\miniconda3\\envs\\langchain2\\lib\\site-packages (from langchain) (0.3.28)\n",
      "Requirement already satisfied: langchain-text-splitters<0.4.0,>=0.3.3 in c:\\users\\playdata\\appdata\\local\\miniconda3\\envs\\langchain2\\lib\\site-packages (from langchain) (0.3.4)\n",
      "Requirement already satisfied: langsmith<0.3,>=0.1.17 in c:\\users\\playdata\\appdata\\local\\miniconda3\\envs\\langchain2\\lib\\site-packages (from langchain) (0.2.2)\n",
      "Requirement already satisfied: numpy<3,>=1.26.2 in c:\\users\\playdata\\appdata\\local\\miniconda3\\envs\\langchain2\\lib\\site-packages (from langchain) (1.26.4)\n",
      "Requirement already satisfied: pydantic<3.0.0,>=2.7.4 in c:\\users\\playdata\\appdata\\local\\miniconda3\\envs\\langchain2\\lib\\site-packages (from langchain) (2.10.3)\n",
      "Requirement already satisfied: requests<3,>=2 in c:\\users\\playdata\\appdata\\local\\miniconda3\\envs\\langchain2\\lib\\site-packages (from langchain) (2.32.3)\n",
      "Requirement already satisfied: tenacity!=8.4.0,<10,>=8.1.0 in c:\\users\\playdata\\appdata\\local\\miniconda3\\envs\\langchain2\\lib\\site-packages (from langchain) (9.0.0)\n",
      "Requirement already satisfied: build>=1.0.3 in c:\\users\\playdata\\appdata\\local\\miniconda3\\envs\\langchain2\\lib\\site-packages (from chromadb) (1.2.2.post1)\n",
      "Requirement already satisfied: chroma-hnswlib==0.7.6 in c:\\users\\playdata\\appdata\\local\\miniconda3\\envs\\langchain2\\lib\\site-packages (from chromadb) (0.7.6)\n",
      "Requirement already satisfied: fastapi>=0.95.2 in c:\\users\\playdata\\appdata\\local\\miniconda3\\envs\\langchain2\\lib\\site-packages (from chromadb) (0.115.6)\n",
      "Requirement already satisfied: uvicorn>=0.18.3 in c:\\users\\playdata\\appdata\\local\\miniconda3\\envs\\langchain2\\lib\\site-packages (from uvicorn[standard]>=0.18.3->chromadb) (0.32.1)\n",
      "Requirement already satisfied: posthog>=2.4.0 in c:\\users\\playdata\\appdata\\local\\miniconda3\\envs\\langchain2\\lib\\site-packages (from chromadb) (3.6.5)\n",
      "Requirement already satisfied: typing_extensions>=4.5.0 in c:\\users\\playdata\\appdata\\local\\miniconda3\\envs\\langchain2\\lib\\site-packages (from chromadb) (4.12.2)\n",
      "Requirement already satisfied: onnxruntime>=1.14.1 in c:\\users\\playdata\\appdata\\local\\miniconda3\\envs\\langchain2\\lib\\site-packages (from chromadb) (1.17.0)\n",
      "Requirement already satisfied: opentelemetry-api>=1.2.0 in c:\\users\\playdata\\appdata\\local\\miniconda3\\envs\\langchain2\\lib\\site-packages (from chromadb) (1.28.2)\n",
      "Requirement already satisfied: opentelemetry-exporter-otlp-proto-grpc>=1.2.0 in c:\\users\\playdata\\appdata\\local\\miniconda3\\envs\\langchain2\\lib\\site-packages (from chromadb) (1.15.0)\n",
      "Requirement already satisfied: opentelemetry-instrumentation-fastapi>=0.41b0 in c:\\users\\playdata\\appdata\\local\\miniconda3\\envs\\langchain2\\lib\\site-packages (from chromadb) (0.49b2)\n",
      "Requirement already satisfied: opentelemetry-sdk>=1.2.0 in c:\\users\\playdata\\appdata\\local\\miniconda3\\envs\\langchain2\\lib\\site-packages (from chromadb) (1.28.2)\n",
      "Requirement already satisfied: tokenizers<=0.20.3,>=0.13.2 in c:\\users\\playdata\\appdata\\local\\miniconda3\\envs\\langchain2\\lib\\site-packages (from chromadb) (0.20.3)\n",
      "Requirement already satisfied: pypika>=0.48.9 in c:\\users\\playdata\\appdata\\local\\miniconda3\\envs\\langchain2\\lib\\site-packages (from chromadb) (0.48.9)\n",
      "Requirement already satisfied: tqdm>=4.65.0 in c:\\users\\playdata\\appdata\\local\\miniconda3\\envs\\langchain2\\lib\\site-packages (from chromadb) (4.67.1)\n",
      "Requirement already satisfied: overrides>=7.3.1 in c:\\users\\playdata\\appdata\\local\\miniconda3\\envs\\langchain2\\lib\\site-packages (from chromadb) (7.7.0)\n",
      "Requirement already satisfied: importlib-resources in c:\\users\\playdata\\appdata\\local\\miniconda3\\envs\\langchain2\\lib\\site-packages (from chromadb) (6.4.5)\n",
      "Requirement already satisfied: grpcio>=1.58.0 in c:\\users\\playdata\\appdata\\local\\miniconda3\\envs\\langchain2\\lib\\site-packages (from chromadb) (1.62.2)\n",
      "Requirement already satisfied: bcrypt>=4.0.1 in c:\\users\\playdata\\appdata\\local\\miniconda3\\envs\\langchain2\\lib\\site-packages (from chromadb) (4.2.1)\n",
      "Requirement already satisfied: typer>=0.9.0 in c:\\users\\playdata\\appdata\\local\\miniconda3\\envs\\langchain2\\lib\\site-packages (from chromadb) (0.15.1)\n",
      "Requirement already satisfied: kubernetes>=28.1.0 in c:\\users\\playdata\\appdata\\local\\miniconda3\\envs\\langchain2\\lib\\site-packages (from chromadb) (31.0.0)\n",
      "Requirement already satisfied: mmh3>=4.0.1 in c:\\users\\playdata\\appdata\\local\\miniconda3\\envs\\langchain2\\lib\\site-packages (from chromadb) (5.0.1)\n",
      "Requirement already satisfied: orjson>=3.9.12 in c:\\users\\playdata\\appdata\\local\\miniconda3\\envs\\langchain2\\lib\\site-packages (from chromadb) (3.10.12)\n",
      "Requirement already satisfied: httpx>=0.27.0 in c:\\users\\playdata\\appdata\\local\\miniconda3\\envs\\langchain2\\lib\\site-packages (from chromadb) (0.27.2)\n",
      "Requirement already satisfied: rich>=10.11.0 in c:\\users\\playdata\\appdata\\local\\miniconda3\\envs\\langchain2\\lib\\site-packages (from chromadb) (13.9.4)\n",
      "Requirement already satisfied: aiohappyeyeballs>=2.3.0 in c:\\users\\playdata\\appdata\\local\\miniconda3\\envs\\langchain2\\lib\\site-packages (from aiohttp<4.0.0,>=3.8.3->langchain) (2.4.4)\n",
      "Requirement already satisfied: aiosignal>=1.1.2 in c:\\users\\playdata\\appdata\\local\\miniconda3\\envs\\langchain2\\lib\\site-packages (from aiohttp<4.0.0,>=3.8.3->langchain) (1.3.1)\n",
      "Requirement already satisfied: attrs>=17.3.0 in c:\\users\\playdata\\appdata\\local\\miniconda3\\envs\\langchain2\\lib\\site-packages (from aiohttp<4.0.0,>=3.8.3->langchain) (24.2.0)\n",
      "Requirement already satisfied: frozenlist>=1.1.1 in c:\\users\\playdata\\appdata\\local\\miniconda3\\envs\\langchain2\\lib\\site-packages (from aiohttp<4.0.0,>=3.8.3->langchain) (1.5.0)\n",
      "Requirement already satisfied: multidict<7.0,>=4.5 in c:\\users\\playdata\\appdata\\local\\miniconda3\\envs\\langchain2\\lib\\site-packages (from aiohttp<4.0.0,>=3.8.3->langchain) (6.1.0)\n",
      "Requirement already satisfied: propcache>=0.2.0 in c:\\users\\playdata\\appdata\\local\\miniconda3\\envs\\langchain2\\lib\\site-packages (from aiohttp<4.0.0,>=3.8.3->langchain) (0.2.1)\n",
      "Requirement already satisfied: yarl<2.0,>=1.17.0 in c:\\users\\playdata\\appdata\\local\\miniconda3\\envs\\langchain2\\lib\\site-packages (from aiohttp<4.0.0,>=3.8.3->langchain) (1.18.3)\n",
      "Requirement already satisfied: packaging>=19.1 in c:\\users\\playdata\\appdata\\local\\miniconda3\\envs\\langchain2\\lib\\site-packages (from build>=1.0.3->chromadb) (24.2)\n",
      "Requirement already satisfied: pyproject_hooks in c:\\users\\playdata\\appdata\\local\\miniconda3\\envs\\langchain2\\lib\\site-packages (from build>=1.0.3->chromadb) (1.2.0)\n",
      "Requirement already satisfied: colorama in c:\\users\\playdata\\appdata\\local\\miniconda3\\envs\\langchain2\\lib\\site-packages (from build>=1.0.3->chromadb) (0.4.6)\n",
      "Requirement already satisfied: starlette<0.42.0,>=0.40.0 in c:\\users\\playdata\\appdata\\local\\miniconda3\\envs\\langchain2\\lib\\site-packages (from fastapi>=0.95.2->chromadb) (0.41.3)\n",
      "Requirement already satisfied: anyio in c:\\users\\playdata\\appdata\\local\\miniconda3\\envs\\langchain2\\lib\\site-packages (from httpx>=0.27.0->chromadb) (4.7.0)\n",
      "Requirement already satisfied: certifi in c:\\users\\playdata\\appdata\\local\\miniconda3\\envs\\langchain2\\lib\\site-packages (from httpx>=0.27.0->chromadb) (2024.8.30)\n",
      "Requirement already satisfied: httpcore==1.* in c:\\users\\playdata\\appdata\\local\\miniconda3\\envs\\langchain2\\lib\\site-packages (from httpx>=0.27.0->chromadb) (1.0.7)\n",
      "Requirement already satisfied: idna in c:\\users\\playdata\\appdata\\local\\miniconda3\\envs\\langchain2\\lib\\site-packages (from httpx>=0.27.0->chromadb) (3.10)\n",
      "Requirement already satisfied: sniffio in c:\\users\\playdata\\appdata\\local\\miniconda3\\envs\\langchain2\\lib\\site-packages (from httpx>=0.27.0->chromadb) (1.3.1)\n",
      "Requirement already satisfied: h11<0.15,>=0.13 in c:\\users\\playdata\\appdata\\local\\miniconda3\\envs\\langchain2\\lib\\site-packages (from httpcore==1.*->httpx>=0.27.0->chromadb) (0.14.0)\n",
      "Requirement already satisfied: six>=1.9.0 in c:\\users\\playdata\\appdata\\local\\miniconda3\\envs\\langchain2\\lib\\site-packages (from kubernetes>=28.1.0->chromadb) (1.17.0)\n",
      "Requirement already satisfied: python-dateutil>=2.5.3 in c:\\users\\playdata\\appdata\\local\\miniconda3\\envs\\langchain2\\lib\\site-packages (from kubernetes>=28.1.0->chromadb) (2.9.0.post0)\n",
      "Requirement already satisfied: google-auth>=1.0.1 in c:\\users\\playdata\\appdata\\local\\miniconda3\\envs\\langchain2\\lib\\site-packages (from kubernetes>=28.1.0->chromadb) (2.36.0)\n",
      "Requirement already satisfied: websocket-client!=0.40.0,!=0.41.*,!=0.42.*,>=0.32.0 in c:\\users\\playdata\\appdata\\local\\miniconda3\\envs\\langchain2\\lib\\site-packages (from kubernetes>=28.1.0->chromadb) (1.8.0)\n",
      "Requirement already satisfied: requests-oauthlib in c:\\users\\playdata\\appdata\\local\\miniconda3\\envs\\langchain2\\lib\\site-packages (from kubernetes>=28.1.0->chromadb) (2.0.0)\n",
      "Requirement already satisfied: oauthlib>=3.2.2 in c:\\users\\playdata\\appdata\\local\\miniconda3\\envs\\langchain2\\lib\\site-packages (from kubernetes>=28.1.0->chromadb) (3.2.2)\n",
      "Requirement already satisfied: urllib3>=1.24.2 in c:\\users\\playdata\\appdata\\local\\miniconda3\\envs\\langchain2\\lib\\site-packages (from kubernetes>=28.1.0->chromadb) (2.2.3)\n",
      "Requirement already satisfied: durationpy>=0.7 in c:\\users\\playdata\\appdata\\local\\miniconda3\\envs\\langchain2\\lib\\site-packages (from kubernetes>=28.1.0->chromadb) (0.9)\n",
      "Requirement already satisfied: jsonpatch<2.0,>=1.33 in c:\\users\\playdata\\appdata\\local\\miniconda3\\envs\\langchain2\\lib\\site-packages (from langchain-core<0.4.0,>=0.3.26->langchain) (1.33)\n",
      "Requirement already satisfied: requests-toolbelt<2.0.0,>=1.0.0 in c:\\users\\playdata\\appdata\\local\\miniconda3\\envs\\langchain2\\lib\\site-packages (from langsmith<0.3,>=0.1.17->langchain) (1.0.0)\n",
      "Requirement already satisfied: coloredlogs in c:\\users\\playdata\\appdata\\local\\miniconda3\\envs\\langchain2\\lib\\site-packages (from onnxruntime>=1.14.1->chromadb) (15.0.1)\n",
      "Requirement already satisfied: flatbuffers in c:\\users\\playdata\\appdata\\local\\miniconda3\\envs\\langchain2\\lib\\site-packages (from onnxruntime>=1.14.1->chromadb) (24.3.25)\n",
      "Requirement already satisfied: protobuf in c:\\users\\playdata\\appdata\\local\\miniconda3\\envs\\langchain2\\lib\\site-packages (from onnxruntime>=1.14.1->chromadb) (4.25.3)\n",
      "Requirement already satisfied: sympy in c:\\users\\playdata\\appdata\\local\\miniconda3\\envs\\langchain2\\lib\\site-packages (from onnxruntime>=1.14.1->chromadb) (1.13.1)\n",
      "Requirement already satisfied: deprecated>=1.2.6 in c:\\users\\playdata\\appdata\\local\\miniconda3\\envs\\langchain2\\lib\\site-packages (from opentelemetry-api>=1.2.0->chromadb) (1.2.15)\n",
      "Requirement already satisfied: importlib-metadata<=8.5.0,>=6.0 in c:\\users\\playdata\\appdata\\local\\miniconda3\\envs\\langchain2\\lib\\site-packages (from opentelemetry-api>=1.2.0->chromadb) (7.0.2)\n",
      "Requirement already satisfied: backoff<3.0.0,>=1.10.0 in c:\\users\\playdata\\appdata\\local\\miniconda3\\envs\\langchain2\\lib\\site-packages (from opentelemetry-exporter-otlp-proto-grpc>=1.2.0->chromadb) (1.11.1)\n",
      "Requirement already satisfied: googleapis-common-protos~=1.52 in c:\\users\\playdata\\appdata\\local\\miniconda3\\envs\\langchain2\\lib\\site-packages (from opentelemetry-exporter-otlp-proto-grpc>=1.2.0->chromadb) (1.66.0)\n",
      "Requirement already satisfied: opentelemetry-proto==1.15.0 in c:\\users\\playdata\\appdata\\local\\miniconda3\\envs\\langchain2\\lib\\site-packages (from opentelemetry-exporter-otlp-proto-grpc>=1.2.0->chromadb) (1.15.0)\n",
      "Requirement already satisfied: opentelemetry-instrumentation-asgi==0.49b2 in c:\\users\\playdata\\appdata\\local\\miniconda3\\envs\\langchain2\\lib\\site-packages (from opentelemetry-instrumentation-fastapi>=0.41b0->chromadb) (0.49b2)\n",
      "Requirement already satisfied: opentelemetry-instrumentation==0.49b2 in c:\\users\\playdata\\appdata\\local\\miniconda3\\envs\\langchain2\\lib\\site-packages (from opentelemetry-instrumentation-fastapi>=0.41b0->chromadb) (0.49b2)\n",
      "Requirement already satisfied: opentelemetry-semantic-conventions==0.49b2 in c:\\users\\playdata\\appdata\\local\\miniconda3\\envs\\langchain2\\lib\\site-packages (from opentelemetry-instrumentation-fastapi>=0.41b0->chromadb) (0.49b2)\n",
      "Requirement already satisfied: opentelemetry-util-http==0.49b2 in c:\\users\\playdata\\appdata\\local\\miniconda3\\envs\\langchain2\\lib\\site-packages (from opentelemetry-instrumentation-fastapi>=0.41b0->chromadb) (0.49b2)\n",
      "Requirement already satisfied: wrapt<2.0.0,>=1.0.0 in c:\\users\\playdata\\appdata\\local\\miniconda3\\envs\\langchain2\\lib\\site-packages (from opentelemetry-instrumentation==0.49b2->opentelemetry-instrumentation-fastapi>=0.41b0->chromadb) (1.17.0)\n",
      "Requirement already satisfied: asgiref~=3.0 in c:\\users\\playdata\\appdata\\local\\miniconda3\\envs\\langchain2\\lib\\site-packages (from opentelemetry-instrumentation-asgi==0.49b2->opentelemetry-instrumentation-fastapi>=0.41b0->chromadb) (3.8.1)\n",
      "Requirement already satisfied: monotonic>=1.5 in c:\\users\\playdata\\appdata\\local\\miniconda3\\envs\\langchain2\\lib\\site-packages (from posthog>=2.4.0->chromadb) (1.5)\n",
      "Requirement already satisfied: annotated-types>=0.6.0 in c:\\users\\playdata\\appdata\\local\\miniconda3\\envs\\langchain2\\lib\\site-packages (from pydantic<3.0.0,>=2.7.4->langchain) (0.7.0)\n",
      "Requirement already satisfied: pydantic-core==2.27.1 in c:\\users\\playdata\\appdata\\local\\miniconda3\\envs\\langchain2\\lib\\site-packages (from pydantic<3.0.0,>=2.7.4->langchain) (2.27.1)\n",
      "Requirement already satisfied: charset_normalizer<4,>=2 in c:\\users\\playdata\\appdata\\local\\miniconda3\\envs\\langchain2\\lib\\site-packages (from requests<3,>=2->langchain) (3.4.0)\n",
      "Requirement already satisfied: markdown-it-py>=2.2.0 in c:\\users\\playdata\\appdata\\local\\miniconda3\\envs\\langchain2\\lib\\site-packages (from rich>=10.11.0->chromadb) (3.0.0)\n",
      "Requirement already satisfied: pygments<3.0.0,>=2.13.0 in c:\\users\\playdata\\appdata\\local\\miniconda3\\envs\\langchain2\\lib\\site-packages (from rich>=10.11.0->chromadb) (2.18.0)\n",
      "Requirement already satisfied: greenlet!=0.4.17 in c:\\users\\playdata\\appdata\\local\\miniconda3\\envs\\langchain2\\lib\\site-packages (from SQLAlchemy<3,>=1.4->langchain) (3.1.1)\n",
      "Requirement already satisfied: huggingface-hub<1.0,>=0.16.4 in c:\\users\\playdata\\appdata\\local\\miniconda3\\envs\\langchain2\\lib\\site-packages (from tokenizers<=0.20.3,>=0.13.2->chromadb) (0.26.5)\n",
      "Requirement already satisfied: click>=8.0.0 in c:\\users\\playdata\\appdata\\local\\miniconda3\\envs\\langchain2\\lib\\site-packages (from typer>=0.9.0->chromadb) (8.1.7)\n",
      "Requirement already satisfied: shellingham>=1.3.0 in c:\\users\\playdata\\appdata\\local\\miniconda3\\envs\\langchain2\\lib\\site-packages (from typer>=0.9.0->chromadb) (1.5.4)\n",
      "Requirement already satisfied: httptools>=0.6.3 in c:\\users\\playdata\\appdata\\local\\miniconda3\\envs\\langchain2\\lib\\site-packages (from uvicorn[standard]>=0.18.3->chromadb) (0.6.4)\n",
      "Requirement already satisfied: python-dotenv>=0.13 in c:\\users\\playdata\\appdata\\local\\miniconda3\\envs\\langchain2\\lib\\site-packages (from uvicorn[standard]>=0.18.3->chromadb) (1.0.1)\n",
      "Requirement already satisfied: watchfiles>=0.13 in c:\\users\\playdata\\appdata\\local\\miniconda3\\envs\\langchain2\\lib\\site-packages (from uvicorn[standard]>=0.18.3->chromadb) (1.0.0)\n",
      "Requirement already satisfied: websockets>=10.4 in c:\\users\\playdata\\appdata\\local\\miniconda3\\envs\\langchain2\\lib\\site-packages (from uvicorn[standard]>=0.18.3->chromadb) (14.1)\n",
      "Requirement already satisfied: cachetools<6.0,>=2.0.0 in c:\\users\\playdata\\appdata\\local\\miniconda3\\envs\\langchain2\\lib\\site-packages (from google-auth>=1.0.1->kubernetes>=28.1.0->chromadb) (5.5.0)\n",
      "Requirement already satisfied: pyasn1-modules>=0.2.1 in c:\\users\\playdata\\appdata\\local\\miniconda3\\envs\\langchain2\\lib\\site-packages (from google-auth>=1.0.1->kubernetes>=28.1.0->chromadb) (0.4.1)\n",
      "Requirement already satisfied: rsa<5,>=3.1.4 in c:\\users\\playdata\\appdata\\local\\miniconda3\\envs\\langchain2\\lib\\site-packages (from google-auth>=1.0.1->kubernetes>=28.1.0->chromadb) (4.9)\n",
      "Requirement already satisfied: filelock in c:\\users\\playdata\\appdata\\local\\miniconda3\\envs\\langchain2\\lib\\site-packages (from huggingface-hub<1.0,>=0.16.4->tokenizers<=0.20.3,>=0.13.2->chromadb) (3.16.1)\n",
      "Requirement already satisfied: fsspec>=2023.5.0 in c:\\users\\playdata\\appdata\\local\\miniconda3\\envs\\langchain2\\lib\\site-packages (from huggingface-hub<1.0,>=0.16.4->tokenizers<=0.20.3,>=0.13.2->chromadb) (2024.9.0)\n",
      "Requirement already satisfied: zipp>=0.5 in c:\\users\\playdata\\appdata\\local\\miniconda3\\envs\\langchain2\\lib\\site-packages (from importlib-metadata<=8.5.0,>=6.0->opentelemetry-api>=1.2.0->chromadb) (3.21.0)\n",
      "Requirement already satisfied: jsonpointer>=1.9 in c:\\users\\playdata\\appdata\\local\\miniconda3\\envs\\langchain2\\lib\\site-packages (from jsonpatch<2.0,>=1.33->langchain-core<0.4.0,>=0.3.26->langchain) (3.0.0)\n",
      "Requirement already satisfied: mdurl~=0.1 in c:\\users\\playdata\\appdata\\local\\miniconda3\\envs\\langchain2\\lib\\site-packages (from markdown-it-py>=2.2.0->rich>=10.11.0->chromadb) (0.1.2)\n",
      "Requirement already satisfied: humanfriendly>=9.1 in c:\\users\\playdata\\appdata\\local\\miniconda3\\envs\\langchain2\\lib\\site-packages (from coloredlogs->onnxruntime>=1.14.1->chromadb) (10.0)\n",
      "Requirement already satisfied: mpmath<1.4,>=1.1.0 in c:\\users\\playdata\\appdata\\local\\miniconda3\\envs\\langchain2\\lib\\site-packages (from sympy->onnxruntime>=1.14.1->chromadb) (1.3.0)\n",
      "Requirement already satisfied: pyreadline3 in c:\\users\\playdata\\appdata\\local\\miniconda3\\envs\\langchain2\\lib\\site-packages (from humanfriendly>=9.1->coloredlogs->onnxruntime>=1.14.1->chromadb) (0.0.0)\n",
      "Requirement already satisfied: pyasn1<0.7.0,>=0.4.6 in c:\\users\\playdata\\appdata\\local\\miniconda3\\envs\\langchain2\\lib\\site-packages (from pyasn1-modules>=0.2.1->google-auth>=1.0.1->kubernetes>=28.1.0->chromadb) (0.6.1)\n"
     ]
    }
   ],
   "source": [
    "pip install --upgrade langchain chromadb"
   ]
  },
  {
   "cell_type": "code",
   "execution_count": 9,
   "id": "ba06585f",
   "metadata": {},
   "outputs": [
    {
     "name": "stdout",
     "output_type": "stream",
     "text": [
      "Requirement already satisfied: requests-cache in c:\\users\\playdata\\appdata\\local\\miniconda3\\envs\\langchain2\\lib\\site-packages (1.2.1)\n",
      "Requirement already satisfied: attrs>=21.2 in c:\\users\\playdata\\appdata\\local\\miniconda3\\envs\\langchain2\\lib\\site-packages (from requests-cache) (24.2.0)\n",
      "Requirement already satisfied: cattrs>=22.2 in c:\\users\\playdata\\appdata\\local\\miniconda3\\envs\\langchain2\\lib\\site-packages (from requests-cache) (24.1.2)\n",
      "Requirement already satisfied: platformdirs>=2.5 in c:\\users\\playdata\\appdata\\local\\miniconda3\\envs\\langchain2\\lib\\site-packages (from requests-cache) (4.3.6)\n",
      "Requirement already satisfied: requests>=2.22 in c:\\users\\playdata\\appdata\\local\\miniconda3\\envs\\langchain2\\lib\\site-packages (from requests-cache) (2.32.3)\n",
      "Requirement already satisfied: url-normalize>=1.4 in c:\\users\\playdata\\appdata\\local\\miniconda3\\envs\\langchain2\\lib\\site-packages (from requests-cache) (1.4.3)\n",
      "Requirement already satisfied: urllib3>=1.25.5 in c:\\users\\playdata\\appdata\\local\\miniconda3\\envs\\langchain2\\lib\\site-packages (from requests-cache) (2.2.3)\n",
      "Requirement already satisfied: charset_normalizer<4,>=2 in c:\\users\\playdata\\appdata\\local\\miniconda3\\envs\\langchain2\\lib\\site-packages (from requests>=2.22->requests-cache) (3.4.0)\n",
      "Requirement already satisfied: idna<4,>=2.5 in c:\\users\\playdata\\appdata\\local\\miniconda3\\envs\\langchain2\\lib\\site-packages (from requests>=2.22->requests-cache) (3.10)\n",
      "Requirement already satisfied: certifi>=2017.4.17 in c:\\users\\playdata\\appdata\\local\\miniconda3\\envs\\langchain2\\lib\\site-packages (from requests>=2.22->requests-cache) (2024.8.30)\n",
      "Requirement already satisfied: six in c:\\users\\playdata\\appdata\\local\\miniconda3\\envs\\langchain2\\lib\\site-packages (from url-normalize>=1.4->requests-cache) (1.17.0)\n",
      "Note: you may need to restart the kernel to use updated packages.\n"
     ]
    }
   ],
   "source": [
    "pip install requests-cache"
   ]
  },
  {
   "cell_type": "code",
   "execution_count": null,
   "id": "327022c6",
   "metadata": {},
   "outputs": [
    {
     "name": "stdout",
     "output_type": "stream",
     "text": [
      "Processing data/tax_law\\2024_new_tax.pdf...\n"
     ]
    }
   ],
   "source": [
    "import os\n",
    "from tqdm import tqdm\n",
    "from tabula import read_pdf\n",
    "from langchain.document_loaders import PyMuPDFLoader\n",
    "from langchain.schema import Document\n",
    "from langchain.prompts import ChatPromptTemplate\n",
    "from langchain.text_splitter import RecursiveCharacterTextSplitter\n",
    "from langchain.embeddings import OpenAIEmbeddings\n",
    "from langchain.vectorstores import Chroma\n",
    "from langchain.cache import SQLiteCache\n",
    "from langchain_openai import OpenAIEmbeddings, ChatOpenAI\n",
    "from langchain_core.runnables import RunnablePassthrough\n",
    "from langchain.globals import set_llm_cache\n",
    "from langchain.cache import SQLiteCache\n",
    "from langchain_core.output_parsers import StrOutputParser\n",
    "from langchain_core.vectorstores import InMemoryVectorStore\n",
    "from tabula import read_pdf\n",
    "from dotenv import load_dotenv\n",
    "\n",
    "load_dotenv()\n",
    "\n",
    "\n",
    "# 폴더 경로 설정\n",
    "pdf_folder = \"data/tax_law\"\n",
    "\n",
    "# 폴더 내 PDF 파일 목록 가져오기\n",
    "pdf_files = [os.path.join(pdf_folder, f) for f in os.listdir(pdf_folder) if f.endswith(\".pdf\")]\n",
    "\n",
    "# SQLite 캐시 설정\n",
    "SQLiteCache(\".cache_prompt.sqlite\")\n",
    "\n",
    "# 임베딩 모델 초기화\n",
    "embedding_model = OpenAIEmbeddings(model=\"text-embedding-3-large\")\n",
    "\n",
    "# 모든 PDF 처리\n",
    "all_docs = []\n",
    "for pdf_path in pdf_files:\n",
    "    print(f\"Processing {pdf_path}...\")\n",
    "\n",
    "    # Tabula로 PDF에서 표 데이터 읽기\n",
    "    try:\n",
    "        tables = read_pdf(pdf_path, pages=\"all\", stream=True, multiple_tables=True)\n",
    "        table_texts = [table.to_string(index=False, header=True) for table in tables]\n",
    "    except Exception as e:\n",
    "        print(f\"Tabula Error with {pdf_path}: {e}\")\n",
    "        table_texts = []\n",
    "\n",
    "    # PyMuPDFLoader로 텍스트 데이터 로드\n",
    "    try:\n",
    "        text_loader = PyMuPDFLoader(pdf_path)\n",
    "        texts = text_loader.load()  # 문서 리스트로 변환\n",
    "    except Exception as e:\n",
    "        print(f\"PyMuPDFLoader Error with {pdf_path}: {e}\")\n",
    "        texts = []\n",
    "\n",
    "    # 표 텍스트를 LangChain Document 형식으로 변환\n",
    "    table_docs = [\n",
    "        Document(page_content=text, metadata={\"source\": f\"{pdf_path} - Table {i + 1}\"})\n",
    "        for i, text in enumerate(table_texts)\n",
    "    ]\n",
    "\n",
    "    # PyMuPDF에서 로드한 텍스트를 LangChain Document 형식으로 변환\n",
    "    text_docs = [\n",
    "        Document(page_content=text.page_content, metadata={\"source\": pdf_path})\n",
    "        for text in texts\n",
    "    ]\n",
    "\n",
    "    # 텍스트 문서와 표 문서를 결합\n",
    "    all_docs.extend(text_docs + table_docs)\n",
    "\n",
    "# 텍스트를 청크로 분리\n",
    "splitter = RecursiveCharacterTextSplitter.from_tiktoken_encoder(\n",
    "    model_name=\"gpt-4o\",  # 사용하려는 모델 이름\n",
    "    chunk_size=1000,\n",
    "    chunk_overlap=50,\n",
    ")\n",
    "\n",
    "split_docs = splitter.split_documents(all_docs)\n",
    "\n",
    "# Vector Store 생성\n",
    "vector_store = Chroma.from_documents(\n",
    "    documents=split_docs,\n",
    "    embedding=embedding_model,\n",
    "    collection_name=\"tax\",\n",
    "    persist_directory=\"vector_store/chroma/tax\"\n",
    ")\n",
    "\n",
    "# Retriever 생성\n",
    "retriever = vector_store.as_retriever(\n",
    "    search_type=\"mmr\",\n",
    "    search_kwargs={\"k\": 10, \"fetch_k\": 10}\n",
    ")"
   ]
  },
  {
   "cell_type": "code",
   "execution_count": 9,
   "id": "4b43d044",
   "metadata": {},
   "outputs": [
    {
     "data": {
      "text/plain": [
       "Document(metadata={'source': 'data/tax_law\\\\증권거래세법_시행령.pdf'}, page_content='납세의무자의 인적사항, 변경 사유 등을 적은 본점일괄납부 변경신고서를 제출(국세정보통신망을 통한 제출을 포함\\n한다)하여야 한다.\\n1. 본점 또는 주사무소의 변경\\n2. 지점등의 신설ㆍ폐지\\n④ 본점 또는 주사무소 관할 세무서장은 제2항에 따라 본점일괄납부를 신고한 자가 다음 각 호의 어느 하나에 해당\\n하는 경우를 제외하고는 본점일괄납부 신고를 수리하여야 한다.\\n1. 본점일괄납부를 신고한 자가 신고일부터 과거 2년 이내에 「조세범처벌법」에 따라 처벌받은 경우\\n2. 본점일괄납부를 신고한 자가 신고일 현재 국세 또는 지방세를 체납하고 있는 경우\\n3. 그 밖에 사정의 변경으로 인하여 본점일괄납부가 적당하지 아니한 경우\\n⑤ 본점 또는 주사무소 관할 세무서장은 제4항에 따라 본점일괄납부 신고를 수리하거나 거부하는 경우에는 본점일\\n괄납부를 신고한 달의 말일까지 신고인에게 그 사실을 알려야 한다.')"
      ]
     },
     "execution_count": 9,
     "metadata": {},
     "output_type": "execute_result"
    }
   ],
   "source": [
    "split_docs[-8]"
   ]
  },
  {
   "cell_type": "markdown",
   "id": "18f365d0",
   "metadata": {},
   "source": []
  },
  {
   "cell_type": "code",
   "execution_count": 2,
   "id": "ace68f09-666b-4e17-83e7-d5ecb64ef5e0",
   "metadata": {},
   "outputs": [],
   "source": [
    "# Prompt Template 생성\n",
    "messages = [\n",
    "        (\"ai\", \"\"\"\n",
    "        You are an expert assistant. Answer question using only the following context. \n",
    "        If you don't know the answer, just say you don't know. Don't make it up. \n",
    "        Answer in Korean.\n",
    "        \n",
    "        {context}\")\"\"\"\n",
    "        ),\n",
    "        (\"human\", \"{question}\"),\n",
    "]\n",
    "prompt_template = ChatPromptTemplate(messages)\n",
    "# 모델\n",
    "model = ChatOpenAI(model=\"gpt-4o\")\n",
    "\n",
    "# output parser\n",
    "parser = StrOutputParser()\n",
    "\n",
    "# Chain 구성 retriever(관련문서 조회) -> prompt_template(prompt 생성) -> model(정답) -> output parser\n",
    "chain = {\"context\":retriever, \"question\": RunnablePassthrough()} | prompt_template | model | parser\n",
    "\n"
   ]
  },
  {
   "cell_type": "code",
   "execution_count": 3,
   "id": "8413c65e",
   "metadata": {},
   "outputs": [
    {
     "data": {
      "text/plain": [
       "'친환경차의 개별소비세 감면 적용 기한이 2024년 12월 31일에서 2026년 12월 31일까지 연장되었습니다. 또한, 하이브리드차의 개별소비세 감면 한도가 대당 100만 원에서 70만 원으로 축소되었습니다. 이 개정 사항은 2025년 1월 1일 이후 반출하거나 수입 신고하는 분부터 적용됩니다.'"
      ]
     },
     "execution_count": 3,
     "metadata": {},
     "output_type": "execute_result"
    }
   ],
   "source": [
    "chain.invoke(\"친환경자동차의 개별소비세에 대해 변한 사항이 있어? \")"
   ]
  },
  {
   "cell_type": "code",
   "execution_count": 4,
   "id": "7b2e44d6",
   "metadata": {},
   "outputs": [
    {
     "data": {
      "text/plain": [
       "'의료기술협력단을 기부금 손금산입 대상에 포함하는 변경 사항이 있습니다. 법인세법에 따르면, 의료기술협력단은 특례기부금 단체와 일반기부금 단체에 추가되었습니다. 특례기부금 단체에 해당하는 병원이 설립하는 의료기술협력단은 2025년 1월 1일 이후 신고하는 분부터 적용되며, 일반기부금 단체에 해당하는 병원이 설립하는 의료기술협력단은 영 시행일 이후 신고하는 분부터 적용됩니다. 이 개정은 의료기술협력단 설립 및 운영을 지원하기 위한 것입니다.'"
      ]
     },
     "execution_count": 4,
     "metadata": {},
     "output_type": "execute_result"
    }
   ],
   "source": [
    "chain.invoke(\"의료기술협력단을 기부금 손금산입 대상에 대해 변한 사항이 있어? \")\n"
   ]
  },
  {
   "cell_type": "code",
   "execution_count": 5,
   "id": "5c13d527",
   "metadata": {},
   "outputs": [
    {
     "data": {
      "text/plain": [
       "'연말정산 시 필요한 서류는 다음과 같습니다:\\n\\n1. 소득·세액공제 증명서류: 연말정산간소화 서비스를 통해 출력하거나 전산파일로 내려받아야 합니다.\\n2. 기부금명세서: 기부금을 공제받기 위해 필요합니다.\\n3. 의료비지급명세서: 의료비 공제를 받기 위해 필요합니다.\\n4. 신용카드 등 소득공제 신청서: 신용카드 사용에 대한 공제를 받기 위해 필요합니다.\\n5. 월세액 세액공제 명세서: 월세에 대한 세액공제를 받기 위해 필요한 서류입니다.\\n6. 기타 서류: 난임시술비나 취학 전아동 학원비 등 연말정산간소화 서비스에서 제공되지 않는 자료는 근로자가 직접 수집해야 합니다. \\n\\n각 서류는 회사에 제출하여 소득·세액공제신고서가 정확히 작성되었는지 확인받아야 합니다.'"
      ]
     },
     "execution_count": 5,
     "metadata": {},
     "output_type": "execute_result"
    }
   ],
   "source": [
    "chain.invoke(\"연말정산시 필요한 서류\")"
   ]
  },
  {
   "cell_type": "code",
   "execution_count": 6,
   "id": "73c0a37f",
   "metadata": {},
   "outputs": [
    {
     "data": {
      "text/plain": [
       "'교육세법은 교육의 질적 향상을 도모하기 위해 필요한 교육재정의 확충에 드는 재원을 확보하기 위한 목적으로 제정된 법률입니다.'"
      ]
     },
     "execution_count": 6,
     "metadata": {},
     "output_type": "execute_result"
    }
   ],
   "source": [
    "chain.invoke(\"교육세법이란\")"
   ]
  },
  {
   "cell_type": "code",
   "execution_count": 17,
   "id": "e975202d",
   "metadata": {},
   "outputs": [
    {
     "data": {
      "text/plain": [
       "'1세대 1주택자의 적용을 신청하려는 납세의무자는 기획재정부령으로 정하는 신청서를 관할세무서장에게 제출해야 합니다.'"
      ]
     },
     "execution_count": 17,
     "metadata": {},
     "output_type": "execute_result"
    }
   ],
   "source": [
    "chain.invoke(\"1세대 1주택자 적용 신청방법 알려줘\")"
   ]
  },
  {
   "cell_type": "code",
   "execution_count": 16,
   "id": "9a56cb8c",
   "metadata": {},
   "outputs": [
    {
     "data": {
      "text/plain": [
       "'죄송하지만 주택 수 산정 제외 신청 방법에 대한 정보는 제공되어 있지 않습니다. 다른 질문이 있으면 말씀해 주세요.'"
      ]
     },
     "execution_count": 16,
     "metadata": {},
     "output_type": "execute_result"
    }
   ],
   "source": [
    "chain.invoke(\"1세대 1주택자 판단 시 주택 수 산정 제외 신청 방법 알려줘\")"
   ]
  },
  {
   "cell_type": "code",
   "execution_count": 9,
   "id": "0f55bea6",
   "metadata": {},
   "outputs": [
    {
     "data": {
      "text/plain": [
       "'연말정산 이전에 근로소득 원천징수 시 중점적으로 확인해야 할 사항은 다음과 같습니다:\\n\\n1. **과세대상 근로소득 포함 항목**: \\n   - 파견수당, 자기차량운전보조금, 비과세 한도를 초과한 국외근로소득 등은 근로소득에 포함됩니다.\\n   - 현물식사와 별도로 지급받는 식사대, 비과세 아닌 학자금 및 자녀교육비 지원액 등도 근로소득으로 간주됩니다.\\n\\n2. **이중 근무자 확인**: \\n   - 재취직자 또는 2인 이상으로부터 근로소득이 있는 자에 대해 종(전) 근무지의 근로소득이 합산됐는지 확인해야 합니다.\\n\\n3. **전출·합병·법인전환 등 고용승계자 확인**: \\n   - 관계회사 또는 지점 간 전출·입 근로자 등의 연말정산 시 종(전) 근무지의 근로소득이 합산되었는지, 지급명세서 작성 시 근로소득이 구분되었는지 확인해야 합니다.\\n\\n이러한 사항들을 사전에 확인하여 과다공제에 따른 가산세 부담을 방지하는 것이 중요합니다.'"
      ]
     },
     "execution_count": 9,
     "metadata": {},
     "output_type": "execute_result"
    }
   ],
   "source": [
    "chain.invoke(\"연말정산이전 근로소득 원천징수 중점 확인사항 알려줘\")"
   ]
  },
  {
   "cell_type": "code",
   "execution_count": null,
   "id": "25763906",
   "metadata": {},
   "outputs": [],
   "source": []
  }
 ],
 "metadata": {
  "kernelspec": {
   "display_name": "langchain2",
   "language": "python",
   "name": "python3"
  },
  "language_info": {
   "codemirror_mode": {
    "name": "ipython",
    "version": 3
   },
   "file_extension": ".py",
   "mimetype": "text/x-python",
   "name": "python",
   "nbconvert_exporter": "python",
   "pygments_lexer": "ipython3",
   "version": "3.12.8"
  }
 },
 "nbformat": 4,
 "nbformat_minor": 5
}
